{
  "nbformat": 4,
  "nbformat_minor": 0,
  "metadata": {
    "colab": {
      "provenance": [],
      "gpuType": "T4"
    },
    "kernelspec": {
      "name": "python3",
      "display_name": "Python 3"
    },
    "language_info": {
      "name": "python"
    },
    "accelerator": "TPU",
    "gpuClass": "standard",
    "widgets": {
      "application/vnd.jupyter.widget-state+json": {
        "b84b77da5c3f4032b1791f0e32791234": {
          "model_module": "@jupyter-widgets/controls",
          "model_name": "HBoxModel",
          "model_module_version": "1.5.0",
          "state": {
            "_dom_classes": [],
            "_model_module": "@jupyter-widgets/controls",
            "_model_module_version": "1.5.0",
            "_model_name": "HBoxModel",
            "_view_count": null,
            "_view_module": "@jupyter-widgets/controls",
            "_view_module_version": "1.5.0",
            "_view_name": "HBoxView",
            "box_style": "",
            "children": [
              "IPY_MODEL_115780d1c15e4521954580d472857a11",
              "IPY_MODEL_4433ea5f64fb4efca53dc510507a6986",
              "IPY_MODEL_873b5b13f1af4f7a88754de087350a48"
            ],
            "layout": "IPY_MODEL_2249874a3764476b8d6039abd682335b"
          }
        },
        "115780d1c15e4521954580d472857a11": {
          "model_module": "@jupyter-widgets/controls",
          "model_name": "HTMLModel",
          "model_module_version": "1.5.0",
          "state": {
            "_dom_classes": [],
            "_model_module": "@jupyter-widgets/controls",
            "_model_module_version": "1.5.0",
            "_model_name": "HTMLModel",
            "_view_count": null,
            "_view_module": "@jupyter-widgets/controls",
            "_view_module_version": "1.5.0",
            "_view_name": "HTMLView",
            "description": "",
            "description_tooltip": null,
            "layout": "IPY_MODEL_2e16a4f193c74610a814dab37bbaa89c",
            "placeholder": "​",
            "style": "IPY_MODEL_84a5d21ce8994c6abcb49d0725bcac17",
            "value": "Processing: 100%"
          }
        },
        "4433ea5f64fb4efca53dc510507a6986": {
          "model_module": "@jupyter-widgets/controls",
          "model_name": "FloatProgressModel",
          "model_module_version": "1.5.0",
          "state": {
            "_dom_classes": [],
            "_model_module": "@jupyter-widgets/controls",
            "_model_module_version": "1.5.0",
            "_model_name": "FloatProgressModel",
            "_view_count": null,
            "_view_module": "@jupyter-widgets/controls",
            "_view_module_version": "1.5.0",
            "_view_name": "ProgressView",
            "bar_style": "",
            "description": "",
            "description_tooltip": null,
            "layout": "IPY_MODEL_fbbb72b50f2a4cdfbf541143d5b71065",
            "max": 65,
            "min": 0,
            "orientation": "horizontal",
            "style": "IPY_MODEL_c832079372c94bd6893b3904977ab653",
            "value": 65
          }
        },
        "873b5b13f1af4f7a88754de087350a48": {
          "model_module": "@jupyter-widgets/controls",
          "model_name": "HTMLModel",
          "model_module_version": "1.5.0",
          "state": {
            "_dom_classes": [],
            "_model_module": "@jupyter-widgets/controls",
            "_model_module_version": "1.5.0",
            "_model_name": "HTMLModel",
            "_view_count": null,
            "_view_module": "@jupyter-widgets/controls",
            "_view_module_version": "1.5.0",
            "_view_name": "HTMLView",
            "description": "",
            "description_tooltip": null,
            "layout": "IPY_MODEL_0adfe5ad411d47c29900e2a446989f76",
            "placeholder": "​",
            "style": "IPY_MODEL_38c621cb96614e0aaa0949b93029c89c",
            "value": " 65/65 [00:55&lt;00:00,  1.85it/s]"
          }
        },
        "2249874a3764476b8d6039abd682335b": {
          "model_module": "@jupyter-widgets/base",
          "model_name": "LayoutModel",
          "model_module_version": "1.2.0",
          "state": {
            "_model_module": "@jupyter-widgets/base",
            "_model_module_version": "1.2.0",
            "_model_name": "LayoutModel",
            "_view_count": null,
            "_view_module": "@jupyter-widgets/base",
            "_view_module_version": "1.2.0",
            "_view_name": "LayoutView",
            "align_content": null,
            "align_items": null,
            "align_self": null,
            "border": null,
            "bottom": null,
            "display": null,
            "flex": null,
            "flex_flow": null,
            "grid_area": null,
            "grid_auto_columns": null,
            "grid_auto_flow": null,
            "grid_auto_rows": null,
            "grid_column": null,
            "grid_gap": null,
            "grid_row": null,
            "grid_template_areas": null,
            "grid_template_columns": null,
            "grid_template_rows": null,
            "height": null,
            "justify_content": null,
            "justify_items": null,
            "left": null,
            "margin": null,
            "max_height": null,
            "max_width": null,
            "min_height": null,
            "min_width": null,
            "object_fit": null,
            "object_position": null,
            "order": null,
            "overflow": null,
            "overflow_x": null,
            "overflow_y": null,
            "padding": null,
            "right": null,
            "top": null,
            "visibility": "hidden",
            "width": null
          }
        },
        "2e16a4f193c74610a814dab37bbaa89c": {
          "model_module": "@jupyter-widgets/base",
          "model_name": "LayoutModel",
          "model_module_version": "1.2.0",
          "state": {
            "_model_module": "@jupyter-widgets/base",
            "_model_module_version": "1.2.0",
            "_model_name": "LayoutModel",
            "_view_count": null,
            "_view_module": "@jupyter-widgets/base",
            "_view_module_version": "1.2.0",
            "_view_name": "LayoutView",
            "align_content": null,
            "align_items": null,
            "align_self": null,
            "border": null,
            "bottom": null,
            "display": null,
            "flex": null,
            "flex_flow": null,
            "grid_area": null,
            "grid_auto_columns": null,
            "grid_auto_flow": null,
            "grid_auto_rows": null,
            "grid_column": null,
            "grid_gap": null,
            "grid_row": null,
            "grid_template_areas": null,
            "grid_template_columns": null,
            "grid_template_rows": null,
            "height": null,
            "justify_content": null,
            "justify_items": null,
            "left": null,
            "margin": null,
            "max_height": null,
            "max_width": null,
            "min_height": null,
            "min_width": null,
            "object_fit": null,
            "object_position": null,
            "order": null,
            "overflow": null,
            "overflow_x": null,
            "overflow_y": null,
            "padding": null,
            "right": null,
            "top": null,
            "visibility": null,
            "width": null
          }
        },
        "84a5d21ce8994c6abcb49d0725bcac17": {
          "model_module": "@jupyter-widgets/controls",
          "model_name": "DescriptionStyleModel",
          "model_module_version": "1.5.0",
          "state": {
            "_model_module": "@jupyter-widgets/controls",
            "_model_module_version": "1.5.0",
            "_model_name": "DescriptionStyleModel",
            "_view_count": null,
            "_view_module": "@jupyter-widgets/base",
            "_view_module_version": "1.2.0",
            "_view_name": "StyleView",
            "description_width": ""
          }
        },
        "fbbb72b50f2a4cdfbf541143d5b71065": {
          "model_module": "@jupyter-widgets/base",
          "model_name": "LayoutModel",
          "model_module_version": "1.2.0",
          "state": {
            "_model_module": "@jupyter-widgets/base",
            "_model_module_version": "1.2.0",
            "_model_name": "LayoutModel",
            "_view_count": null,
            "_view_module": "@jupyter-widgets/base",
            "_view_module_version": "1.2.0",
            "_view_name": "LayoutView",
            "align_content": null,
            "align_items": null,
            "align_self": null,
            "border": null,
            "bottom": null,
            "display": null,
            "flex": null,
            "flex_flow": null,
            "grid_area": null,
            "grid_auto_columns": null,
            "grid_auto_flow": null,
            "grid_auto_rows": null,
            "grid_column": null,
            "grid_gap": null,
            "grid_row": null,
            "grid_template_areas": null,
            "grid_template_columns": null,
            "grid_template_rows": null,
            "height": null,
            "justify_content": null,
            "justify_items": null,
            "left": null,
            "margin": null,
            "max_height": null,
            "max_width": null,
            "min_height": null,
            "min_width": null,
            "object_fit": null,
            "object_position": null,
            "order": null,
            "overflow": null,
            "overflow_x": null,
            "overflow_y": null,
            "padding": null,
            "right": null,
            "top": null,
            "visibility": null,
            "width": null
          }
        },
        "c832079372c94bd6893b3904977ab653": {
          "model_module": "@jupyter-widgets/controls",
          "model_name": "ProgressStyleModel",
          "model_module_version": "1.5.0",
          "state": {
            "_model_module": "@jupyter-widgets/controls",
            "_model_module_version": "1.5.0",
            "_model_name": "ProgressStyleModel",
            "_view_count": null,
            "_view_module": "@jupyter-widgets/base",
            "_view_module_version": "1.2.0",
            "_view_name": "StyleView",
            "bar_color": null,
            "description_width": ""
          }
        },
        "0adfe5ad411d47c29900e2a446989f76": {
          "model_module": "@jupyter-widgets/base",
          "model_name": "LayoutModel",
          "model_module_version": "1.2.0",
          "state": {
            "_model_module": "@jupyter-widgets/base",
            "_model_module_version": "1.2.0",
            "_model_name": "LayoutModel",
            "_view_count": null,
            "_view_module": "@jupyter-widgets/base",
            "_view_module_version": "1.2.0",
            "_view_name": "LayoutView",
            "align_content": null,
            "align_items": null,
            "align_self": null,
            "border": null,
            "bottom": null,
            "display": null,
            "flex": null,
            "flex_flow": null,
            "grid_area": null,
            "grid_auto_columns": null,
            "grid_auto_flow": null,
            "grid_auto_rows": null,
            "grid_column": null,
            "grid_gap": null,
            "grid_row": null,
            "grid_template_areas": null,
            "grid_template_columns": null,
            "grid_template_rows": null,
            "height": null,
            "justify_content": null,
            "justify_items": null,
            "left": null,
            "margin": null,
            "max_height": null,
            "max_width": null,
            "min_height": null,
            "min_width": null,
            "object_fit": null,
            "object_position": null,
            "order": null,
            "overflow": null,
            "overflow_x": null,
            "overflow_y": null,
            "padding": null,
            "right": null,
            "top": null,
            "visibility": null,
            "width": null
          }
        },
        "38c621cb96614e0aaa0949b93029c89c": {
          "model_module": "@jupyter-widgets/controls",
          "model_name": "DescriptionStyleModel",
          "model_module_version": "1.5.0",
          "state": {
            "_model_module": "@jupyter-widgets/controls",
            "_model_module_version": "1.5.0",
            "_model_name": "DescriptionStyleModel",
            "_view_count": null,
            "_view_module": "@jupyter-widgets/base",
            "_view_module_version": "1.2.0",
            "_view_name": "StyleView",
            "description_width": ""
          }
        },
        "8b8ab5abeef943e390905619ba6e7dd8": {
          "model_module": "@jupyter-widgets/controls",
          "model_name": "HBoxModel",
          "model_module_version": "1.5.0",
          "state": {
            "_dom_classes": [],
            "_model_module": "@jupyter-widgets/controls",
            "_model_module_version": "1.5.0",
            "_model_name": "HBoxModel",
            "_view_count": null,
            "_view_module": "@jupyter-widgets/controls",
            "_view_module_version": "1.5.0",
            "_view_name": "HBoxView",
            "box_style": "",
            "children": [
              "IPY_MODEL_212cc3af308144aebd4723eecb598636",
              "IPY_MODEL_8166068a09f145c29b52f136b3adb573",
              "IPY_MODEL_3d3659f7cc2a485c8104957178a080f3"
            ],
            "layout": "IPY_MODEL_fd64f4545ac0445d831a8034ba9944a2"
          }
        },
        "212cc3af308144aebd4723eecb598636": {
          "model_module": "@jupyter-widgets/controls",
          "model_name": "HTMLModel",
          "model_module_version": "1.5.0",
          "state": {
            "_dom_classes": [],
            "_model_module": "@jupyter-widgets/controls",
            "_model_module_version": "1.5.0",
            "_model_name": "HTMLModel",
            "_view_count": null,
            "_view_module": "@jupyter-widgets/controls",
            "_view_module_version": "1.5.0",
            "_view_name": "HTMLView",
            "description": "",
            "description_tooltip": null,
            "layout": "IPY_MODEL_7261c0f1401546708b96a53c49ff017f",
            "placeholder": "​",
            "style": "IPY_MODEL_f63df92479ea4f79887428ca2830c489",
            "value": "Processing: 100%"
          }
        },
        "8166068a09f145c29b52f136b3adb573": {
          "model_module": "@jupyter-widgets/controls",
          "model_name": "FloatProgressModel",
          "model_module_version": "1.5.0",
          "state": {
            "_dom_classes": [],
            "_model_module": "@jupyter-widgets/controls",
            "_model_module_version": "1.5.0",
            "_model_name": "FloatProgressModel",
            "_view_count": null,
            "_view_module": "@jupyter-widgets/controls",
            "_view_module_version": "1.5.0",
            "_view_name": "ProgressView",
            "bar_style": "",
            "description": "",
            "description_tooltip": null,
            "layout": "IPY_MODEL_f6694e0447574e939d660a479bfaba87",
            "max": 4,
            "min": 0,
            "orientation": "horizontal",
            "style": "IPY_MODEL_596e7b05830b4fda80bacc7d7abc5cd7",
            "value": 4
          }
        },
        "3d3659f7cc2a485c8104957178a080f3": {
          "model_module": "@jupyter-widgets/controls",
          "model_name": "HTMLModel",
          "model_module_version": "1.5.0",
          "state": {
            "_dom_classes": [],
            "_model_module": "@jupyter-widgets/controls",
            "_model_module_version": "1.5.0",
            "_model_name": "HTMLModel",
            "_view_count": null,
            "_view_module": "@jupyter-widgets/controls",
            "_view_module_version": "1.5.0",
            "_view_name": "HTMLView",
            "description": "",
            "description_tooltip": null,
            "layout": "IPY_MODEL_d79f1a9ea1794ca0a067d7722257431f",
            "placeholder": "​",
            "style": "IPY_MODEL_d57de86238814f9282bb96521ae4a4f7",
            "value": " 4/4 [00:10&lt;00:00,  2.29s/it]"
          }
        },
        "fd64f4545ac0445d831a8034ba9944a2": {
          "model_module": "@jupyter-widgets/base",
          "model_name": "LayoutModel",
          "model_module_version": "1.2.0",
          "state": {
            "_model_module": "@jupyter-widgets/base",
            "_model_module_version": "1.2.0",
            "_model_name": "LayoutModel",
            "_view_count": null,
            "_view_module": "@jupyter-widgets/base",
            "_view_module_version": "1.2.0",
            "_view_name": "LayoutView",
            "align_content": null,
            "align_items": null,
            "align_self": null,
            "border": null,
            "bottom": null,
            "display": null,
            "flex": null,
            "flex_flow": null,
            "grid_area": null,
            "grid_auto_columns": null,
            "grid_auto_flow": null,
            "grid_auto_rows": null,
            "grid_column": null,
            "grid_gap": null,
            "grid_row": null,
            "grid_template_areas": null,
            "grid_template_columns": null,
            "grid_template_rows": null,
            "height": null,
            "justify_content": null,
            "justify_items": null,
            "left": null,
            "margin": null,
            "max_height": null,
            "max_width": null,
            "min_height": null,
            "min_width": null,
            "object_fit": null,
            "object_position": null,
            "order": null,
            "overflow": null,
            "overflow_x": null,
            "overflow_y": null,
            "padding": null,
            "right": null,
            "top": null,
            "visibility": "hidden",
            "width": null
          }
        },
        "7261c0f1401546708b96a53c49ff017f": {
          "model_module": "@jupyter-widgets/base",
          "model_name": "LayoutModel",
          "model_module_version": "1.2.0",
          "state": {
            "_model_module": "@jupyter-widgets/base",
            "_model_module_version": "1.2.0",
            "_model_name": "LayoutModel",
            "_view_count": null,
            "_view_module": "@jupyter-widgets/base",
            "_view_module_version": "1.2.0",
            "_view_name": "LayoutView",
            "align_content": null,
            "align_items": null,
            "align_self": null,
            "border": null,
            "bottom": null,
            "display": null,
            "flex": null,
            "flex_flow": null,
            "grid_area": null,
            "grid_auto_columns": null,
            "grid_auto_flow": null,
            "grid_auto_rows": null,
            "grid_column": null,
            "grid_gap": null,
            "grid_row": null,
            "grid_template_areas": null,
            "grid_template_columns": null,
            "grid_template_rows": null,
            "height": null,
            "justify_content": null,
            "justify_items": null,
            "left": null,
            "margin": null,
            "max_height": null,
            "max_width": null,
            "min_height": null,
            "min_width": null,
            "object_fit": null,
            "object_position": null,
            "order": null,
            "overflow": null,
            "overflow_x": null,
            "overflow_y": null,
            "padding": null,
            "right": null,
            "top": null,
            "visibility": null,
            "width": null
          }
        },
        "f63df92479ea4f79887428ca2830c489": {
          "model_module": "@jupyter-widgets/controls",
          "model_name": "DescriptionStyleModel",
          "model_module_version": "1.5.0",
          "state": {
            "_model_module": "@jupyter-widgets/controls",
            "_model_module_version": "1.5.0",
            "_model_name": "DescriptionStyleModel",
            "_view_count": null,
            "_view_module": "@jupyter-widgets/base",
            "_view_module_version": "1.2.0",
            "_view_name": "StyleView",
            "description_width": ""
          }
        },
        "f6694e0447574e939d660a479bfaba87": {
          "model_module": "@jupyter-widgets/base",
          "model_name": "LayoutModel",
          "model_module_version": "1.2.0",
          "state": {
            "_model_module": "@jupyter-widgets/base",
            "_model_module_version": "1.2.0",
            "_model_name": "LayoutModel",
            "_view_count": null,
            "_view_module": "@jupyter-widgets/base",
            "_view_module_version": "1.2.0",
            "_view_name": "LayoutView",
            "align_content": null,
            "align_items": null,
            "align_self": null,
            "border": null,
            "bottom": null,
            "display": null,
            "flex": null,
            "flex_flow": null,
            "grid_area": null,
            "grid_auto_columns": null,
            "grid_auto_flow": null,
            "grid_auto_rows": null,
            "grid_column": null,
            "grid_gap": null,
            "grid_row": null,
            "grid_template_areas": null,
            "grid_template_columns": null,
            "grid_template_rows": null,
            "height": null,
            "justify_content": null,
            "justify_items": null,
            "left": null,
            "margin": null,
            "max_height": null,
            "max_width": null,
            "min_height": null,
            "min_width": null,
            "object_fit": null,
            "object_position": null,
            "order": null,
            "overflow": null,
            "overflow_x": null,
            "overflow_y": null,
            "padding": null,
            "right": null,
            "top": null,
            "visibility": null,
            "width": null
          }
        },
        "596e7b05830b4fda80bacc7d7abc5cd7": {
          "model_module": "@jupyter-widgets/controls",
          "model_name": "ProgressStyleModel",
          "model_module_version": "1.5.0",
          "state": {
            "_model_module": "@jupyter-widgets/controls",
            "_model_module_version": "1.5.0",
            "_model_name": "ProgressStyleModel",
            "_view_count": null,
            "_view_module": "@jupyter-widgets/base",
            "_view_module_version": "1.2.0",
            "_view_name": "StyleView",
            "bar_color": null,
            "description_width": ""
          }
        },
        "d79f1a9ea1794ca0a067d7722257431f": {
          "model_module": "@jupyter-widgets/base",
          "model_name": "LayoutModel",
          "model_module_version": "1.2.0",
          "state": {
            "_model_module": "@jupyter-widgets/base",
            "_model_module_version": "1.2.0",
            "_model_name": "LayoutModel",
            "_view_count": null,
            "_view_module": "@jupyter-widgets/base",
            "_view_module_version": "1.2.0",
            "_view_name": "LayoutView",
            "align_content": null,
            "align_items": null,
            "align_self": null,
            "border": null,
            "bottom": null,
            "display": null,
            "flex": null,
            "flex_flow": null,
            "grid_area": null,
            "grid_auto_columns": null,
            "grid_auto_flow": null,
            "grid_auto_rows": null,
            "grid_column": null,
            "grid_gap": null,
            "grid_row": null,
            "grid_template_areas": null,
            "grid_template_columns": null,
            "grid_template_rows": null,
            "height": null,
            "justify_content": null,
            "justify_items": null,
            "left": null,
            "margin": null,
            "max_height": null,
            "max_width": null,
            "min_height": null,
            "min_width": null,
            "object_fit": null,
            "object_position": null,
            "order": null,
            "overflow": null,
            "overflow_x": null,
            "overflow_y": null,
            "padding": null,
            "right": null,
            "top": null,
            "visibility": null,
            "width": null
          }
        },
        "d57de86238814f9282bb96521ae4a4f7": {
          "model_module": "@jupyter-widgets/controls",
          "model_name": "DescriptionStyleModel",
          "model_module_version": "1.5.0",
          "state": {
            "_model_module": "@jupyter-widgets/controls",
            "_model_module_version": "1.5.0",
            "_model_name": "DescriptionStyleModel",
            "_view_count": null,
            "_view_module": "@jupyter-widgets/base",
            "_view_module_version": "1.2.0",
            "_view_name": "StyleView",
            "description_width": ""
          }
        },
        "6a78e3b201a3455ca40cbb11cc7b5144": {
          "model_module": "@jupyter-widgets/controls",
          "model_name": "HBoxModel",
          "model_module_version": "1.5.0",
          "state": {
            "_dom_classes": [],
            "_model_module": "@jupyter-widgets/controls",
            "_model_module_version": "1.5.0",
            "_model_name": "HBoxModel",
            "_view_count": null,
            "_view_module": "@jupyter-widgets/controls",
            "_view_module_version": "1.5.0",
            "_view_name": "HBoxView",
            "box_style": "",
            "children": [
              "IPY_MODEL_ff7f7275c02d4288a955f093115181ae",
              "IPY_MODEL_6f1cebc84d234f6da9a8bd78bbd07a45",
              "IPY_MODEL_7913393cc48a441e82c0acd5c3506611"
            ],
            "layout": "IPY_MODEL_b425bb94554644f889517d9cb1c03f2d"
          }
        },
        "ff7f7275c02d4288a955f093115181ae": {
          "model_module": "@jupyter-widgets/controls",
          "model_name": "HTMLModel",
          "model_module_version": "1.5.0",
          "state": {
            "_dom_classes": [],
            "_model_module": "@jupyter-widgets/controls",
            "_model_module_version": "1.5.0",
            "_model_name": "HTMLModel",
            "_view_count": null,
            "_view_module": "@jupyter-widgets/controls",
            "_view_module_version": "1.5.0",
            "_view_name": "HTMLView",
            "description": "",
            "description_tooltip": null,
            "layout": "IPY_MODEL_d5e3754250354e6b87dabeeb6b556a3c",
            "placeholder": "​",
            "style": "IPY_MODEL_85a297370b5d49c2bbc34b5f15ba2e96",
            "value": "Processing: 100%"
          }
        },
        "6f1cebc84d234f6da9a8bd78bbd07a45": {
          "model_module": "@jupyter-widgets/controls",
          "model_name": "FloatProgressModel",
          "model_module_version": "1.5.0",
          "state": {
            "_dom_classes": [],
            "_model_module": "@jupyter-widgets/controls",
            "_model_module_version": "1.5.0",
            "_model_name": "FloatProgressModel",
            "_view_count": null,
            "_view_module": "@jupyter-widgets/controls",
            "_view_module_version": "1.5.0",
            "_view_name": "ProgressView",
            "bar_style": "",
            "description": "",
            "description_tooltip": null,
            "layout": "IPY_MODEL_9e1a2f3a014f4863bda1f9b0f7735bd4",
            "max": 65,
            "min": 0,
            "orientation": "horizontal",
            "style": "IPY_MODEL_0567ac22bc6f48b6b212060b90f4497b",
            "value": 65
          }
        },
        "7913393cc48a441e82c0acd5c3506611": {
          "model_module": "@jupyter-widgets/controls",
          "model_name": "HTMLModel",
          "model_module_version": "1.5.0",
          "state": {
            "_dom_classes": [],
            "_model_module": "@jupyter-widgets/controls",
            "_model_module_version": "1.5.0",
            "_model_name": "HTMLModel",
            "_view_count": null,
            "_view_module": "@jupyter-widgets/controls",
            "_view_module_version": "1.5.0",
            "_view_name": "HTMLView",
            "description": "",
            "description_tooltip": null,
            "layout": "IPY_MODEL_a828c9c1b83b4cb8b859db4ce845bd24",
            "placeholder": "​",
            "style": "IPY_MODEL_77ec98b64d014829963b73500f31afcc",
            "value": " 65/65 [01:02&lt;00:00,  2.72it/s]"
          }
        },
        "b425bb94554644f889517d9cb1c03f2d": {
          "model_module": "@jupyter-widgets/base",
          "model_name": "LayoutModel",
          "model_module_version": "1.2.0",
          "state": {
            "_model_module": "@jupyter-widgets/base",
            "_model_module_version": "1.2.0",
            "_model_name": "LayoutModel",
            "_view_count": null,
            "_view_module": "@jupyter-widgets/base",
            "_view_module_version": "1.2.0",
            "_view_name": "LayoutView",
            "align_content": null,
            "align_items": null,
            "align_self": null,
            "border": null,
            "bottom": null,
            "display": null,
            "flex": null,
            "flex_flow": null,
            "grid_area": null,
            "grid_auto_columns": null,
            "grid_auto_flow": null,
            "grid_auto_rows": null,
            "grid_column": null,
            "grid_gap": null,
            "grid_row": null,
            "grid_template_areas": null,
            "grid_template_columns": null,
            "grid_template_rows": null,
            "height": null,
            "justify_content": null,
            "justify_items": null,
            "left": null,
            "margin": null,
            "max_height": null,
            "max_width": null,
            "min_height": null,
            "min_width": null,
            "object_fit": null,
            "object_position": null,
            "order": null,
            "overflow": null,
            "overflow_x": null,
            "overflow_y": null,
            "padding": null,
            "right": null,
            "top": null,
            "visibility": "hidden",
            "width": null
          }
        },
        "d5e3754250354e6b87dabeeb6b556a3c": {
          "model_module": "@jupyter-widgets/base",
          "model_name": "LayoutModel",
          "model_module_version": "1.2.0",
          "state": {
            "_model_module": "@jupyter-widgets/base",
            "_model_module_version": "1.2.0",
            "_model_name": "LayoutModel",
            "_view_count": null,
            "_view_module": "@jupyter-widgets/base",
            "_view_module_version": "1.2.0",
            "_view_name": "LayoutView",
            "align_content": null,
            "align_items": null,
            "align_self": null,
            "border": null,
            "bottom": null,
            "display": null,
            "flex": null,
            "flex_flow": null,
            "grid_area": null,
            "grid_auto_columns": null,
            "grid_auto_flow": null,
            "grid_auto_rows": null,
            "grid_column": null,
            "grid_gap": null,
            "grid_row": null,
            "grid_template_areas": null,
            "grid_template_columns": null,
            "grid_template_rows": null,
            "height": null,
            "justify_content": null,
            "justify_items": null,
            "left": null,
            "margin": null,
            "max_height": null,
            "max_width": null,
            "min_height": null,
            "min_width": null,
            "object_fit": null,
            "object_position": null,
            "order": null,
            "overflow": null,
            "overflow_x": null,
            "overflow_y": null,
            "padding": null,
            "right": null,
            "top": null,
            "visibility": null,
            "width": null
          }
        },
        "85a297370b5d49c2bbc34b5f15ba2e96": {
          "model_module": "@jupyter-widgets/controls",
          "model_name": "DescriptionStyleModel",
          "model_module_version": "1.5.0",
          "state": {
            "_model_module": "@jupyter-widgets/controls",
            "_model_module_version": "1.5.0",
            "_model_name": "DescriptionStyleModel",
            "_view_count": null,
            "_view_module": "@jupyter-widgets/base",
            "_view_module_version": "1.2.0",
            "_view_name": "StyleView",
            "description_width": ""
          }
        },
        "9e1a2f3a014f4863bda1f9b0f7735bd4": {
          "model_module": "@jupyter-widgets/base",
          "model_name": "LayoutModel",
          "model_module_version": "1.2.0",
          "state": {
            "_model_module": "@jupyter-widgets/base",
            "_model_module_version": "1.2.0",
            "_model_name": "LayoutModel",
            "_view_count": null,
            "_view_module": "@jupyter-widgets/base",
            "_view_module_version": "1.2.0",
            "_view_name": "LayoutView",
            "align_content": null,
            "align_items": null,
            "align_self": null,
            "border": null,
            "bottom": null,
            "display": null,
            "flex": null,
            "flex_flow": null,
            "grid_area": null,
            "grid_auto_columns": null,
            "grid_auto_flow": null,
            "grid_auto_rows": null,
            "grid_column": null,
            "grid_gap": null,
            "grid_row": null,
            "grid_template_areas": null,
            "grid_template_columns": null,
            "grid_template_rows": null,
            "height": null,
            "justify_content": null,
            "justify_items": null,
            "left": null,
            "margin": null,
            "max_height": null,
            "max_width": null,
            "min_height": null,
            "min_width": null,
            "object_fit": null,
            "object_position": null,
            "order": null,
            "overflow": null,
            "overflow_x": null,
            "overflow_y": null,
            "padding": null,
            "right": null,
            "top": null,
            "visibility": null,
            "width": null
          }
        },
        "0567ac22bc6f48b6b212060b90f4497b": {
          "model_module": "@jupyter-widgets/controls",
          "model_name": "ProgressStyleModel",
          "model_module_version": "1.5.0",
          "state": {
            "_model_module": "@jupyter-widgets/controls",
            "_model_module_version": "1.5.0",
            "_model_name": "ProgressStyleModel",
            "_view_count": null,
            "_view_module": "@jupyter-widgets/base",
            "_view_module_version": "1.2.0",
            "_view_name": "StyleView",
            "bar_color": null,
            "description_width": ""
          }
        },
        "a828c9c1b83b4cb8b859db4ce845bd24": {
          "model_module": "@jupyter-widgets/base",
          "model_name": "LayoutModel",
          "model_module_version": "1.2.0",
          "state": {
            "_model_module": "@jupyter-widgets/base",
            "_model_module_version": "1.2.0",
            "_model_name": "LayoutModel",
            "_view_count": null,
            "_view_module": "@jupyter-widgets/base",
            "_view_module_version": "1.2.0",
            "_view_name": "LayoutView",
            "align_content": null,
            "align_items": null,
            "align_self": null,
            "border": null,
            "bottom": null,
            "display": null,
            "flex": null,
            "flex_flow": null,
            "grid_area": null,
            "grid_auto_columns": null,
            "grid_auto_flow": null,
            "grid_auto_rows": null,
            "grid_column": null,
            "grid_gap": null,
            "grid_row": null,
            "grid_template_areas": null,
            "grid_template_columns": null,
            "grid_template_rows": null,
            "height": null,
            "justify_content": null,
            "justify_items": null,
            "left": null,
            "margin": null,
            "max_height": null,
            "max_width": null,
            "min_height": null,
            "min_width": null,
            "object_fit": null,
            "object_position": null,
            "order": null,
            "overflow": null,
            "overflow_x": null,
            "overflow_y": null,
            "padding": null,
            "right": null,
            "top": null,
            "visibility": null,
            "width": null
          }
        },
        "77ec98b64d014829963b73500f31afcc": {
          "model_module": "@jupyter-widgets/controls",
          "model_name": "DescriptionStyleModel",
          "model_module_version": "1.5.0",
          "state": {
            "_model_module": "@jupyter-widgets/controls",
            "_model_module_version": "1.5.0",
            "_model_name": "DescriptionStyleModel",
            "_view_count": null,
            "_view_module": "@jupyter-widgets/base",
            "_view_module_version": "1.2.0",
            "_view_name": "StyleView",
            "description_width": ""
          }
        },
        "0e5a3409e3dd4e5aa840a67270dce91c": {
          "model_module": "@jupyter-widgets/controls",
          "model_name": "HBoxModel",
          "model_module_version": "1.5.0",
          "state": {
            "_dom_classes": [],
            "_model_module": "@jupyter-widgets/controls",
            "_model_module_version": "1.5.0",
            "_model_name": "HBoxModel",
            "_view_count": null,
            "_view_module": "@jupyter-widgets/controls",
            "_view_module_version": "1.5.0",
            "_view_name": "HBoxView",
            "box_style": "",
            "children": [
              "IPY_MODEL_8e3f93ca7f294a82a939b68b94fed036",
              "IPY_MODEL_4136b2226e7e49189e5ba9c7e6dac1e7",
              "IPY_MODEL_f34f68f76cc142a5bef15fc45852bcd4"
            ],
            "layout": "IPY_MODEL_82ee8d42abda42c1bc25a8d596aebafa"
          }
        },
        "8e3f93ca7f294a82a939b68b94fed036": {
          "model_module": "@jupyter-widgets/controls",
          "model_name": "HTMLModel",
          "model_module_version": "1.5.0",
          "state": {
            "_dom_classes": [],
            "_model_module": "@jupyter-widgets/controls",
            "_model_module_version": "1.5.0",
            "_model_name": "HTMLModel",
            "_view_count": null,
            "_view_module": "@jupyter-widgets/controls",
            "_view_module_version": "1.5.0",
            "_view_name": "HTMLView",
            "description": "",
            "description_tooltip": null,
            "layout": "IPY_MODEL_91e526bd1dca4e04b5198b209f300136",
            "placeholder": "​",
            "style": "IPY_MODEL_298dd00b4fce45da8ae507753d13ca6a",
            "value": "Processing: 100%"
          }
        },
        "4136b2226e7e49189e5ba9c7e6dac1e7": {
          "model_module": "@jupyter-widgets/controls",
          "model_name": "FloatProgressModel",
          "model_module_version": "1.5.0",
          "state": {
            "_dom_classes": [],
            "_model_module": "@jupyter-widgets/controls",
            "_model_module_version": "1.5.0",
            "_model_name": "FloatProgressModel",
            "_view_count": null,
            "_view_module": "@jupyter-widgets/controls",
            "_view_module_version": "1.5.0",
            "_view_name": "ProgressView",
            "bar_style": "",
            "description": "",
            "description_tooltip": null,
            "layout": "IPY_MODEL_264af75ca2b946deb477277357da0a00",
            "max": 4,
            "min": 0,
            "orientation": "horizontal",
            "style": "IPY_MODEL_f7b0e802395c421cab85db2364008b36",
            "value": 4
          }
        },
        "f34f68f76cc142a5bef15fc45852bcd4": {
          "model_module": "@jupyter-widgets/controls",
          "model_name": "HTMLModel",
          "model_module_version": "1.5.0",
          "state": {
            "_dom_classes": [],
            "_model_module": "@jupyter-widgets/controls",
            "_model_module_version": "1.5.0",
            "_model_name": "HTMLModel",
            "_view_count": null,
            "_view_module": "@jupyter-widgets/controls",
            "_view_module_version": "1.5.0",
            "_view_name": "HTMLView",
            "description": "",
            "description_tooltip": null,
            "layout": "IPY_MODEL_61710b01f4a042628da8fb6cc180b73a",
            "placeholder": "​",
            "style": "IPY_MODEL_60428bbcf6744f109a9896b0ea97b826",
            "value": " 4/4 [00:14&lt;00:00,  3.28s/it]"
          }
        },
        "82ee8d42abda42c1bc25a8d596aebafa": {
          "model_module": "@jupyter-widgets/base",
          "model_name": "LayoutModel",
          "model_module_version": "1.2.0",
          "state": {
            "_model_module": "@jupyter-widgets/base",
            "_model_module_version": "1.2.0",
            "_model_name": "LayoutModel",
            "_view_count": null,
            "_view_module": "@jupyter-widgets/base",
            "_view_module_version": "1.2.0",
            "_view_name": "LayoutView",
            "align_content": null,
            "align_items": null,
            "align_self": null,
            "border": null,
            "bottom": null,
            "display": null,
            "flex": null,
            "flex_flow": null,
            "grid_area": null,
            "grid_auto_columns": null,
            "grid_auto_flow": null,
            "grid_auto_rows": null,
            "grid_column": null,
            "grid_gap": null,
            "grid_row": null,
            "grid_template_areas": null,
            "grid_template_columns": null,
            "grid_template_rows": null,
            "height": null,
            "justify_content": null,
            "justify_items": null,
            "left": null,
            "margin": null,
            "max_height": null,
            "max_width": null,
            "min_height": null,
            "min_width": null,
            "object_fit": null,
            "object_position": null,
            "order": null,
            "overflow": null,
            "overflow_x": null,
            "overflow_y": null,
            "padding": null,
            "right": null,
            "top": null,
            "visibility": "hidden",
            "width": null
          }
        },
        "91e526bd1dca4e04b5198b209f300136": {
          "model_module": "@jupyter-widgets/base",
          "model_name": "LayoutModel",
          "model_module_version": "1.2.0",
          "state": {
            "_model_module": "@jupyter-widgets/base",
            "_model_module_version": "1.2.0",
            "_model_name": "LayoutModel",
            "_view_count": null,
            "_view_module": "@jupyter-widgets/base",
            "_view_module_version": "1.2.0",
            "_view_name": "LayoutView",
            "align_content": null,
            "align_items": null,
            "align_self": null,
            "border": null,
            "bottom": null,
            "display": null,
            "flex": null,
            "flex_flow": null,
            "grid_area": null,
            "grid_auto_columns": null,
            "grid_auto_flow": null,
            "grid_auto_rows": null,
            "grid_column": null,
            "grid_gap": null,
            "grid_row": null,
            "grid_template_areas": null,
            "grid_template_columns": null,
            "grid_template_rows": null,
            "height": null,
            "justify_content": null,
            "justify_items": null,
            "left": null,
            "margin": null,
            "max_height": null,
            "max_width": null,
            "min_height": null,
            "min_width": null,
            "object_fit": null,
            "object_position": null,
            "order": null,
            "overflow": null,
            "overflow_x": null,
            "overflow_y": null,
            "padding": null,
            "right": null,
            "top": null,
            "visibility": null,
            "width": null
          }
        },
        "298dd00b4fce45da8ae507753d13ca6a": {
          "model_module": "@jupyter-widgets/controls",
          "model_name": "DescriptionStyleModel",
          "model_module_version": "1.5.0",
          "state": {
            "_model_module": "@jupyter-widgets/controls",
            "_model_module_version": "1.5.0",
            "_model_name": "DescriptionStyleModel",
            "_view_count": null,
            "_view_module": "@jupyter-widgets/base",
            "_view_module_version": "1.2.0",
            "_view_name": "StyleView",
            "description_width": ""
          }
        },
        "264af75ca2b946deb477277357da0a00": {
          "model_module": "@jupyter-widgets/base",
          "model_name": "LayoutModel",
          "model_module_version": "1.2.0",
          "state": {
            "_model_module": "@jupyter-widgets/base",
            "_model_module_version": "1.2.0",
            "_model_name": "LayoutModel",
            "_view_count": null,
            "_view_module": "@jupyter-widgets/base",
            "_view_module_version": "1.2.0",
            "_view_name": "LayoutView",
            "align_content": null,
            "align_items": null,
            "align_self": null,
            "border": null,
            "bottom": null,
            "display": null,
            "flex": null,
            "flex_flow": null,
            "grid_area": null,
            "grid_auto_columns": null,
            "grid_auto_flow": null,
            "grid_auto_rows": null,
            "grid_column": null,
            "grid_gap": null,
            "grid_row": null,
            "grid_template_areas": null,
            "grid_template_columns": null,
            "grid_template_rows": null,
            "height": null,
            "justify_content": null,
            "justify_items": null,
            "left": null,
            "margin": null,
            "max_height": null,
            "max_width": null,
            "min_height": null,
            "min_width": null,
            "object_fit": null,
            "object_position": null,
            "order": null,
            "overflow": null,
            "overflow_x": null,
            "overflow_y": null,
            "padding": null,
            "right": null,
            "top": null,
            "visibility": null,
            "width": null
          }
        },
        "f7b0e802395c421cab85db2364008b36": {
          "model_module": "@jupyter-widgets/controls",
          "model_name": "ProgressStyleModel",
          "model_module_version": "1.5.0",
          "state": {
            "_model_module": "@jupyter-widgets/controls",
            "_model_module_version": "1.5.0",
            "_model_name": "ProgressStyleModel",
            "_view_count": null,
            "_view_module": "@jupyter-widgets/base",
            "_view_module_version": "1.2.0",
            "_view_name": "StyleView",
            "bar_color": null,
            "description_width": ""
          }
        },
        "61710b01f4a042628da8fb6cc180b73a": {
          "model_module": "@jupyter-widgets/base",
          "model_name": "LayoutModel",
          "model_module_version": "1.2.0",
          "state": {
            "_model_module": "@jupyter-widgets/base",
            "_model_module_version": "1.2.0",
            "_model_name": "LayoutModel",
            "_view_count": null,
            "_view_module": "@jupyter-widgets/base",
            "_view_module_version": "1.2.0",
            "_view_name": "LayoutView",
            "align_content": null,
            "align_items": null,
            "align_self": null,
            "border": null,
            "bottom": null,
            "display": null,
            "flex": null,
            "flex_flow": null,
            "grid_area": null,
            "grid_auto_columns": null,
            "grid_auto_flow": null,
            "grid_auto_rows": null,
            "grid_column": null,
            "grid_gap": null,
            "grid_row": null,
            "grid_template_areas": null,
            "grid_template_columns": null,
            "grid_template_rows": null,
            "height": null,
            "justify_content": null,
            "justify_items": null,
            "left": null,
            "margin": null,
            "max_height": null,
            "max_width": null,
            "min_height": null,
            "min_width": null,
            "object_fit": null,
            "object_position": null,
            "order": null,
            "overflow": null,
            "overflow_x": null,
            "overflow_y": null,
            "padding": null,
            "right": null,
            "top": null,
            "visibility": null,
            "width": null
          }
        },
        "60428bbcf6744f109a9896b0ea97b826": {
          "model_module": "@jupyter-widgets/controls",
          "model_name": "DescriptionStyleModel",
          "model_module_version": "1.5.0",
          "state": {
            "_model_module": "@jupyter-widgets/controls",
            "_model_module_version": "1.5.0",
            "_model_name": "DescriptionStyleModel",
            "_view_count": null,
            "_view_module": "@jupyter-widgets/base",
            "_view_module_version": "1.2.0",
            "_view_name": "StyleView",
            "description_width": ""
          }
        }
      }
    }
  },
  "cells": [
    {
      "cell_type": "markdown",
      "source": [
        "### **Development of Binary Classification Model to predict Room Occupancy**"
      ],
      "metadata": {
        "id": "-mwLfJCFWPjf"
      }
    },
    {
      "cell_type": "markdown",
      "source": [
        "In the modern world, the energy efficiency has become a significant issue worldwide. Seeking solutions to achieve energy efficiency with analyzing all the factors manually, is a bit challanging as it will cost a massive amount of time and resources to find potential solutions to overcome these issues.\n",
        "\n",
        "This project focuses on improving the energy efficiency of the heating and cooling systems within residential complexes. These residential complexes contains a large quantity of rooms and the most of the current heating and cooling systems are in-efficient. Therefore, the energy waste within these systems is high, as they don't work on factors such as occupancy.\n",
        "\n",
        "Making the heating and cooling systems more smarter with the application of IoT (Internet of Things) will make them more efficient and therefore it will reduce the unnecessary energy usage. Making the systems smarter will enable them to turn on and off based on analyzing the occupancy of the premises by themselves.\n",
        "\n",
        "In order to achieve the above capabilities we need the power of AI and IoT. The AI will be used to analyze the data of the premises and find patterns between these collected data and the occupancy of the premises. Finding these patterns through AI techniques such as machine learning will enable us to generate models which we can use to predict the occupancy of the premises. Using these model with IoT enabled components, we can turn the traditional systems to into smart agents, where the systems will be smarter enough to turn on, only when needed.\n",
        "\n",
        "To make the current systems smarter, we need to collect some data which is co-related with the presense of the person. These data will be collected over time and will be used to train a AI model. Finally an accurate model will be able to predict the occupancy of the room based on a set of input parameters. For this purpose to train the model, we use the below dataset which is collected and contributed by **Luis M. Candanedo, VÃ©ronique Feldheim**. \n",
        "\n",
        "Dataset Url: https://archive.ics.uci.edu/ml/datasets/Occupancy+Detection+\n",
        "\n",
        "The dataset contains labeled data of the below 7 features,\n",
        "*   Date\n",
        "*   Temperature\n",
        "*   Humidity\n",
        "*   Light\n",
        "*   CO2\n",
        "*   Humidity Ratio\n",
        "*   Occupancy\n",
        "\n",
        "In this project we use **Binary Classification** since in this machine learning task, we use the features to predict the **target class (Occupancy)** belongs to one of the possible categories (occupied = 1, un-occupied = 0).\n",
        "\n"
      ],
      "metadata": {
        "id": "pn2REtjvWwGP"
      }
    },
    {
      "cell_type": "markdown",
      "source": [
        "## **Phase 1: Importing the set of required dependancies**"
      ],
      "metadata": {
        "id": "O5Lzp8npiqm1"
      }
    },
    {
      "cell_type": "code",
      "execution_count": 1,
      "metadata": {
        "id": "M3-4oBtXWEyu"
      },
      "outputs": [],
      "source": [
        "import pandas as pd \n",
        "import matplotlib.pyplot as plt\n",
        "import seaborn as sns\n",
        "import os\n",
        "from google.colab import drive"
      ]
    },
    {
      "cell_type": "markdown",
      "source": [
        "### Phase 1.1 Importing the data"
      ],
      "metadata": {
        "id": "0bI5FoNYkZlu"
      }
    },
    {
      "cell_type": "code",
      "source": [
        "#Mount the root of storage\n",
        "drive.mount('content/')\n",
        "dataFrame = pd.read_csv('content/MyDrive/Dataset/Occupancy.csv')"
      ],
      "metadata": {
        "colab": {
          "base_uri": "https://localhost:8080/"
        },
        "id": "o_9Pj65RkfjY",
        "outputId": "0d3eccbb-40cd-4879-f2f5-594cbba23ede"
      },
      "execution_count": 2,
      "outputs": [
        {
          "output_type": "stream",
          "name": "stdout",
          "text": [
            "Drive already mounted at content/; to attempt to forcibly remount, call drive.mount(\"content/\", force_remount=True).\n"
          ]
        }
      ]
    },
    {
      "cell_type": "markdown",
      "source": [
        "### Phase 1.2 visualizing the data to check if loaded correctly from source"
      ],
      "metadata": {
        "id": "sex3oEJ3lBAE"
      }
    },
    {
      "cell_type": "code",
      "source": [
        "print(dataFrame.shape)"
      ],
      "metadata": {
        "colab": {
          "base_uri": "https://localhost:8080/"
        },
        "id": "8LArrSdmmON4",
        "outputId": "78f7edfb-ffa3-4669-f05e-70ebc08d9130"
      },
      "execution_count": 3,
      "outputs": [
        {
          "output_type": "stream",
          "name": "stdout",
          "text": [
            "(20560, 7)\n"
          ]
        }
      ]
    },
    {
      "cell_type": "code",
      "source": [
        "print(dataFrame.head(100))"
      ],
      "metadata": {
        "colab": {
          "base_uri": "https://localhost:8080/"
        },
        "id": "Ul_L1AtylLY0",
        "outputId": "52c8fc79-2802-4f89-b762-f5cc67f7c898"
      },
      "execution_count": 4,
      "outputs": [
        {
          "output_type": "stream",
          "name": "stdout",
          "text": [
            "                   date  Temperature   Humidity       Light          CO2  \\\n",
            "0   2015-02-02 14:19:00      23.7000  26.272000  585.200000   749.200000   \n",
            "1   2015-02-02 14:19:59      23.7180  26.290000  578.400000   760.400000   \n",
            "2   2015-02-02 14:21:00      23.7300  26.230000  572.666667   769.666667   \n",
            "3   2015-02-02 14:22:00      23.7225  26.125000  493.750000   774.750000   \n",
            "4   2015-02-02 14:23:00      23.7540  26.200000  488.600000   779.000000   \n",
            "..                  ...          ...        ...         ...          ...   \n",
            "95  2015-02-02 15:53:59      23.1000  28.918000  444.000000  1166.600000   \n",
            "96  2015-02-02 15:55:00      23.1000  27.925000  444.000000  1140.250000   \n",
            "97  2015-02-02 15:55:59      23.0600  27.772000  444.000000  1089.200000   \n",
            "98  2015-02-02 15:56:59      23.0200  27.556000  435.000000  1042.600000   \n",
            "99  2015-02-02 15:58:00      23.0100  27.818833  432.000000  1051.100000   \n",
            "\n",
            "    HumidityRatio  Occupancy  \n",
            "0        0.004764          1  \n",
            "1        0.004773          1  \n",
            "2        0.004765          1  \n",
            "3        0.004744          1  \n",
            "4        0.004767          1  \n",
            "..            ...        ...  \n",
            "95       0.005060          1  \n",
            "96       0.004885          1  \n",
            "97       0.004846          1  \n",
            "98       0.004796          1  \n",
            "99       0.004839          1  \n",
            "\n",
            "[100 rows x 7 columns]\n"
          ]
        }
      ]
    },
    {
      "cell_type": "code",
      "source": [
        "print(dataFrame.sample())"
      ],
      "metadata": {
        "colab": {
          "base_uri": "https://localhost:8080/"
        },
        "id": "MgJHAlnLlca7",
        "outputId": "0d7e92a6-6a6f-44e4-8920-92df1569f2e5"
      },
      "execution_count": 5,
      "outputs": [
        {
          "output_type": "stream",
          "name": "stdout",
          "text": [
            "                      date  Temperature  Humidity  Light    CO2  \\\n",
            "15290  2015-02-14 17:30:00         20.0     35.59   14.0  522.0   \n",
            "\n",
            "       HumidityRatio  Occupancy  \n",
            "15290       0.005152          0  \n"
          ]
        }
      ]
    },
    {
      "cell_type": "code",
      "source": [
        "dataFrame.info()"
      ],
      "metadata": {
        "colab": {
          "base_uri": "https://localhost:8080/"
        },
        "id": "RZPtmpPruQI4",
        "outputId": "113ec6b0-0868-4033-cf1d-8a13d5c4aa3f"
      },
      "execution_count": 6,
      "outputs": [
        {
          "output_type": "stream",
          "name": "stdout",
          "text": [
            "<class 'pandas.core.frame.DataFrame'>\n",
            "RangeIndex: 20560 entries, 0 to 20559\n",
            "Data columns (total 7 columns):\n",
            " #   Column         Non-Null Count  Dtype  \n",
            "---  ------         --------------  -----  \n",
            " 0   date           20560 non-null  object \n",
            " 1   Temperature    20560 non-null  float64\n",
            " 2   Humidity       20560 non-null  float64\n",
            " 3   Light          20560 non-null  float64\n",
            " 4   CO2            20560 non-null  float64\n",
            " 5   HumidityRatio  20560 non-null  float64\n",
            " 6   Occupancy      20560 non-null  int64  \n",
            "dtypes: float64(5), int64(1), object(1)\n",
            "memory usage: 1.1+ MB\n"
          ]
        }
      ]
    },
    {
      "cell_type": "code",
      "source": [
        "# Convert the 'date' column to datetime format\n",
        "dataFrame['date'] = pd.to_datetime(dataFrame['date'])"
      ],
      "metadata": {
        "id": "_yRXodL3V6c7"
      },
      "execution_count": 7,
      "outputs": []
    },
    {
      "cell_type": "markdown",
      "source": [
        "### Phase 1.3 Checking the quality of the dataset to check whether the dataset is balanced"
      ],
      "metadata": {
        "id": "R7bLAtoOqKiL"
      }
    },
    {
      "cell_type": "code",
      "source": [
        "occupied = dataFrame[dataFrame['Occupancy'] == 1].shape[0]\n",
        "not_occupied = dataFrame[dataFrame['Occupancy'] == 0].shape[0]\n",
        "\n",
        "print('Proportion of occupied rooms:', occupied/dataFrame.shape[0])\n",
        "print('Proportion of not occupied rooms:', not_occupied/dataFrame.shape[0])"
      ],
      "metadata": {
        "colab": {
          "base_uri": "https://localhost:8080/"
        },
        "id": "ZL8oTWDXprLB",
        "outputId": "cc605ece-c248-46b8-a621-9bdd4e4a6ca2"
      },
      "execution_count": 8,
      "outputs": [
        {
          "output_type": "stream",
          "name": "stdout",
          "text": [
            "Proportion of occupied rooms: 0.23103112840466927\n",
            "Proportion of not occupied rooms: 0.7689688715953308\n"
          ]
        }
      ]
    },
    {
      "cell_type": "code",
      "source": [
        "plt.figure(figsize=(6,4))\n",
        "sns.countplot(x='Occupancy', data=dataFrame)\n",
        "plt.title('Occupancy Count')\n",
        "plt.xlabel('Occupancy')\n",
        "plt.ylabel('Count')\n",
        "plt.show()"
      ],
      "metadata": {
        "colab": {
          "base_uri": "https://localhost:8080/",
          "height": 410
        },
        "id": "8U6X9WSZnrpW",
        "outputId": "aec66e38-8ecb-4cc8-d144-e38374924ae1"
      },
      "execution_count": 9,
      "outputs": [
        {
          "output_type": "display_data",
          "data": {
            "text/plain": [
              "<Figure size 600x400 with 1 Axes>"
            ],
            "image/png": "[encoded data removed]"
          },
          "metadata": {}
        }
      ]
    },
    {
      "cell_type": "markdown",
      "source": [
        "After running the above code to check whether the dataset is balanced, it shows as the dataset is quite imbalanced since the output results and the plot figure shows as,\n",
        "*   The occupied portion of rooms = 23%\n",
        "*   The non-occupied portion of rooms = 76%\n",
        "\n",
        "As the above dataset is imbalanced we need to perform some operations since we need to ensure the quality of the dataset. For this we have some options to optimize out imbalanced dataset and make it balanced. The oversampling or undersampling techniques can be performed on the dataset to make this balanced.\n",
        "\n",
        "On this stage we will move forward with out dataset without performing the resampling techniques manually as our dependency **Pycaret** will enable fixing the imbalanced datasets.\n",
        "\n"
      ],
      "metadata": {
        "id": "qrzbG-jQqk6z"
      }
    },
    {
      "cell_type": "markdown",
      "source": [
        "## **Phase 2: Data Exploration**"
      ],
      "metadata": {
        "id": "AJws9c9ovfZR"
      }
    },
    {
      "cell_type": "markdown",
      "source": [
        "### Phase 2.1 Analyzing the features of the dataset"
      ],
      "metadata": {
        "id": "FAUoW-4LuFqz"
      }
    },
    {
      "cell_type": "code",
      "source": [
        "dataFrame.describe()"
      ],
      "metadata": {
        "colab": {
          "base_uri": "https://localhost:8080/",
          "height": 297
        },
        "id": "wghG8FZ6umNp",
        "outputId": "f464ff40-3fe8-42e3-8c26-cd3822bee89a"
      },
      "execution_count": 10,
      "outputs": [
        {
          "output_type": "execute_result",
          "data": {
            "text/plain": [
              "        Temperature      Humidity         Light           CO2  HumidityRatio  \\\n",
              "count  20560.000000  20560.000000  20560.000000  20560.000000   20560.000000   \n",
              "mean      20.906212     27.655925    130.756622    690.553276       0.004228   \n",
              "std        1.055315      4.982154    210.430875    311.201281       0.000768   \n",
              "min       19.000000     16.745000      0.000000    412.750000       0.002674   \n",
              "25%       20.200000     24.500000      0.000000    460.000000       0.003719   \n",
              "50%       20.700000     27.290000      0.000000    565.416667       0.004292   \n",
              "75%       21.525000     31.290000    301.000000    804.666667       0.004832   \n",
              "max       24.408333     39.500000   1697.250000   2076.500000       0.006476   \n",
              "\n",
              "          Occupancy  \n",
              "count  20560.000000  \n",
              "mean       0.231031  \n",
              "std        0.421503  \n",
              "min        0.000000  \n",
              "25%        0.000000  \n",
              "50%        0.000000  \n",
              "75%        0.000000  \n",
              "max        1.000000  "
            ],
            "text/html": [
              "\n",
              "  <div id=\"df-8fa1dcb2-34a9-4c52-b0e0-64bc39394f14\">\n",
              "    <div class=\"colab-df-container\">\n",
              "      <div>\n",
              "<style scoped>\n",
              "    .dataframe tbody tr th:only-of-type {\n",
              "        vertical-align: middle;\n",
              "    }\n",
              "\n",
              "    .dataframe tbody tr th {\n",
              "        vertical-align: top;\n",
              "    }\n",
              "\n",
              "    .dataframe thead th {\n",
              "        text-align: right;\n",
              "    }\n",
              "</style>\n",
              "<table border=\"1\" class=\"dataframe\">\n",
              "  <thead>\n",
              "    <tr style=\"text-align: right;\">\n",
              "      <th></th>\n",
              "      <th>Temperature</th>\n",
              "      <th>Humidity</th>\n",
              "      <th>Light</th>\n",
              "      <th>CO2</th>\n",
              "      <th>HumidityRatio</th>\n",
              "      <th>Occupancy</th>\n",
              "    </tr>\n",
              "  </thead>\n",
              "  <tbody>\n",
              "    <tr>\n",
              "      <th>count</th>\n",
              "      <td>20560.000000</td>\n",
              "      <td>20560.000000</td>\n",
              "      <td>20560.000000</td>\n",
              "      <td>20560.000000</td>\n",
              "      <td>20560.000000</td>\n",
              "      <td>20560.000000</td>\n",
              "    </tr>\n",
              "    <tr>\n",
              "      <th>mean</th>\n",
              "      <td>20.906212</td>\n",
              "      <td>27.655925</td>\n",
              "      <td>130.756622</td>\n",
              "      <td>690.553276</td>\n",
              "      <td>0.004228</td>\n",
              "      <td>0.231031</td>\n",
              "    </tr>\n",
              "    <tr>\n",
              "      <th>std</th>\n",
              "      <td>1.055315</td>\n",
              "      <td>4.982154</td>\n",
              "      <td>210.430875</td>\n",
              "      <td>311.201281</td>\n",
              "      <td>0.000768</td>\n",
              "      <td>0.421503</td>\n",
              "    </tr>\n",
              "    <tr>\n",
              "      <th>min</th>\n",
              "      <td>19.000000</td>\n",
              "      <td>16.745000</td>\n",
              "      <td>0.000000</td>\n",
              "      <td>412.750000</td>\n",
              "      <td>0.002674</td>\n",
              "      <td>0.000000</td>\n",
              "    </tr>\n",
              "    <tr>\n",
              "      <th>25%</th>\n",
              "      <td>20.200000</td>\n",
              "      <td>24.500000</td>\n",
              "      <td>0.000000</td>\n",
              "      <td>460.000000</td>\n",
              "      <td>0.003719</td>\n",
              "      <td>0.000000</td>\n",
              "    </tr>\n",
              "    <tr>\n",
              "      <th>50%</th>\n",
              "      <td>20.700000</td>\n",
              "      <td>27.290000</td>\n",
              "      <td>0.000000</td>\n",
              "      <td>565.416667</td>\n",
              "      <td>0.004292</td>\n",
              "      <td>0.000000</td>\n",
              "    </tr>\n",
              "    <tr>\n",
              "      <th>75%</th>\n",
              "      <td>21.525000</td>\n",
              "      <td>31.290000</td>\n",
              "      <td>301.000000</td>\n",
              "      <td>804.666667</td>\n",
              "      <td>0.004832</td>\n",
              "      <td>0.000000</td>\n",
              "    </tr>\n",
              "    <tr>\n",
              "      <th>max</th>\n",
              "      <td>24.408333</td>\n",
              "      <td>39.500000</td>\n",
              "      <td>1697.250000</td>\n",
              "      <td>2076.500000</td>\n",
              "      <td>0.006476</td>\n",
              "      <td>1.000000</td>\n",
              "    </tr>\n",
              "  </tbody>\n",
              "</table>\n",
              "</div>\n",
              "      <button class=\"colab-df-convert\" onclick=\"convertToInteractive('df-8fa1dcb2-34a9-4c52-b0e0-64bc39394f14')\"\n",
              "              title=\"Convert this dataframe to an interactive table.\"\n",
              "              style=\"display:none;\">\n",
              "        \n",
              "  <svg xmlns=\"http://www.w3.org/2000/svg\" height=\"24px\"viewBox=\"0 0 24 24\"\n",
              "       width=\"24px\">\n",
              "    <path d=\"M0 0h24v24H0V0z\" fill=\"none\"/>\n",
              "    <path d=\"M18.56 5.44l.94 2.06.94-2.06 2.06-.94-2.06-.94-.94-2.06-.94 2.06-2.06.94zm-11 1L8.5 8.5l.94-2.06 2.06-.94-2.06-.94L8.5 2.5l-.94 2.06-2.06.94zm10 10l.94 2.06.94-2.06 2.06-.94-2.06-.94-.94-2.06-.94 2.06-2.06.94z\"/><path d=\"M17.41 7.96l-1.37-1.37c-.4-.4-.92-.59-1.43-.59-.52 0-1.04.2-1.43.59L10.3 9.45l-7.72 7.72c-.78.78-.78 2.05 0 2.83L4 21.41c.39.39.9.59 1.41.59.51 0 1.02-.2 1.41-.59l7.78-7.78 2.81-2.81c.8-.78.8-2.07 0-2.86zM5.41 20L4 18.59l7.72-7.72 1.47 1.35L5.41 20z\"/>\n",
              "  </svg>\n",
              "      </button>\n",
              "      \n",
              "  <style>\n",
              "    .colab-df-container {\n",
              "      display:flex;\n",
              "      flex-wrap:wrap;\n",
              "      gap: 12px;\n",
              "    }\n",
              "\n",
              "    .colab-df-convert {\n",
              "      background-color: #E8F0FE;\n",
              "      border: none;\n",
              "      border-radius: 50%;\n",
              "      cursor: pointer;\n",
              "      display: none;\n",
              "      fill: #1967D2;\n",
              "      height: 32px;\n",
              "      padding: 0 0 0 0;\n",
              "      width: 32px;\n",
              "    }\n",
              "\n",
              "    .colab-df-convert:hover {\n",
              "      background-color: #E2EBFA;\n",
              "      box-shadow: 0px 1px 2px rgba(60, 64, 67, 0.3), 0px 1px 3px 1px rgba(60, 64, 67, 0.15);\n",
              "      fill: #174EA6;\n",
              "    }\n",
              "\n",
              "    [theme=dark] .colab-df-convert {\n",
              "      background-color: #3B4455;\n",
              "      fill: #D2E3FC;\n",
              "    }\n",
              "\n",
              "    [theme=dark] .colab-df-convert:hover {\n",
              "      background-color: #434B5C;\n",
              "      box-shadow: 0px 1px 3px 1px rgba(0, 0, 0, 0.15);\n",
              "      filter: drop-shadow(0px 1px 2px rgba(0, 0, 0, 0.3));\n",
              "      fill: #FFFFFF;\n",
              "    }\n",
              "  </style>\n",
              "\n",
              "      <script>\n",
              "        const buttonEl =\n",
              "          document.querySelector('#df-8fa1dcb2-34a9-4c52-b0e0-64bc39394f14 button.colab-df-convert');\n",
              "        buttonEl.style.display =\n",
              "          google.colab.kernel.accessAllowed ? 'block' : 'none';\n",
              "\n",
              "        async function convertToInteractive(key) {\n",
              "          const element = document.querySelector('#df-8fa1dcb2-34a9-4c52-b0e0-64bc39394f14');\n",
              "          const dataTable =\n",
              "            await google.colab.kernel.invokeFunction('convertToInteractive',\n",
              "                                                     [key], {});\n",
              "          if (!dataTable) return;\n",
              "\n",
              "          const docLinkHtml = 'Like what you see? Visit the ' +\n",
              "            '<a target=\"_blank\" href=https://colab.research.google.com/notebooks/data_table.ipynb>data table notebook</a>'\n",
              "            + ' to learn more about interactive tables.';\n",
              "          element.innerHTML = '';\n",
              "          dataTable['output_type'] = 'display_data';\n",
              "          await google.colab.output.renderOutput(dataTable, element);\n",
              "          const docLink = document.createElement('div');\n",
              "          docLink.innerHTML = docLinkHtml;\n",
              "          element.appendChild(docLink);\n",
              "        }\n",
              "      </script>\n",
              "    </div>\n",
              "  </div>\n",
              "  "
            ]
          },
          "metadata": {},
          "execution_count": 10
        }
      ]
    },
    {
      "cell_type": "markdown",
      "source": [
        "The above output will display the features and the target class - Occupancy.\n",
        "\n",
        "The figure shows that the,\n",
        "*   Temperature range is between 19c to 24.4c.\n",
        "*   Humidicty range is between 16.7% to 39.5%.\n",
        "*   Light range is between 0 (lux) to 1697.2 (lux).\n",
        "*   CO2 range is between 412.75 (ppm) to 2076.5(ppm).\n",
        "*   Humidity ratio is between 26.74% to 64.76%\n",
        "\n"
      ],
      "metadata": {
        "id": "-qGVfQ0AwSw9"
      }
    },
    {
      "cell_type": "markdown",
      "source": [
        "### Phase 2.2 Visualizing the data"
      ],
      "metadata": {
        "id": "h1RxRA6CfuzT"
      }
    },
    {
      "cell_type": "code",
      "source": [
        "corr_matrix = dataFrame.corr()\n",
        "\n",
        "fig, ax = plt.subplots(figsize=(10, 8))\n",
        "sns.heatmap(corr_matrix, annot=True, cmap='coolwarm', ax=ax)\n",
        "plt.title('Correlation Matrix')\n",
        "plt.show()"
      ],
      "metadata": {
        "colab": {
          "base_uri": "https://localhost:8080/",
          "height": 753
        },
        "id": "LMofAi7FsCYl",
        "outputId": "6b8958de-fc9d-493c-fb3d-9542c5d349ca"
      },
      "execution_count": 11,
      "outputs": [
        {
          "output_type": "stream",
          "name": "stderr",
          "text": [
            "<ipython-input-11-e2bf4572770f>:1: FutureWarning: The default value of numeric_only in DataFrame.corr is deprecated. In a future version, it will default to False. Select only valid columns or specify the value of numeric_only to silence this warning.\n",
            "  corr_matrix = dataFrame.corr()\n"
          ]
        },
        {
          "output_type": "display_data",
          "data": {
            "text/plain": [
              "<Figure size 1000x800 with 2 Axes>"
            ],
            "image/png": "[encoded data removed]"
          },
          "metadata": {}
        }
      ]
    },
    {
      "cell_type": "markdown",
      "source": [
        "## Phase 3: Feature Engineering"
      ],
      "metadata": {
        "id": "Y0GiDGNKzG0r"
      }
    },
    {
      "cell_type": "markdown",
      "source": [
        "### Phase 3.1 On this stage we extract more features"
      ],
      "metadata": {
        "id": "j8fOeWPe0W4W"
      }
    },
    {
      "cell_type": "markdown",
      "source": [
        "We extract more features from the existing 'date' feature and derieve the following features,\n",
        "\n",
        "*   Day of the week (0 = Monday, 6 = Sunday)\n",
        "*   Time of the day (Morning = 0, Evening = 1, Night = 2)\n",
        "\n"
      ],
      "metadata": {
        "id": "fxJWg5Ctzj2i"
      }
    },
    {
      "cell_type": "code",
      "source": [
        "# Derive day of week\n",
        "dataFrame['day_of_week'] = dataFrame['date'].dt.dayofweek\n",
        "\n",
        "# Derive time of day\n",
        "dataFrame['time_of_day'] = pd.cut(dataFrame['date'].dt.hour, bins=[-1, 12, 20, 24], labels=[0, 1, 2])\n",
        "\n",
        "# Convert time of day to integer\n",
        "dataFrame['time_of_day'] = dataFrame['time_of_day'].astype(int)"
      ],
      "metadata": {
        "id": "0Pf-kK_90aAh"
      },
      "execution_count": 12,
      "outputs": []
    },
    {
      "cell_type": "code",
      "source": [
        "dataFrame.describe()"
      ],
      "metadata": {
        "colab": {
          "base_uri": "https://localhost:8080/",
          "height": 297
        },
        "id": "rod7hGQR16p8",
        "outputId": "a8925c5a-f942-4373-c06d-8abed14da54e"
      },
      "execution_count": 13,
      "outputs": [
        {
          "output_type": "execute_result",
          "data": {
            "text/plain": [
              "        Temperature      Humidity         Light           CO2  HumidityRatio  \\\n",
              "count  20560.000000  20560.000000  20560.000000  20560.000000   20560.000000   \n",
              "mean      20.906212     27.655925    130.756622    690.553276       0.004228   \n",
              "std        1.055315      4.982154    210.430875    311.201281       0.000768   \n",
              "min       19.000000     16.745000      0.000000    412.750000       0.002674   \n",
              "25%       20.200000     24.500000      0.000000    460.000000       0.003719   \n",
              "50%       20.700000     27.290000      0.000000    565.416667       0.004292   \n",
              "75%       21.525000     31.290000    301.000000    804.666667       0.004832   \n",
              "max       24.408333     39.500000   1697.250000   2076.500000       0.006476   \n",
              "\n",
              "          Occupancy   day_of_week   time_of_day  \n",
              "count  20560.000000  20560.000000  20560.000000  \n",
              "mean       0.231031      2.896109      0.589591  \n",
              "std        0.421503      2.059338      0.710383  \n",
              "min        0.000000      0.000000      0.000000  \n",
              "25%        0.000000      1.000000      0.000000  \n",
              "50%        0.000000      3.000000      0.000000  \n",
              "75%        0.000000      5.000000      1.000000  \n",
              "max        1.000000      6.000000      2.000000  "
            ],
            "text/html": [
              "\n",
              "  <div id=\"df-60d25743-fdac-4949-85ff-1aee23a9d13d\">\n",
              "    <div class=\"colab-df-container\">\n",
              "      <div>\n",
              "<style scoped>\n",
              "    .dataframe tbody tr th:only-of-type {\n",
              "        vertical-align: middle;\n",
              "    }\n",
              "\n",
              "    .dataframe tbody tr th {\n",
              "        vertical-align: top;\n",
              "    }\n",
              "\n",
              "    .dataframe thead th {\n",
              "        text-align: right;\n",
              "    }\n",
              "</style>\n",
              "<table border=\"1\" class=\"dataframe\">\n",
              "  <thead>\n",
              "    <tr style=\"text-align: right;\">\n",
              "      <th></th>\n",
              "      <th>Temperature</th>\n",
              "      <th>Humidity</th>\n",
              "      <th>Light</th>\n",
              "      <th>CO2</th>\n",
              "      <th>HumidityRatio</th>\n",
              "      <th>Occupancy</th>\n",
              "      <th>day_of_week</th>\n",
              "      <th>time_of_day</th>\n",
              "    </tr>\n",
              "  </thead>\n",
              "  <tbody>\n",
              "    <tr>\n",
              "      <th>count</th>\n",
              "      <td>20560.000000</td>\n",
              "      <td>20560.000000</td>\n",
              "      <td>20560.000000</td>\n",
              "      <td>20560.000000</td>\n",
              "      <td>20560.000000</td>\n",
              "      <td>20560.000000</td>\n",
              "      <td>20560.000000</td>\n",
              "      <td>20560.000000</td>\n",
              "    </tr>\n",
              "    <tr>\n",
              "      <th>mean</th>\n",
              "      <td>20.906212</td>\n",
              "      <td>27.655925</td>\n",
              "      <td>130.756622</td>\n",
              "      <td>690.553276</td>\n",
              "      <td>0.004228</td>\n",
              "      <td>0.231031</td>\n",
              "      <td>2.896109</td>\n",
              "      <td>0.589591</td>\n",
              "    </tr>\n",
              "    <tr>\n",
              "      <th>std</th>\n",
              "      <td>1.055315</td>\n",
              "      <td>4.982154</td>\n",
              "      <td>210.430875</td>\n",
              "      <td>311.201281</td>\n",
              "      <td>0.000768</td>\n",
              "      <td>0.421503</td>\n",
              "      <td>2.059338</td>\n",
              "      <td>0.710383</td>\n",
              "    </tr>\n",
              "    <tr>\n",
              "      <th>min</th>\n",
              "      <td>19.000000</td>\n",
              "      <td>16.745000</td>\n",
              "      <td>0.000000</td>\n",
              "      <td>412.750000</td>\n",
              "      <td>0.002674</td>\n",
              "      <td>0.000000</td>\n",
              "      <td>0.000000</td>\n",
              "      <td>0.000000</td>\n",
              "    </tr>\n",
              "    <tr>\n",
              "      <th>25%</th>\n",
              "      <td>20.200000</td>\n",
              "      <td>24.500000</td>\n",
              "      <td>0.000000</td>\n",
              "      <td>460.000000</td>\n",
              "      <td>0.003719</td>\n",
              "      <td>0.000000</td>\n",
              "      <td>1.000000</td>\n",
              "      <td>0.000000</td>\n",
              "    </tr>\n",
              "    <tr>\n",
              "      <th>50%</th>\n",
              "      <td>20.700000</td>\n",
              "      <td>27.290000</td>\n",
              "      <td>0.000000</td>\n",
              "      <td>565.416667</td>\n",
              "      <td>0.004292</td>\n",
              "      <td>0.000000</td>\n",
              "      <td>3.000000</td>\n",
              "      <td>0.000000</td>\n",
              "    </tr>\n",
              "    <tr>\n",
              "      <th>75%</th>\n",
              "      <td>21.525000</td>\n",
              "      <td>31.290000</td>\n",
              "      <td>301.000000</td>\n",
              "      <td>804.666667</td>\n",
              "      <td>0.004832</td>\n",
              "      <td>0.000000</td>\n",
              "      <td>5.000000</td>\n",
              "      <td>1.000000</td>\n",
              "    </tr>\n",
              "    <tr>\n",
              "      <th>max</th>\n",
              "      <td>24.408333</td>\n",
              "      <td>39.500000</td>\n",
              "      <td>1697.250000</td>\n",
              "      <td>2076.500000</td>\n",
              "      <td>0.006476</td>\n",
              "      <td>1.000000</td>\n",
              "      <td>6.000000</td>\n",
              "      <td>2.000000</td>\n",
              "    </tr>\n",
              "  </tbody>\n",
              "</table>\n",
              "</div>\n",
              "      <button class=\"colab-df-convert\" onclick=\"convertToInteractive('df-60d25743-fdac-4949-85ff-1aee23a9d13d')\"\n",
              "              title=\"Convert this dataframe to an interactive table.\"\n",
              "              style=\"display:none;\">\n",
              "        \n",
              "  <svg xmlns=\"http://www.w3.org/2000/svg\" height=\"24px\"viewBox=\"0 0 24 24\"\n",
              "       width=\"24px\">\n",
              "    <path d=\"M0 0h24v24H0V0z\" fill=\"none\"/>\n",
              "    <path d=\"M18.56 5.44l.94 2.06.94-2.06 2.06-.94-2.06-.94-.94-2.06-.94 2.06-2.06.94zm-11 1L8.5 8.5l.94-2.06 2.06-.94-2.06-.94L8.5 2.5l-.94 2.06-2.06.94zm10 10l.94 2.06.94-2.06 2.06-.94-2.06-.94-.94-2.06-.94 2.06-2.06.94z\"/><path d=\"M17.41 7.96l-1.37-1.37c-.4-.4-.92-.59-1.43-.59-.52 0-1.04.2-1.43.59L10.3 9.45l-7.72 7.72c-.78.78-.78 2.05 0 2.83L4 21.41c.39.39.9.59 1.41.59.51 0 1.02-.2 1.41-.59l7.78-7.78 2.81-2.81c.8-.78.8-2.07 0-2.86zM5.41 20L4 18.59l7.72-7.72 1.47 1.35L5.41 20z\"/>\n",
              "  </svg>\n",
              "      </button>\n",
              "      \n",
              "  <style>\n",
              "    .colab-df-container {\n",
              "      display:flex;\n",
              "      flex-wrap:wrap;\n",
              "      gap: 12px;\n",
              "    }\n",
              "\n",
              "    .colab-df-convert {\n",
              "      background-color: #E8F0FE;\n",
              "      border: none;\n",
              "      border-radius: 50%;\n",
              "      cursor: pointer;\n",
              "      display: none;\n",
              "      fill: #1967D2;\n",
              "      height: 32px;\n",
              "      padding: 0 0 0 0;\n",
              "      width: 32px;\n",
              "    }\n",
              "\n",
              "    .colab-df-convert:hover {\n",
              "      background-color: #E2EBFA;\n",
              "      box-shadow: 0px 1px 2px rgba(60, 64, 67, 0.3), 0px 1px 3px 1px rgba(60, 64, 67, 0.15);\n",
              "      fill: #174EA6;\n",
              "    }\n",
              "\n",
              "    [theme=dark] .colab-df-convert {\n",
              "      background-color: #3B4455;\n",
              "      fill: #D2E3FC;\n",
              "    }\n",
              "\n",
              "    [theme=dark] .colab-df-convert:hover {\n",
              "      background-color: #434B5C;\n",
              "      box-shadow: 0px 1px 3px 1px rgba(0, 0, 0, 0.15);\n",
              "      filter: drop-shadow(0px 1px 2px rgba(0, 0, 0, 0.3));\n",
              "      fill: #FFFFFF;\n",
              "    }\n",
              "  </style>\n",
              "\n",
              "      <script>\n",
              "        const buttonEl =\n",
              "          document.querySelector('#df-60d25743-fdac-4949-85ff-1aee23a9d13d button.colab-df-convert');\n",
              "        buttonEl.style.display =\n",
              "          google.colab.kernel.accessAllowed ? 'block' : 'none';\n",
              "\n",
              "        async function convertToInteractive(key) {\n",
              "          const element = document.querySelector('#df-60d25743-fdac-4949-85ff-1aee23a9d13d');\n",
              "          const dataTable =\n",
              "            await google.colab.kernel.invokeFunction('convertToInteractive',\n",
              "                                                     [key], {});\n",
              "          if (!dataTable) return;\n",
              "\n",
              "          const docLinkHtml = 'Like what you see? Visit the ' +\n",
              "            '<a target=\"_blank\" href=https://colab.research.google.com/notebooks/data_table.ipynb>data table notebook</a>'\n",
              "            + ' to learn more about interactive tables.';\n",
              "          element.innerHTML = '';\n",
              "          dataTable['output_type'] = 'display_data';\n",
              "          await google.colab.output.renderOutput(dataTable, element);\n",
              "          const docLink = document.createElement('div');\n",
              "          docLink.innerHTML = docLinkHtml;\n",
              "          element.appendChild(docLink);\n",
              "        }\n",
              "      </script>\n",
              "    </div>\n",
              "  </div>\n",
              "  "
            ]
          },
          "metadata": {},
          "execution_count": 13
        }
      ]
    },
    {
      "cell_type": "code",
      "source": [
        "# Create a new dataframe with day_of_week and occupancy columns\n",
        "occupancy_by_day = dataFrame.groupby(['day_of_week', 'Occupancy']).size().reset_index(name='count')\n",
        "\n",
        "# Plot the graph\n",
        "plt.figure(figsize=(12,6))\n",
        "sns.barplot(x='day_of_week', y='count', hue='Occupancy', data=occupancy_by_day, palette=['orange', 'blue'])\n",
        "plt.title('Occupancy by Day of Week')\n",
        "plt.xlabel('Day of Week')\n",
        "plt.ylabel('Count')\n",
        "plt.xticks(range(7), ['Monday', 'Tuesday', 'Wednesday', 'Thursday', 'Friday', 'Saturday', 'Sunday'])\n",
        "plt.show()"
      ],
      "metadata": {
        "colab": {
          "base_uri": "https://localhost:8080/",
          "height": 564
        },
        "id": "qsncW9f06bjp",
        "outputId": "3e7769c6-712d-4f75-bcb5-f60da1430cdc"
      },
      "execution_count": 14,
      "outputs": [
        {
          "output_type": "display_data",
          "data": {
            "text/plain": [
              "<Figure size 1200x600 with 1 Axes>"
            ],
            "image/png": "[encoded data removed]"
          },
          "metadata": {}
        }
      ]
    },
    {
      "cell_type": "code",
      "source": [
        "# Create a new dataframe with time_of_day and occupancy columns\n",
        "occupancy_by_time = dataFrame.groupby(['time_of_day', 'Occupancy']).size().reset_index(name='count')\n",
        "\n",
        "# Plot the graph\n",
        "plt.figure(figsize=(12,6))\n",
        "sns.barplot(x='time_of_day', y='count', hue='Occupancy', data=occupancy_by_time, palette=['orange', 'blue', 'green'])\n",
        "plt.title('Occupancy by Time of Day')\n",
        "plt.xlabel('Time of Day')\n",
        "plt.ylabel('Count')\n",
        "plt.xticks(range(3), ['Morning', 'Evening', 'Night'])\n",
        "plt.show()"
      ],
      "metadata": {
        "colab": {
          "base_uri": "https://localhost:8080/",
          "height": 564
        },
        "id": "nupVP9g19EQY",
        "outputId": "01d24b26-edad-4694-c3a9-2612212715e6"
      },
      "execution_count": 15,
      "outputs": [
        {
          "output_type": "display_data",
          "data": {
            "text/plain": [
              "<Figure size 1200x600 with 1 Axes>"
            ],
            "image/png": "[encoded data removed]"
          },
          "metadata": {}
        }
      ]
    },
    {
      "cell_type": "markdown",
      "source": [
        "## **Phase 4: Data pre-processing**"
      ],
      "metadata": {
        "id": "KlPeYcem97jD"
      }
    },
    {
      "cell_type": "markdown",
      "source": [
        "### Phase 4.1: On this stage we will remove the 'date' feature of the dataset."
      ],
      "metadata": {
        "id": "7geNllmf-D9s"
      }
    },
    {
      "cell_type": "code",
      "source": [
        "if 'date' in dataFrame.columns:\n",
        "    dataFrame.drop('date', axis=1, inplace=True)\n",
        "else:\n",
        "    print(\"date feature is already removed\")"
      ],
      "metadata": {
        "id": "42XoM4WI-Ngr"
      },
      "execution_count": 16,
      "outputs": []
    },
    {
      "cell_type": "code",
      "source": [
        "dataFrame.describe()"
      ],
      "metadata": {
        "colab": {
          "base_uri": "https://localhost:8080/",
          "height": 297
        },
        "id": "3KEbewOX-XL0",
        "outputId": "44648d01-10af-4e13-fd5d-4697ead25320"
      },
      "execution_count": 17,
      "outputs": [
        {
          "output_type": "execute_result",
          "data": {
            "text/plain": [
              "        Temperature      Humidity         Light           CO2  HumidityRatio  \\\n",
              "count  20560.000000  20560.000000  20560.000000  20560.000000   20560.000000   \n",
              "mean      20.906212     27.655925    130.756622    690.553276       0.004228   \n",
              "std        1.055315      4.982154    210.430875    311.201281       0.000768   \n",
              "min       19.000000     16.745000      0.000000    412.750000       0.002674   \n",
              "25%       20.200000     24.500000      0.000000    460.000000       0.003719   \n",
              "50%       20.700000     27.290000      0.000000    565.416667       0.004292   \n",
              "75%       21.525000     31.290000    301.000000    804.666667       0.004832   \n",
              "max       24.408333     39.500000   1697.250000   2076.500000       0.006476   \n",
              "\n",
              "          Occupancy   day_of_week   time_of_day  \n",
              "count  20560.000000  20560.000000  20560.000000  \n",
              "mean       0.231031      2.896109      0.589591  \n",
              "std        0.421503      2.059338      0.710383  \n",
              "min        0.000000      0.000000      0.000000  \n",
              "25%        0.000000      1.000000      0.000000  \n",
              "50%        0.000000      3.000000      0.000000  \n",
              "75%        0.000000      5.000000      1.000000  \n",
              "max        1.000000      6.000000      2.000000  "
            ],
            "text/html": [
              "\n",
              "  <div id=\"df-37c616cc-c2b2-4f36-8549-a13be529c7ac\">\n",
              "    <div class=\"colab-df-container\">\n",
              "      <div>\n",
              "<style scoped>\n",
              "    .dataframe tbody tr th:only-of-type {\n",
              "        vertical-align: middle;\n",
              "    }\n",
              "\n",
              "    .dataframe tbody tr th {\n",
              "        vertical-align: top;\n",
              "    }\n",
              "\n",
              "    .dataframe thead th {\n",
              "        text-align: right;\n",
              "    }\n",
              "</style>\n",
              "<table border=\"1\" class=\"dataframe\">\n",
              "  <thead>\n",
              "    <tr style=\"text-align: right;\">\n",
              "      <th></th>\n",
              "      <th>Temperature</th>\n",
              "      <th>Humidity</th>\n",
              "      <th>Light</th>\n",
              "      <th>CO2</th>\n",
              "      <th>HumidityRatio</th>\n",
              "      <th>Occupancy</th>\n",
              "      <th>day_of_week</th>\n",
              "      <th>time_of_day</th>\n",
              "    </tr>\n",
              "  </thead>\n",
              "  <tbody>\n",
              "    <tr>\n",
              "      <th>count</th>\n",
              "      <td>20560.000000</td>\n",
              "      <td>20560.000000</td>\n",
              "      <td>20560.000000</td>\n",
              "      <td>20560.000000</td>\n",
              "      <td>20560.000000</td>\n",
              "      <td>20560.000000</td>\n",
              "      <td>20560.000000</td>\n",
              "      <td>20560.000000</td>\n",
              "    </tr>\n",
              "    <tr>\n",
              "      <th>mean</th>\n",
              "      <td>20.906212</td>\n",
              "      <td>27.655925</td>\n",
              "      <td>130.756622</td>\n",
              "      <td>690.553276</td>\n",
              "      <td>0.004228</td>\n",
              "      <td>0.231031</td>\n",
              "      <td>2.896109</td>\n",
              "      <td>0.589591</td>\n",
              "    </tr>\n",
              "    <tr>\n",
              "      <th>std</th>\n",
              "      <td>1.055315</td>\n",
              "      <td>4.982154</td>\n",
              "      <td>210.430875</td>\n",
              "      <td>311.201281</td>\n",
              "      <td>0.000768</td>\n",
              "      <td>0.421503</td>\n",
              "      <td>2.059338</td>\n",
              "      <td>0.710383</td>\n",
              "    </tr>\n",
              "    <tr>\n",
              "      <th>min</th>\n",
              "      <td>19.000000</td>\n",
              "      <td>16.745000</td>\n",
              "      <td>0.000000</td>\n",
              "      <td>412.750000</td>\n",
              "      <td>0.002674</td>\n",
              "      <td>0.000000</td>\n",
              "      <td>0.000000</td>\n",
              "      <td>0.000000</td>\n",
              "    </tr>\n",
              "    <tr>\n",
              "      <th>25%</th>\n",
              "      <td>20.200000</td>\n",
              "      <td>24.500000</td>\n",
              "      <td>0.000000</td>\n",
              "      <td>460.000000</td>\n",
              "      <td>0.003719</td>\n",
              "      <td>0.000000</td>\n",
              "      <td>1.000000</td>\n",
              "      <td>0.000000</td>\n",
              "    </tr>\n",
              "    <tr>\n",
              "      <th>50%</th>\n",
              "      <td>20.700000</td>\n",
              "      <td>27.290000</td>\n",
              "      <td>0.000000</td>\n",
              "      <td>565.416667</td>\n",
              "      <td>0.004292</td>\n",
              "      <td>0.000000</td>\n",
              "      <td>3.000000</td>\n",
              "      <td>0.000000</td>\n",
              "    </tr>\n",
              "    <tr>\n",
              "      <th>75%</th>\n",
              "      <td>21.525000</td>\n",
              "      <td>31.290000</td>\n",
              "      <td>301.000000</td>\n",
              "      <td>804.666667</td>\n",
              "      <td>0.004832</td>\n",
              "      <td>0.000000</td>\n",
              "      <td>5.000000</td>\n",
              "      <td>1.000000</td>\n",
              "    </tr>\n",
              "    <tr>\n",
              "      <th>max</th>\n",
              "      <td>24.408333</td>\n",
              "      <td>39.500000</td>\n",
              "      <td>1697.250000</td>\n",
              "      <td>2076.500000</td>\n",
              "      <td>0.006476</td>\n",
              "      <td>1.000000</td>\n",
              "      <td>6.000000</td>\n",
              "      <td>2.000000</td>\n",
              "    </tr>\n",
              "  </tbody>\n",
              "</table>\n",
              "</div>\n",
              "      <button class=\"colab-df-convert\" onclick=\"convertToInteractive('df-37c616cc-c2b2-4f36-8549-a13be529c7ac')\"\n",
              "              title=\"Convert this dataframe to an interactive table.\"\n",
              "              style=\"display:none;\">\n",
              "        \n",
              "  <svg xmlns=\"http://www.w3.org/2000/svg\" height=\"24px\"viewBox=\"0 0 24 24\"\n",
              "       width=\"24px\">\n",
              "    <path d=\"M0 0h24v24H0V0z\" fill=\"none\"/>\n",
              "    <path d=\"M18.56 5.44l.94 2.06.94-2.06 2.06-.94-2.06-.94-.94-2.06-.94 2.06-2.06.94zm-11 1L8.5 8.5l.94-2.06 2.06-.94-2.06-.94L8.5 2.5l-.94 2.06-2.06.94zm10 10l.94 2.06.94-2.06 2.06-.94-2.06-.94-.94-2.06-.94 2.06-2.06.94z\"/><path d=\"M17.41 7.96l-1.37-1.37c-.4-.4-.92-.59-1.43-.59-.52 0-1.04.2-1.43.59L10.3 9.45l-7.72 7.72c-.78.78-.78 2.05 0 2.83L4 21.41c.39.39.9.59 1.41.59.51 0 1.02-.2 1.41-.59l7.78-7.78 2.81-2.81c.8-.78.8-2.07 0-2.86zM5.41 20L4 18.59l7.72-7.72 1.47 1.35L5.41 20z\"/>\n",
              "  </svg>\n",
              "      </button>\n",
              "      \n",
              "  <style>\n",
              "    .colab-df-container {\n",
              "      display:flex;\n",
              "      flex-wrap:wrap;\n",
              "      gap: 12px;\n",
              "    }\n",
              "\n",
              "    .colab-df-convert {\n",
              "      background-color: #E8F0FE;\n",
              "      border: none;\n",
              "      border-radius: 50%;\n",
              "      cursor: pointer;\n",
              "      display: none;\n",
              "      fill: #1967D2;\n",
              "      height: 32px;\n",
              "      padding: 0 0 0 0;\n",
              "      width: 32px;\n",
              "    }\n",
              "\n",
              "    .colab-df-convert:hover {\n",
              "      background-color: #E2EBFA;\n",
              "      box-shadow: 0px 1px 2px rgba(60, 64, 67, 0.3), 0px 1px 3px 1px rgba(60, 64, 67, 0.15);\n",
              "      fill: #174EA6;\n",
              "    }\n",
              "\n",
              "    [theme=dark] .colab-df-convert {\n",
              "      background-color: #3B4455;\n",
              "      fill: #D2E3FC;\n",
              "    }\n",
              "\n",
              "    [theme=dark] .colab-df-convert:hover {\n",
              "      background-color: #434B5C;\n",
              "      box-shadow: 0px 1px 3px 1px rgba(0, 0, 0, 0.15);\n",
              "      filter: drop-shadow(0px 1px 2px rgba(0, 0, 0, 0.3));\n",
              "      fill: #FFFFFF;\n",
              "    }\n",
              "  </style>\n",
              "\n",
              "      <script>\n",
              "        const buttonEl =\n",
              "          document.querySelector('#df-37c616cc-c2b2-4f36-8549-a13be529c7ac button.colab-df-convert');\n",
              "        buttonEl.style.display =\n",
              "          google.colab.kernel.accessAllowed ? 'block' : 'none';\n",
              "\n",
              "        async function convertToInteractive(key) {\n",
              "          const element = document.querySelector('#df-37c616cc-c2b2-4f36-8549-a13be529c7ac');\n",
              "          const dataTable =\n",
              "            await google.colab.kernel.invokeFunction('convertToInteractive',\n",
              "                                                     [key], {});\n",
              "          if (!dataTable) return;\n",
              "\n",
              "          const docLinkHtml = 'Like what you see? Visit the ' +\n",
              "            '<a target=\"_blank\" href=https://colab.research.google.com/notebooks/data_table.ipynb>data table notebook</a>'\n",
              "            + ' to learn more about interactive tables.';\n",
              "          element.innerHTML = '';\n",
              "          dataTable['output_type'] = 'display_data';\n",
              "          await google.colab.output.renderOutput(dataTable, element);\n",
              "          const docLink = document.createElement('div');\n",
              "          docLink.innerHTML = docLinkHtml;\n",
              "          element.appendChild(docLink);\n",
              "        }\n",
              "      </script>\n",
              "    </div>\n",
              "  </div>\n",
              "  "
            ]
          },
          "metadata": {},
          "execution_count": 17
        }
      ]
    },
    {
      "cell_type": "markdown",
      "source": [
        "## **Phase 5: Determine Co-Relation between features including new**"
      ],
      "metadata": {
        "id": "zvyJI1yV__eK"
      }
    },
    {
      "cell_type": "code",
      "source": [
        "corr_matrix = dataFrame.corr()\n",
        "\n",
        "fig, ax = plt.subplots(figsize=(10, 8))\n",
        "sns.heatmap(corr_matrix, annot=True, cmap='coolwarm', ax=ax)\n",
        "plt.title('Correlation Matrix')\n",
        "plt.show()"
      ],
      "metadata": {
        "colab": {
          "base_uri": "https://localhost:8080/",
          "height": 783
        },
        "id": "AI379lSNAGrN",
        "outputId": "c27115f7-99a4-4175-fff2-a5db2ee38003"
      },
      "execution_count": 18,
      "outputs": [
        {
          "output_type": "display_data",
          "data": {
            "text/plain": [
              "<Figure size 1000x800 with 2 Axes>"
            ],
            "image/png": "[encoded data removed]"
          },
          "metadata": {}
        }
      ]
    },
    {
      "cell_type": "markdown",
      "source": [
        "Based on the above co-relation matrix we can identify that out target (Occupancy) has a strong relationship between the below features,\n",
        "\n",
        "*   Light (Very Strong 91%)\n",
        "*   Temperature (Strong 56%)\n",
        "*   CO2 (Strong >50%)\n",
        "\n",
        "Above data shows that these features are an excellent predictor factors for out target class.\n",
        "\n",
        "Also, in the above heatmap we can identify that there is a strong relationship between the Humidity and the humidity ratio features. As the HumidityRation is derieved from the Humidity data they both have this strong co-relation. But for the model training process, we will drop the HumidityRatio feature as we believe it will impact the accuracy and the performance of the developed model.\n",
        "\n"
      ],
      "metadata": {
        "id": "7dVT7vzkCYSy"
      }
    },
    {
      "cell_type": "code",
      "source": [
        "if 'HumidityRatio' in dataFrame.columns:\n",
        "    dataFrame = dataFrame.drop('HumidityRatio', axis=1)\n",
        "else:\n",
        "    print(\"HumidityRatio feature is already removed\")\n",
        "\n",
        "dataFrame.describe()"
      ],
      "metadata": {
        "colab": {
          "base_uri": "https://localhost:8080/",
          "height": 297
        },
        "id": "hXQqaVZqEg_r",
        "outputId": "13b65167-23a9-4356-e922-ddf15013deec"
      },
      "execution_count": 19,
      "outputs": [
        {
          "output_type": "execute_result",
          "data": {
            "text/plain": [
              "        Temperature      Humidity         Light           CO2     Occupancy  \\\n",
              "count  20560.000000  20560.000000  20560.000000  20560.000000  20560.000000   \n",
              "mean      20.906212     27.655925    130.756622    690.553276      0.231031   \n",
              "std        1.055315      4.982154    210.430875    311.201281      0.421503   \n",
              "min       19.000000     16.745000      0.000000    412.750000      0.000000   \n",
              "25%       20.200000     24.500000      0.000000    460.000000      0.000000   \n",
              "50%       20.700000     27.290000      0.000000    565.416667      0.000000   \n",
              "75%       21.525000     31.290000    301.000000    804.666667      0.000000   \n",
              "max       24.408333     39.500000   1697.250000   2076.500000      1.000000   \n",
              "\n",
              "        day_of_week   time_of_day  \n",
              "count  20560.000000  20560.000000  \n",
              "mean       2.896109      0.589591  \n",
              "std        2.059338      0.710383  \n",
              "min        0.000000      0.000000  \n",
              "25%        1.000000      0.000000  \n",
              "50%        3.000000      0.000000  \n",
              "75%        5.000000      1.000000  \n",
              "max        6.000000      2.000000  "
            ],
            "text/html": [
              "\n",
              "  <div id=\"df-1308f235-5278-4e9b-9068-693d7749208c\">\n",
              "    <div class=\"colab-df-container\">\n",
              "      <div>\n",
              "<style scoped>\n",
              "    .dataframe tbody tr th:only-of-type {\n",
              "        vertical-align: middle;\n",
              "    }\n",
              "\n",
              "    .dataframe tbody tr th {\n",
              "        vertical-align: top;\n",
              "    }\n",
              "\n",
              "    .dataframe thead th {\n",
              "        text-align: right;\n",
              "    }\n",
              "</style>\n",
              "<table border=\"1\" class=\"dataframe\">\n",
              "  <thead>\n",
              "    <tr style=\"text-align: right;\">\n",
              "      <th></th>\n",
              "      <th>Temperature</th>\n",
              "      <th>Humidity</th>\n",
              "      <th>Light</th>\n",
              "      <th>CO2</th>\n",
              "      <th>Occupancy</th>\n",
              "      <th>day_of_week</th>\n",
              "      <th>time_of_day</th>\n",
              "    </tr>\n",
              "  </thead>\n",
              "  <tbody>\n",
              "    <tr>\n",
              "      <th>count</th>\n",
              "      <td>20560.000000</td>\n",
              "      <td>20560.000000</td>\n",
              "      <td>20560.000000</td>\n",
              "      <td>20560.000000</td>\n",
              "      <td>20560.000000</td>\n",
              "      <td>20560.000000</td>\n",
              "      <td>20560.000000</td>\n",
              "    </tr>\n",
              "    <tr>\n",
              "      <th>mean</th>\n",
              "      <td>20.906212</td>\n",
              "      <td>27.655925</td>\n",
              "      <td>130.756622</td>\n",
              "      <td>690.553276</td>\n",
              "      <td>0.231031</td>\n",
              "      <td>2.896109</td>\n",
              "      <td>0.589591</td>\n",
              "    </tr>\n",
              "    <tr>\n",
              "      <th>std</th>\n",
              "      <td>1.055315</td>\n",
              "      <td>4.982154</td>\n",
              "      <td>210.430875</td>\n",
              "      <td>311.201281</td>\n",
              "      <td>0.421503</td>\n",
              "      <td>2.059338</td>\n",
              "      <td>0.710383</td>\n",
              "    </tr>\n",
              "    <tr>\n",
              "      <th>min</th>\n",
              "      <td>19.000000</td>\n",
              "      <td>16.745000</td>\n",
              "      <td>0.000000</td>\n",
              "      <td>412.750000</td>\n",
              "      <td>0.000000</td>\n",
              "      <td>0.000000</td>\n",
              "      <td>0.000000</td>\n",
              "    </tr>\n",
              "    <tr>\n",
              "      <th>25%</th>\n",
              "      <td>20.200000</td>\n",
              "      <td>24.500000</td>\n",
              "      <td>0.000000</td>\n",
              "      <td>460.000000</td>\n",
              "      <td>0.000000</td>\n",
              "      <td>1.000000</td>\n",
              "      <td>0.000000</td>\n",
              "    </tr>\n",
              "    <tr>\n",
              "      <th>50%</th>\n",
              "      <td>20.700000</td>\n",
              "      <td>27.290000</td>\n",
              "      <td>0.000000</td>\n",
              "      <td>565.416667</td>\n",
              "      <td>0.000000</td>\n",
              "      <td>3.000000</td>\n",
              "      <td>0.000000</td>\n",
              "    </tr>\n",
              "    <tr>\n",
              "      <th>75%</th>\n",
              "      <td>21.525000</td>\n",
              "      <td>31.290000</td>\n",
              "      <td>301.000000</td>\n",
              "      <td>804.666667</td>\n",
              "      <td>0.000000</td>\n",
              "      <td>5.000000</td>\n",
              "      <td>1.000000</td>\n",
              "    </tr>\n",
              "    <tr>\n",
              "      <th>max</th>\n",
              "      <td>24.408333</td>\n",
              "      <td>39.500000</td>\n",
              "      <td>1697.250000</td>\n",
              "      <td>2076.500000</td>\n",
              "      <td>1.000000</td>\n",
              "      <td>6.000000</td>\n",
              "      <td>2.000000</td>\n",
              "    </tr>\n",
              "  </tbody>\n",
              "</table>\n",
              "</div>\n",
              "      <button class=\"colab-df-convert\" onclick=\"convertToInteractive('df-1308f235-5278-4e9b-9068-693d7749208c')\"\n",
              "              title=\"Convert this dataframe to an interactive table.\"\n",
              "              style=\"display:none;\">\n",
              "        \n",
              "  <svg xmlns=\"http://www.w3.org/2000/svg\" height=\"24px\"viewBox=\"0 0 24 24\"\n",
              "       width=\"24px\">\n",
              "    <path d=\"M0 0h24v24H0V0z\" fill=\"none\"/>\n",
              "    <path d=\"M18.56 5.44l.94 2.06.94-2.06 2.06-.94-2.06-.94-.94-2.06-.94 2.06-2.06.94zm-11 1L8.5 8.5l.94-2.06 2.06-.94-2.06-.94L8.5 2.5l-.94 2.06-2.06.94zm10 10l.94 2.06.94-2.06 2.06-.94-2.06-.94-.94-2.06-.94 2.06-2.06.94z\"/><path d=\"M17.41 7.96l-1.37-1.37c-.4-.4-.92-.59-1.43-.59-.52 0-1.04.2-1.43.59L10.3 9.45l-7.72 7.72c-.78.78-.78 2.05 0 2.83L4 21.41c.39.39.9.59 1.41.59.51 0 1.02-.2 1.41-.59l7.78-7.78 2.81-2.81c.8-.78.8-2.07 0-2.86zM5.41 20L4 18.59l7.72-7.72 1.47 1.35L5.41 20z\"/>\n",
              "  </svg>\n",
              "      </button>\n",
              "      \n",
              "  <style>\n",
              "    .colab-df-container {\n",
              "      display:flex;\n",
              "      flex-wrap:wrap;\n",
              "      gap: 12px;\n",
              "    }\n",
              "\n",
              "    .colab-df-convert {\n",
              "      background-color: #E8F0FE;\n",
              "      border: none;\n",
              "      border-radius: 50%;\n",
              "      cursor: pointer;\n",
              "      display: none;\n",
              "      fill: #1967D2;\n",
              "      height: 32px;\n",
              "      padding: 0 0 0 0;\n",
              "      width: 32px;\n",
              "    }\n",
              "\n",
              "    .colab-df-convert:hover {\n",
              "      background-color: #E2EBFA;\n",
              "      box-shadow: 0px 1px 2px rgba(60, 64, 67, 0.3), 0px 1px 3px 1px rgba(60, 64, 67, 0.15);\n",
              "      fill: #174EA6;\n",
              "    }\n",
              "\n",
              "    [theme=dark] .colab-df-convert {\n",
              "      background-color: #3B4455;\n",
              "      fill: #D2E3FC;\n",
              "    }\n",
              "\n",
              "    [theme=dark] .colab-df-convert:hover {\n",
              "      background-color: #434B5C;\n",
              "      box-shadow: 0px 1px 3px 1px rgba(0, 0, 0, 0.15);\n",
              "      filter: drop-shadow(0px 1px 2px rgba(0, 0, 0, 0.3));\n",
              "      fill: #FFFFFF;\n",
              "    }\n",
              "  </style>\n",
              "\n",
              "      <script>\n",
              "        const buttonEl =\n",
              "          document.querySelector('#df-1308f235-5278-4e9b-9068-693d7749208c button.colab-df-convert');\n",
              "        buttonEl.style.display =\n",
              "          google.colab.kernel.accessAllowed ? 'block' : 'none';\n",
              "\n",
              "        async function convertToInteractive(key) {\n",
              "          const element = document.querySelector('#df-1308f235-5278-4e9b-9068-693d7749208c');\n",
              "          const dataTable =\n",
              "            await google.colab.kernel.invokeFunction('convertToInteractive',\n",
              "                                                     [key], {});\n",
              "          if (!dataTable) return;\n",
              "\n",
              "          const docLinkHtml = 'Like what you see? Visit the ' +\n",
              "            '<a target=\"_blank\" href=https://colab.research.google.com/notebooks/data_table.ipynb>data table notebook</a>'\n",
              "            + ' to learn more about interactive tables.';\n",
              "          element.innerHTML = '';\n",
              "          dataTable['output_type'] = 'display_data';\n",
              "          await google.colab.output.renderOutput(dataTable, element);\n",
              "          const docLink = document.createElement('div');\n",
              "          docLink.innerHTML = docLinkHtml;\n",
              "          element.appendChild(docLink);\n",
              "        }\n",
              "      </script>\n",
              "    </div>\n",
              "  </div>\n",
              "  "
            ]
          },
          "metadata": {},
          "execution_count": 19
        }
      ]
    },
    {
      "cell_type": "code",
      "source": [
        "#Installing Pycaret\n",
        "\n",
        "!pip install pycaret"
      ],
      "metadata": {
        "id": "G_accxqjdv93",
        "colab": {
          "base_uri": "https://localhost:8080/"
        },
        "outputId": "9cfda4d0-6021-4012-8e2b-4a133e5272dc"
      },
      "execution_count": 20,
      "outputs": [
        {
          "output_type": "stream",
          "name": "stdout",
          "text": [
            "Looking in indexes: https://pypi.org/simple, https://us-python.pkg.dev/colab-wheels/public/simple/\n",
            "Requirement already satisfied: pycaret in /usr/local/lib/python3.10/dist-packages (3.0.1)\n",
            "Requirement already satisfied: ipython>=5.5.0 in /usr/local/lib/python3.10/dist-packages (from pycaret) (7.34.0)\n",
            "Requirement already satisfied: ipywidgets>=7.6.5 in /usr/local/lib/python3.10/dist-packages (from pycaret) (7.7.1)\n",
            "Requirement already satisfied: tqdm>=4.62.0 in /usr/local/lib/python3.10/dist-packages (from pycaret) (4.65.0)\n",
            "Requirement already satisfied: numpy<1.24,>=1.21 in /usr/local/lib/python3.10/dist-packages (from pycaret) (1.23.5)\n",
            "Requirement already satisfied: pandas<2.0.0,>=1.3.0 in /usr/local/lib/python3.10/dist-packages (from pycaret) (1.5.3)\n",
            "Requirement already satisfied: jinja2>=1.2 in /usr/local/lib/python3.10/dist-packages (from pycaret) (3.1.2)\n",
            "Requirement already satisfied: scipy<2.0.0 in /usr/local/lib/python3.10/dist-packages (from pycaret) (1.10.1)\n",
            "Requirement already satisfied: joblib>=1.2.0 in /usr/local/lib/python3.10/dist-packages (from pycaret) (1.2.0)\n",
            "Requirement already satisfied: scikit-learn>=1.0 in /usr/local/lib/python3.10/dist-packages (from pycaret) (1.2.2)\n",
            "Requirement already satisfied: pyod>=1.0.8 in /usr/local/lib/python3.10/dist-packages (from pycaret) (1.0.9)\n",
            "Requirement already satisfied: imbalanced-learn>=0.8.1 in /usr/local/lib/python3.10/dist-packages (from pycaret) (0.10.1)\n",
            "Requirement already satisfied: category-encoders>=2.4.0 in /usr/local/lib/python3.10/dist-packages (from pycaret) (2.6.1)\n",
            "Requirement already satisfied: lightgbm>=3.0.0 in /usr/local/lib/python3.10/dist-packages (from pycaret) (3.3.5)\n",
            "Requirement already satisfied: numba>=0.55.0 in /usr/local/lib/python3.10/dist-packages (from pycaret) (0.56.4)\n",
            "Requirement already satisfied: requests>=2.27.1 in /usr/local/lib/python3.10/dist-packages (from pycaret) (2.27.1)\n",
            "Requirement already satisfied: psutil>=5.9.0 in /usr/local/lib/python3.10/dist-packages (from pycaret) (5.9.5)\n",
            "Requirement already satisfied: markupsafe>=2.0.1 in /usr/local/lib/python3.10/dist-packages (from pycaret) (2.1.2)\n",
            "Requirement already satisfied: importlib-metadata>=4.12.0 in /usr/local/lib/python3.10/dist-packages (from pycaret) (6.6.0)\n",
            "Requirement already satisfied: nbformat>=4.2.0 in /usr/local/lib/python3.10/dist-packages (from pycaret) (5.8.0)\n",
            "Requirement already satisfied: cloudpickle in /usr/local/lib/python3.10/dist-packages (from pycaret) (2.2.1)\n",
            "Requirement already satisfied: deprecation>=2.1.0 in /usr/local/lib/python3.10/dist-packages (from pycaret) (2.1.0)\n",
            "Requirement already satisfied: xxhash in /usr/local/lib/python3.10/dist-packages (from pycaret) (3.2.0)\n",
            "Requirement already satisfied: matplotlib>=3.3.0 in /usr/local/lib/python3.10/dist-packages (from pycaret) (3.7.1)\n",
            "Requirement already satisfied: scikit-plot>=0.3.7 in /usr/local/lib/python3.10/dist-packages (from pycaret) (0.3.7)\n",
            "Requirement already satisfied: yellowbrick>=1.4 in /usr/local/lib/python3.10/dist-packages (from pycaret) (1.5)\n",
            "Requirement already satisfied: plotly>=5.0.0 in /usr/local/lib/python3.10/dist-packages (from pycaret) (5.13.1)\n",
            "Requirement already satisfied: kaleido>=0.2.1 in /usr/local/lib/python3.10/dist-packages (from pycaret) (0.2.1)\n",
            "Requirement already satisfied: schemdraw==0.15 in /usr/local/lib/python3.10/dist-packages (from pycaret) (0.15)\n",
            "Requirement already satisfied: plotly-resampler>=0.8.3.1 in /usr/local/lib/python3.10/dist-packages (from pycaret) (0.8.3.2)\n",
            "Requirement already satisfied: statsmodels>=0.12.1 in /usr/local/lib/python3.10/dist-packages (from pycaret) (0.13.5)\n",
            "Requirement already satisfied: sktime!=0.17.1,<0.17.2,>=0.16.1 in /usr/local/lib/python3.10/dist-packages (from pycaret) (0.17.0)\n",
            "Requirement already satisfied: tbats>=1.1.3 in /usr/local/lib/python3.10/dist-packages (from pycaret) (1.1.3)\n",
            "Requirement already satisfied: pmdarima!=1.8.1,<3.0.0,>=1.8.0 in /usr/local/lib/python3.10/dist-packages (from pycaret) (2.0.3)\n",
            "Requirement already satisfied: wurlitzer in /usr/local/lib/python3.10/dist-packages (from pycaret) (3.0.3)\n",
            "Requirement already satisfied: patsy>=0.5.1 in /usr/local/lib/python3.10/dist-packages (from category-encoders>=2.4.0->pycaret) (0.5.3)\n",
            "Requirement already satisfied: packaging in /usr/local/lib/python3.10/dist-packages (from deprecation>=2.1.0->pycaret) (23.1)\n",
            "Requirement already satisfied: threadpoolctl>=2.0.0 in /usr/local/lib/python3.10/dist-packages (from imbalanced-learn>=0.8.1->pycaret) (3.1.0)\n",
            "Requirement already satisfied: zipp>=0.5 in /usr/local/lib/python3.10/dist-packages (from importlib-metadata>=4.12.0->pycaret) (3.15.0)\n",
            "Requirement already satisfied: setuptools>=18.5 in /usr/local/lib/python3.10/dist-packages (from ipython>=5.5.0->pycaret) (67.7.2)\n",
            "Requirement already satisfied: jedi>=0.16 in /usr/local/lib/python3.10/dist-packages (from ipython>=5.5.0->pycaret) (0.18.2)\n",
            "Requirement already satisfied: decorator in /usr/local/lib/python3.10/dist-packages (from ipython>=5.5.0->pycaret) (4.4.2)\n",
            "Requirement already satisfied: pickleshare in /usr/local/lib/python3.10/dist-packages (from ipython>=5.5.0->pycaret) (0.7.5)\n",
            "Requirement already satisfied: traitlets>=4.2 in /usr/local/lib/python3.10/dist-packages (from ipython>=5.5.0->pycaret) (5.7.1)\n",
            "Requirement already satisfied: prompt-toolkit!=3.0.0,!=3.0.1,<3.1.0,>=2.0.0 in /usr/local/lib/python3.10/dist-packages (from ipython>=5.5.0->pycaret) (3.0.38)\n",
            "Requirement already satisfied: pygments in /usr/local/lib/python3.10/dist-packages (from ipython>=5.5.0->pycaret) (2.14.0)\n",
            "Requirement already satisfied: backcall in /usr/local/lib/python3.10/dist-packages (from ipython>=5.5.0->pycaret) (0.2.0)\n",
            "Requirement already satisfied: matplotlib-inline in /usr/local/lib/python3.10/dist-packages (from ipython>=5.5.0->pycaret) (0.1.6)\n",
            "Requirement already satisfied: pexpect>4.3 in /usr/local/lib/python3.10/dist-packages (from ipython>=5.5.0->pycaret) (4.8.0)\n",
            "Requirement already satisfied: ipykernel>=4.5.1 in /usr/local/lib/python3.10/dist-packages (from ipywidgets>=7.6.5->pycaret) (5.5.6)\n",
            "Requirement already satisfied: ipython-genutils~=0.2.0 in /usr/local/lib/python3.10/dist-packages (from ipywidgets>=7.6.5->pycaret) (0.2.0)\n",
            "Requirement already satisfied: widgetsnbextension~=3.6.0 in /usr/local/lib/python3.10/dist-packages (from ipywidgets>=7.6.5->pycaret) (3.6.4)\n",
            "Requirement already satisfied: jupyterlab-widgets>=1.0.0 in /usr/local/lib/python3.10/dist-packages (from ipywidgets>=7.6.5->pycaret) (3.0.7)\n",
            "Requirement already satisfied: wheel in /usr/local/lib/python3.10/dist-packages (from lightgbm>=3.0.0->pycaret) (0.40.0)\n",
            "Requirement already satisfied: contourpy>=1.0.1 in /usr/local/lib/python3.10/dist-packages (from matplotlib>=3.3.0->pycaret) (1.0.7)\n",
            "Requirement already satisfied: cycler>=0.10 in /usr/local/lib/python3.10/dist-packages (from matplotlib>=3.3.0->pycaret) (0.11.0)\n",
            "Requirement already satisfied: fonttools>=4.22.0 in /usr/local/lib/python3.10/dist-packages (from matplotlib>=3.3.0->pycaret) (4.39.3)\n",
            "Requirement already satisfied: kiwisolver>=1.0.1 in /usr/local/lib/python3.10/dist-packages (from matplotlib>=3.3.0->pycaret) (1.4.4)\n",
            "Requirement already satisfied: pillow>=6.2.0 in /usr/local/lib/python3.10/dist-packages (from matplotlib>=3.3.0->pycaret) (8.4.0)\n",
            "Requirement already satisfied: pyparsing>=2.3.1 in /usr/local/lib/python3.10/dist-packages (from matplotlib>=3.3.0->pycaret) (3.0.9)\n",
            "Requirement already satisfied: python-dateutil>=2.7 in /usr/local/lib/python3.10/dist-packages (from matplotlib>=3.3.0->pycaret) (2.8.2)\n",
            "Requirement already satisfied: fastjsonschema in /usr/local/lib/python3.10/dist-packages (from nbformat>=4.2.0->pycaret) (2.16.3)\n",
            "Requirement already satisfied: jsonschema>=2.6 in /usr/local/lib/python3.10/dist-packages (from nbformat>=4.2.0->pycaret) (4.3.3)\n",
            "Requirement already satisfied: jupyter-core in /usr/local/lib/python3.10/dist-packages (from nbformat>=4.2.0->pycaret) (5.3.0)\n",
            "Requirement already satisfied: llvmlite<0.40,>=0.39.0dev0 in /usr/local/lib/python3.10/dist-packages (from numba>=0.55.0->pycaret) (0.39.1)\n",
            "Requirement already satisfied: pytz>=2020.1 in /usr/local/lib/python3.10/dist-packages (from pandas<2.0.0,>=1.3.0->pycaret) (2022.7.1)\n",
            "Requirement already satisfied: tenacity>=6.2.0 in /usr/local/lib/python3.10/dist-packages (from plotly>=5.0.0->pycaret) (8.2.2)\n",
            "Requirement already satisfied: dash<3.0.0,>=2.2.0 in /usr/local/lib/python3.10/dist-packages (from plotly-resampler>=0.8.3.1->pycaret) (2.9.3)\n",
            "Requirement already satisfied: jupyter-dash>=0.4.2 in /usr/local/lib/python3.10/dist-packages (from plotly-resampler>=0.8.3.1->pycaret) (0.4.2)\n",
            "Requirement already satisfied: orjson<4.0.0,>=3.8.0 in /usr/local/lib/python3.10/dist-packages (from plotly-resampler>=0.8.3.1->pycaret) (3.8.12)\n",
            "Requirement already satisfied: trace-updater>=0.0.8 in /usr/local/lib/python3.10/dist-packages (from plotly-resampler>=0.8.3.1->pycaret) (0.0.9.1)\n",
            "Requirement already satisfied: Cython!=0.29.18,!=0.29.31,>=0.29 in /usr/local/lib/python3.10/dist-packages (from pmdarima!=1.8.1,<3.0.0,>=1.8.0->pycaret) (0.29.34)\n",
            "Requirement already satisfied: urllib3 in /usr/local/lib/python3.10/dist-packages (from pmdarima!=1.8.1,<3.0.0,>=1.8.0->pycaret) (1.26.15)\n",
            "Requirement already satisfied: six in /usr/local/lib/python3.10/dist-packages (from pyod>=1.0.8->pycaret) (1.16.0)\n",
            "Requirement already satisfied: certifi>=2017.4.17 in /usr/local/lib/python3.10/dist-packages (from requests>=2.27.1->pycaret) (2022.12.7)\n",
            "Requirement already satisfied: charset-normalizer~=2.0.0 in /usr/local/lib/python3.10/dist-packages (from requests>=2.27.1->pycaret) (2.0.12)\n",
            "Requirement already satisfied: idna<4,>=2.5 in /usr/local/lib/python3.10/dist-packages (from requests>=2.27.1->pycaret) (3.4)\n",
            "Requirement already satisfied: deprecated>=1.2.13 in /usr/local/lib/python3.10/dist-packages (from sktime!=0.17.1,<0.17.2,>=0.16.1->pycaret) (1.2.13)\n",
            "Requirement already satisfied: Flask>=1.0.4 in /usr/local/lib/python3.10/dist-packages (from dash<3.0.0,>=2.2.0->plotly-resampler>=0.8.3.1->pycaret) (2.2.4)\n",
            "Requirement already satisfied: dash-html-components==2.0.0 in /usr/local/lib/python3.10/dist-packages (from dash<3.0.0,>=2.2.0->plotly-resampler>=0.8.3.1->pycaret) (2.0.0)\n",
            "Requirement already satisfied: dash-core-components==2.0.0 in /usr/local/lib/python3.10/dist-packages (from dash<3.0.0,>=2.2.0->plotly-resampler>=0.8.3.1->pycaret) (2.0.0)\n",
            "Requirement already satisfied: dash-table==5.0.0 in /usr/local/lib/python3.10/dist-packages (from dash<3.0.0,>=2.2.0->plotly-resampler>=0.8.3.1->pycaret) (5.0.0)\n",
            "Requirement already satisfied: wrapt<2,>=1.10 in /usr/local/lib/python3.10/dist-packages (from deprecated>=1.2.13->sktime!=0.17.1,<0.17.2,>=0.16.1->pycaret) (1.14.1)\n",
            "Requirement already satisfied: jupyter-client in /usr/local/lib/python3.10/dist-packages (from ipykernel>=4.5.1->ipywidgets>=7.6.5->pycaret) (6.1.12)\n",
            "Requirement already satisfied: tornado>=4.2 in /usr/local/lib/python3.10/dist-packages (from ipykernel>=4.5.1->ipywidgets>=7.6.5->pycaret) (6.3.1)\n",
            "Requirement already satisfied: parso<0.9.0,>=0.8.0 in /usr/local/lib/python3.10/dist-packages (from jedi>=0.16->ipython>=5.5.0->pycaret) (0.8.3)\n",
            "Requirement already satisfied: attrs>=17.4.0 in /usr/local/lib/python3.10/dist-packages (from jsonschema>=2.6->nbformat>=4.2.0->pycaret) (23.1.0)\n",
            "Requirement already satisfied: pyrsistent!=0.17.0,!=0.17.1,!=0.17.2,>=0.14.0 in /usr/local/lib/python3.10/dist-packages (from jsonschema>=2.6->nbformat>=4.2.0->pycaret) (0.19.3)\n",
            "Requirement already satisfied: retrying in /usr/local/lib/python3.10/dist-packages (from jupyter-dash>=0.4.2->plotly-resampler>=0.8.3.1->pycaret) (1.3.4)\n",
            "Requirement already satisfied: ansi2html in /usr/local/lib/python3.10/dist-packages (from jupyter-dash>=0.4.2->plotly-resampler>=0.8.3.1->pycaret) (1.8.0)\n",
            "Requirement already satisfied: nest-asyncio in /usr/local/lib/python3.10/dist-packages (from jupyter-dash>=0.4.2->plotly-resampler>=0.8.3.1->pycaret) (1.5.6)\n",
            "Requirement already satisfied: ptyprocess>=0.5 in /usr/local/lib/python3.10/dist-packages (from pexpect>4.3->ipython>=5.5.0->pycaret) (0.7.0)\n",
            "Requirement already satisfied: wcwidth in /usr/local/lib/python3.10/dist-packages (from prompt-toolkit!=3.0.0,!=3.0.1,<3.1.0,>=2.0.0->ipython>=5.5.0->pycaret) (0.2.6)\n",
            "Requirement already satisfied: notebook>=4.4.1 in /usr/local/lib/python3.10/dist-packages (from widgetsnbextension~=3.6.0->ipywidgets>=7.6.5->pycaret) (6.4.8)\n",
            "Requirement already satisfied: platformdirs>=2.5 in /usr/local/lib/python3.10/dist-packages (from jupyter-core->nbformat>=4.2.0->pycaret) (3.3.0)\n",
            "Requirement already satisfied: Werkzeug>=2.2.2 in /usr/local/lib/python3.10/dist-packages (from Flask>=1.0.4->dash<3.0.0,>=2.2.0->plotly-resampler>=0.8.3.1->pycaret) (2.3.0)\n",
            "Requirement already satisfied: itsdangerous>=2.0 in /usr/local/lib/python3.10/dist-packages (from Flask>=1.0.4->dash<3.0.0,>=2.2.0->plotly-resampler>=0.8.3.1->pycaret) (2.1.2)\n",
            "Requirement already satisfied: click>=8.0 in /usr/local/lib/python3.10/dist-packages (from Flask>=1.0.4->dash<3.0.0,>=2.2.0->plotly-resampler>=0.8.3.1->pycaret) (8.1.3)\n",
            "Requirement already satisfied: pyzmq>=17 in /usr/local/lib/python3.10/dist-packages (from notebook>=4.4.1->widgetsnbextension~=3.6.0->ipywidgets>=7.6.5->pycaret) (23.2.1)\n",
            "Requirement already satisfied: argon2-cffi in /usr/local/lib/python3.10/dist-packages (from notebook>=4.4.1->widgetsnbextension~=3.6.0->ipywidgets>=7.6.5->pycaret) (21.3.0)\n",
            "Requirement already satisfied: nbconvert in /usr/local/lib/python3.10/dist-packages (from notebook>=4.4.1->widgetsnbextension~=3.6.0->ipywidgets>=7.6.5->pycaret) (6.5.4)\n",
            "Requirement already satisfied: Send2Trash>=1.8.0 in /usr/local/lib/python3.10/dist-packages (from notebook>=4.4.1->widgetsnbextension~=3.6.0->ipywidgets>=7.6.5->pycaret) (1.8.0)\n",
            "Requirement already satisfied: terminado>=0.8.3 in /usr/local/lib/python3.10/dist-packages (from notebook>=4.4.1->widgetsnbextension~=3.6.0->ipywidgets>=7.6.5->pycaret) (0.17.1)\n",
            "Requirement already satisfied: prometheus-client in /usr/local/lib/python3.10/dist-packages (from notebook>=4.4.1->widgetsnbextension~=3.6.0->ipywidgets>=7.6.5->pycaret) (0.16.0)\n",
            "Requirement already satisfied: argon2-cffi-bindings in /usr/local/lib/python3.10/dist-packages (from argon2-cffi->notebook>=4.4.1->widgetsnbextension~=3.6.0->ipywidgets>=7.6.5->pycaret) (21.2.0)\n",
            "Requirement already satisfied: lxml in /usr/local/lib/python3.10/dist-packages (from nbconvert->notebook>=4.4.1->widgetsnbextension~=3.6.0->ipywidgets>=7.6.5->pycaret) (4.9.2)\n",
            "Requirement already satisfied: beautifulsoup4 in /usr/local/lib/python3.10/dist-packages (from nbconvert->notebook>=4.4.1->widgetsnbextension~=3.6.0->ipywidgets>=7.6.5->pycaret) (4.11.2)\n",
            "Requirement already satisfied: bleach in /usr/local/lib/python3.10/dist-packages (from nbconvert->notebook>=4.4.1->widgetsnbextension~=3.6.0->ipywidgets>=7.6.5->pycaret) (6.0.0)\n",
            "Requirement already satisfied: defusedxml in /usr/local/lib/python3.10/dist-packages (from nbconvert->notebook>=4.4.1->widgetsnbextension~=3.6.0->ipywidgets>=7.6.5->pycaret) (0.7.1)\n",
            "Requirement already satisfied: entrypoints>=0.2.2 in /usr/local/lib/python3.10/dist-packages (from nbconvert->notebook>=4.4.1->widgetsnbextension~=3.6.0->ipywidgets>=7.6.5->pycaret) (0.4)\n",
            "Requirement already satisfied: jupyterlab-pygments in /usr/local/lib/python3.10/dist-packages (from nbconvert->notebook>=4.4.1->widgetsnbextension~=3.6.0->ipywidgets>=7.6.5->pycaret) (0.2.2)\n",
            "Requirement already satisfied: mistune<2,>=0.8.1 in /usr/local/lib/python3.10/dist-packages (from nbconvert->notebook>=4.4.1->widgetsnbextension~=3.6.0->ipywidgets>=7.6.5->pycaret) (0.8.4)\n",
            "Requirement already satisfied: nbclient>=0.5.0 in /usr/local/lib/python3.10/dist-packages (from nbconvert->notebook>=4.4.1->widgetsnbextension~=3.6.0->ipywidgets>=7.6.5->pycaret) (0.7.4)\n",
            "Requirement already satisfied: pandocfilters>=1.4.1 in /usr/local/lib/python3.10/dist-packages (from nbconvert->notebook>=4.4.1->widgetsnbextension~=3.6.0->ipywidgets>=7.6.5->pycaret) (1.5.0)\n",
            "Requirement already satisfied: tinycss2 in /usr/local/lib/python3.10/dist-packages (from nbconvert->notebook>=4.4.1->widgetsnbextension~=3.6.0->ipywidgets>=7.6.5->pycaret) (1.2.1)\n",
            "Requirement already satisfied: cffi>=1.0.1 in /usr/local/lib/python3.10/dist-packages (from argon2-cffi-bindings->argon2-cffi->notebook>=4.4.1->widgetsnbextension~=3.6.0->ipywidgets>=7.6.5->pycaret) (1.15.1)\n",
            "Requirement already satisfied: soupsieve>1.2 in /usr/local/lib/python3.10/dist-packages (from beautifulsoup4->nbconvert->notebook>=4.4.1->widgetsnbextension~=3.6.0->ipywidgets>=7.6.5->pycaret) (2.4.1)\n",
            "Requirement already satisfied: webencodings in /usr/local/lib/python3.10/dist-packages (from bleach->nbconvert->notebook>=4.4.1->widgetsnbextension~=3.6.0->ipywidgets>=7.6.5->pycaret) (0.5.1)\n",
            "Requirement already satisfied: pycparser in /usr/local/lib/python3.10/dist-packages (from cffi>=1.0.1->argon2-cffi-bindings->argon2-cffi->notebook>=4.4.1->widgetsnbextension~=3.6.0->ipywidgets>=7.6.5->pycaret) (2.21)\n"
          ]
        }
      ]
    },
    {
      "cell_type": "markdown",
      "source": [
        "## **Phase 5: Training and Evaluating the Models**\n",
        "\n",
        "\n"
      ],
      "metadata": {
        "id": "Gi5BmimRPvx-"
      }
    },
    {
      "cell_type": "markdown",
      "source": [
        "### Phase 5.1 Split testing and training data"
      ],
      "metadata": {
        "id": "ZoiB6DeBXwHl"
      }
    },
    {
      "cell_type": "code",
      "source": [
        "# Testing data will be 10% of the total dataset (1.0 - 0.1 = 10%)\n",
        "validationDataFrame = dataFrame.sample(frac=0.1, random_state=42)\n",
        "\n",
        "# Remaining 90% of the dataset\n",
        "dataFrame = dataFrame.drop(validationDataFrame.index)\n",
        "\n",
        "print(\"Validation data frame\", validationDataFrame.shape)\n",
        "print(\"Train-Test data frame\", dataFrame.shape)"
      ],
      "metadata": {
        "id": "zHNAGQzTYDF4",
        "colab": {
          "base_uri": "https://localhost:8080/"
        },
        "outputId": "0233679c-0262-406f-f260-b86d2a0e55ff"
      },
      "execution_count": 21,
      "outputs": [
        {
          "output_type": "stream",
          "name": "stdout",
          "text": [
            "Validation data frame (2056, 7)\n",
            "Train-Test data frame (18504, 7)\n"
          ]
        }
      ]
    },
    {
      "cell_type": "markdown",
      "source": [
        "### Phase 5.2 Feature selection stage\n",
        "\n",
        "On this stage we select the most important features to train the model. We can use the above co-relation matrix to decide which features to select. Based on it the features,\n",
        "\n",
        "*   Light\n",
        "*   Temperature\n",
        "*   CO2\n",
        "\n",
        "are a good selection of features to train the model on.\n",
        "\n",
        "For the training process, we train two models with providing different feature sets and measure their performance in the evaluation phase."
      ],
      "metadata": {
        "id": "Du9VNKldP8Hu"
      }
    },
    {
      "cell_type": "code",
      "source": [
        "modelFirst = dataFrame[['Temperature','Light','CO2','Occupancy']]\n",
        "modelSecond = dataFrame[['Temperature','Humidity','Light','CO2','Occupancy','day_of_week','time_of_day']]"
      ],
      "metadata": {
        "id": "GOm6_xhZZKZl"
      },
      "execution_count": 22,
      "outputs": []
    },
    {
      "cell_type": "code",
      "source": [
        "modelFirst.describe()"
      ],
      "metadata": {
        "colab": {
          "base_uri": "https://localhost:8080/",
          "height": 297
        },
        "id": "-StuZEXbcshc",
        "outputId": "1286d56d-7109-4713-b826-455b182bea9b"
      },
      "execution_count": 23,
      "outputs": [
        {
          "output_type": "execute_result",
          "data": {
            "text/plain": [
              "        Temperature         Light           CO2     Occupancy\n",
              "count  18504.000000  18504.000000  18504.000000  18504.000000\n",
              "mean      20.906182    130.080380    690.137394      0.229788\n",
              "std        1.056115    210.019514    310.963027      0.420708\n",
              "min       19.000000      0.000000    412.750000      0.000000\n",
              "25%       20.200000      0.000000    460.000000      0.000000\n",
              "50%       20.700000      0.000000    565.500000      0.000000\n",
              "75%       21.500000    293.666667    804.000000      0.000000\n",
              "max       24.408333   1546.333333   2076.500000      1.000000"
            ],
            "text/html": [
              "\n",
              "  <div id=\"df-718b6205-d62f-40db-8c89-4952aeaa465a\">\n",
              "    <div class=\"colab-df-container\">\n",
              "      <div>\n",
              "<style scoped>\n",
              "    .dataframe tbody tr th:only-of-type {\n",
              "        vertical-align: middle;\n",
              "    }\n",
              "\n",
              "    .dataframe tbody tr th {\n",
              "        vertical-align: top;\n",
              "    }\n",
              "\n",
              "    .dataframe thead th {\n",
              "        text-align: right;\n",
              "    }\n",
              "</style>\n",
              "<table border=\"1\" class=\"dataframe\">\n",
              "  <thead>\n",
              "    <tr style=\"text-align: right;\">\n",
              "      <th></th>\n",
              "      <th>Temperature</th>\n",
              "      <th>Light</th>\n",
              "      <th>CO2</th>\n",
              "      <th>Occupancy</th>\n",
              "    </tr>\n",
              "  </thead>\n",
              "  <tbody>\n",
              "    <tr>\n",
              "      <th>count</th>\n",
              "      <td>18504.000000</td>\n",
              "      <td>18504.000000</td>\n",
              "      <td>18504.000000</td>\n",
              "      <td>18504.000000</td>\n",
              "    </tr>\n",
              "    <tr>\n",
              "      <th>mean</th>\n",
              "      <td>20.906182</td>\n",
              "      <td>130.080380</td>\n",
              "      <td>690.137394</td>\n",
              "      <td>0.229788</td>\n",
              "    </tr>\n",
              "    <tr>\n",
              "      <th>std</th>\n",
              "      <td>1.056115</td>\n",
              "      <td>210.019514</td>\n",
              "      <td>310.963027</td>\n",
              "      <td>0.420708</td>\n",
              "    </tr>\n",
              "    <tr>\n",
              "      <th>min</th>\n",
              "      <td>19.000000</td>\n",
              "      <td>0.000000</td>\n",
              "      <td>412.750000</td>\n",
              "      <td>0.000000</td>\n",
              "    </tr>\n",
              "    <tr>\n",
              "      <th>25%</th>\n",
              "      <td>20.200000</td>\n",
              "      <td>0.000000</td>\n",
              "      <td>460.000000</td>\n",
              "      <td>0.000000</td>\n",
              "    </tr>\n",
              "    <tr>\n",
              "      <th>50%</th>\n",
              "      <td>20.700000</td>\n",
              "      <td>0.000000</td>\n",
              "      <td>565.500000</td>\n",
              "      <td>0.000000</td>\n",
              "    </tr>\n",
              "    <tr>\n",
              "      <th>75%</th>\n",
              "      <td>21.500000</td>\n",
              "      <td>293.666667</td>\n",
              "      <td>804.000000</td>\n",
              "      <td>0.000000</td>\n",
              "    </tr>\n",
              "    <tr>\n",
              "      <th>max</th>\n",
              "      <td>24.408333</td>\n",
              "      <td>1546.333333</td>\n",
              "      <td>2076.500000</td>\n",
              "      <td>1.000000</td>\n",
              "    </tr>\n",
              "  </tbody>\n",
              "</table>\n",
              "</div>\n",
              "      <button class=\"colab-df-convert\" onclick=\"convertToInteractive('df-718b6205-d62f-40db-8c89-4952aeaa465a')\"\n",
              "              title=\"Convert this dataframe to an interactive table.\"\n",
              "              style=\"display:none;\">\n",
              "        \n",
              "  <svg xmlns=\"http://www.w3.org/2000/svg\" height=\"24px\"viewBox=\"0 0 24 24\"\n",
              "       width=\"24px\">\n",
              "    <path d=\"M0 0h24v24H0V0z\" fill=\"none\"/>\n",
              "    <path d=\"M18.56 5.44l.94 2.06.94-2.06 2.06-.94-2.06-.94-.94-2.06-.94 2.06-2.06.94zm-11 1L8.5 8.5l.94-2.06 2.06-.94-2.06-.94L8.5 2.5l-.94 2.06-2.06.94zm10 10l.94 2.06.94-2.06 2.06-.94-2.06-.94-.94-2.06-.94 2.06-2.06.94z\"/><path d=\"M17.41 7.96l-1.37-1.37c-.4-.4-.92-.59-1.43-.59-.52 0-1.04.2-1.43.59L10.3 9.45l-7.72 7.72c-.78.78-.78 2.05 0 2.83L4 21.41c.39.39.9.59 1.41.59.51 0 1.02-.2 1.41-.59l7.78-7.78 2.81-2.81c.8-.78.8-2.07 0-2.86zM5.41 20L4 18.59l7.72-7.72 1.47 1.35L5.41 20z\"/>\n",
              "  </svg>\n",
              "      </button>\n",
              "      \n",
              "  <style>\n",
              "    .colab-df-container {\n",
              "      display:flex;\n",
              "      flex-wrap:wrap;\n",
              "      gap: 12px;\n",
              "    }\n",
              "\n",
              "    .colab-df-convert {\n",
              "      background-color: #E8F0FE;\n",
              "      border: none;\n",
              "      border-radius: 50%;\n",
              "      cursor: pointer;\n",
              "      display: none;\n",
              "      fill: #1967D2;\n",
              "      height: 32px;\n",
              "      padding: 0 0 0 0;\n",
              "      width: 32px;\n",
              "    }\n",
              "\n",
              "    .colab-df-convert:hover {\n",
              "      background-color: #E2EBFA;\n",
              "      box-shadow: 0px 1px 2px rgba(60, 64, 67, 0.3), 0px 1px 3px 1px rgba(60, 64, 67, 0.15);\n",
              "      fill: #174EA6;\n",
              "    }\n",
              "\n",
              "    [theme=dark] .colab-df-convert {\n",
              "      background-color: #3B4455;\n",
              "      fill: #D2E3FC;\n",
              "    }\n",
              "\n",
              "    [theme=dark] .colab-df-convert:hover {\n",
              "      background-color: #434B5C;\n",
              "      box-shadow: 0px 1px 3px 1px rgba(0, 0, 0, 0.15);\n",
              "      filter: drop-shadow(0px 1px 2px rgba(0, 0, 0, 0.3));\n",
              "      fill: #FFFFFF;\n",
              "    }\n",
              "  </style>\n",
              "\n",
              "      <script>\n",
              "        const buttonEl =\n",
              "          document.querySelector('#df-718b6205-d62f-40db-8c89-4952aeaa465a button.colab-df-convert');\n",
              "        buttonEl.style.display =\n",
              "          google.colab.kernel.accessAllowed ? 'block' : 'none';\n",
              "\n",
              "        async function convertToInteractive(key) {\n",
              "          const element = document.querySelector('#df-718b6205-d62f-40db-8c89-4952aeaa465a');\n",
              "          const dataTable =\n",
              "            await google.colab.kernel.invokeFunction('convertToInteractive',\n",
              "                                                     [key], {});\n",
              "          if (!dataTable) return;\n",
              "\n",
              "          const docLinkHtml = 'Like what you see? Visit the ' +\n",
              "            '<a target=\"_blank\" href=https://colab.research.google.com/notebooks/data_table.ipynb>data table notebook</a>'\n",
              "            + ' to learn more about interactive tables.';\n",
              "          element.innerHTML = '';\n",
              "          dataTable['output_type'] = 'display_data';\n",
              "          await google.colab.output.renderOutput(dataTable, element);\n",
              "          const docLink = document.createElement('div');\n",
              "          docLink.innerHTML = docLinkHtml;\n",
              "          element.appendChild(docLink);\n",
              "        }\n",
              "      </script>\n",
              "    </div>\n",
              "  </div>\n",
              "  "
            ]
          },
          "metadata": {},
          "execution_count": 23
        }
      ]
    },
    {
      "cell_type": "code",
      "source": [
        "modelSecond.describe()"
      ],
      "metadata": {
        "colab": {
          "base_uri": "https://localhost:8080/",
          "height": 297
        },
        "id": "b706LcXtctHc",
        "outputId": "e3020643-93ce-4784-9ca0-ff6d25518c94"
      },
      "execution_count": 24,
      "outputs": [
        {
          "output_type": "execute_result",
          "data": {
            "text/plain": [
              "        Temperature      Humidity         Light           CO2     Occupancy  \\\n",
              "count  18504.000000  18504.000000  18504.000000  18504.000000  18504.000000   \n",
              "mean      20.906182     27.645360    130.080380    690.137394      0.229788   \n",
              "std        1.056115      4.968251    210.019514    310.963027      0.420708   \n",
              "min       19.000000     16.745000      0.000000    412.750000      0.000000   \n",
              "25%       20.200000     24.500000      0.000000    460.000000      0.000000   \n",
              "50%       20.700000     27.282000      0.000000    565.500000      0.000000   \n",
              "75%       21.500000     31.245000    293.666667    804.000000      0.000000   \n",
              "max       24.408333     39.500000   1546.333333   2076.500000      1.000000   \n",
              "\n",
              "        day_of_week   time_of_day  \n",
              "count  18504.000000  18504.000000  \n",
              "mean       2.898617      0.591980  \n",
              "std        2.060111      0.711372  \n",
              "min        0.000000      0.000000  \n",
              "25%        1.000000      0.000000  \n",
              "50%        3.000000      0.000000  \n",
              "75%        5.000000      1.000000  \n",
              "max        6.000000      2.000000  "
            ],
            "text/html": [
              "\n",
              "  <div id=\"df-8af9c561-4ddf-42e5-a141-7185181dd1fe\">\n",
              "    <div class=\"colab-df-container\">\n",
              "      <div>\n",
              "<style scoped>\n",
              "    .dataframe tbody tr th:only-of-type {\n",
              "        vertical-align: middle;\n",
              "    }\n",
              "\n",
              "    .dataframe tbody tr th {\n",
              "        vertical-align: top;\n",
              "    }\n",
              "\n",
              "    .dataframe thead th {\n",
              "        text-align: right;\n",
              "    }\n",
              "</style>\n",
              "<table border=\"1\" class=\"dataframe\">\n",
              "  <thead>\n",
              "    <tr style=\"text-align: right;\">\n",
              "      <th></th>\n",
              "      <th>Temperature</th>\n",
              "      <th>Humidity</th>\n",
              "      <th>Light</th>\n",
              "      <th>CO2</th>\n",
              "      <th>Occupancy</th>\n",
              "      <th>day_of_week</th>\n",
              "      <th>time_of_day</th>\n",
              "    </tr>\n",
              "  </thead>\n",
              "  <tbody>\n",
              "    <tr>\n",
              "      <th>count</th>\n",
              "      <td>18504.000000</td>\n",
              "      <td>18504.000000</td>\n",
              "      <td>18504.000000</td>\n",
              "      <td>18504.000000</td>\n",
              "      <td>18504.000000</td>\n",
              "      <td>18504.000000</td>\n",
              "      <td>18504.000000</td>\n",
              "    </tr>\n",
              "    <tr>\n",
              "      <th>mean</th>\n",
              "      <td>20.906182</td>\n",
              "      <td>27.645360</td>\n",
              "      <td>130.080380</td>\n",
              "      <td>690.137394</td>\n",
              "      <td>0.229788</td>\n",
              "      <td>2.898617</td>\n",
              "      <td>0.591980</td>\n",
              "    </tr>\n",
              "    <tr>\n",
              "      <th>std</th>\n",
              "      <td>1.056115</td>\n",
              "      <td>4.968251</td>\n",
              "      <td>210.019514</td>\n",
              "      <td>310.963027</td>\n",
              "      <td>0.420708</td>\n",
              "      <td>2.060111</td>\n",
              "      <td>0.711372</td>\n",
              "    </tr>\n",
              "    <tr>\n",
              "      <th>min</th>\n",
              "      <td>19.000000</td>\n",
              "      <td>16.745000</td>\n",
              "      <td>0.000000</td>\n",
              "      <td>412.750000</td>\n",
              "      <td>0.000000</td>\n",
              "      <td>0.000000</td>\n",
              "      <td>0.000000</td>\n",
              "    </tr>\n",
              "    <tr>\n",
              "      <th>25%</th>\n",
              "      <td>20.200000</td>\n",
              "      <td>24.500000</td>\n",
              "      <td>0.000000</td>\n",
              "      <td>460.000000</td>\n",
              "      <td>0.000000</td>\n",
              "      <td>1.000000</td>\n",
              "      <td>0.000000</td>\n",
              "    </tr>\n",
              "    <tr>\n",
              "      <th>50%</th>\n",
              "      <td>20.700000</td>\n",
              "      <td>27.282000</td>\n",
              "      <td>0.000000</td>\n",
              "      <td>565.500000</td>\n",
              "      <td>0.000000</td>\n",
              "      <td>3.000000</td>\n",
              "      <td>0.000000</td>\n",
              "    </tr>\n",
              "    <tr>\n",
              "      <th>75%</th>\n",
              "      <td>21.500000</td>\n",
              "      <td>31.245000</td>\n",
              "      <td>293.666667</td>\n",
              "      <td>804.000000</td>\n",
              "      <td>0.000000</td>\n",
              "      <td>5.000000</td>\n",
              "      <td>1.000000</td>\n",
              "    </tr>\n",
              "    <tr>\n",
              "      <th>max</th>\n",
              "      <td>24.408333</td>\n",
              "      <td>39.500000</td>\n",
              "      <td>1546.333333</td>\n",
              "      <td>2076.500000</td>\n",
              "      <td>1.000000</td>\n",
              "      <td>6.000000</td>\n",
              "      <td>2.000000</td>\n",
              "    </tr>\n",
              "  </tbody>\n",
              "</table>\n",
              "</div>\n",
              "      <button class=\"colab-df-convert\" onclick=\"convertToInteractive('df-8af9c561-4ddf-42e5-a141-7185181dd1fe')\"\n",
              "              title=\"Convert this dataframe to an interactive table.\"\n",
              "              style=\"display:none;\">\n",
              "        \n",
              "  <svg xmlns=\"http://www.w3.org/2000/svg\" height=\"24px\"viewBox=\"0 0 24 24\"\n",
              "       width=\"24px\">\n",
              "    <path d=\"M0 0h24v24H0V0z\" fill=\"none\"/>\n",
              "    <path d=\"M18.56 5.44l.94 2.06.94-2.06 2.06-.94-2.06-.94-.94-2.06-.94 2.06-2.06.94zm-11 1L8.5 8.5l.94-2.06 2.06-.94-2.06-.94L8.5 2.5l-.94 2.06-2.06.94zm10 10l.94 2.06.94-2.06 2.06-.94-2.06-.94-.94-2.06-.94 2.06-2.06.94z\"/><path d=\"M17.41 7.96l-1.37-1.37c-.4-.4-.92-.59-1.43-.59-.52 0-1.04.2-1.43.59L10.3 9.45l-7.72 7.72c-.78.78-.78 2.05 0 2.83L4 21.41c.39.39.9.59 1.41.59.51 0 1.02-.2 1.41-.59l7.78-7.78 2.81-2.81c.8-.78.8-2.07 0-2.86zM5.41 20L4 18.59l7.72-7.72 1.47 1.35L5.41 20z\"/>\n",
              "  </svg>\n",
              "      </button>\n",
              "      \n",
              "  <style>\n",
              "    .colab-df-container {\n",
              "      display:flex;\n",
              "      flex-wrap:wrap;\n",
              "      gap: 12px;\n",
              "    }\n",
              "\n",
              "    .colab-df-convert {\n",
              "      background-color: #E8F0FE;\n",
              "      border: none;\n",
              "      border-radius: 50%;\n",
              "      cursor: pointer;\n",
              "      display: none;\n",
              "      fill: #1967D2;\n",
              "      height: 32px;\n",
              "      padding: 0 0 0 0;\n",
              "      width: 32px;\n",
              "    }\n",
              "\n",
              "    .colab-df-convert:hover {\n",
              "      background-color: #E2EBFA;\n",
              "      box-shadow: 0px 1px 2px rgba(60, 64, 67, 0.3), 0px 1px 3px 1px rgba(60, 64, 67, 0.15);\n",
              "      fill: #174EA6;\n",
              "    }\n",
              "\n",
              "    [theme=dark] .colab-df-convert {\n",
              "      background-color: #3B4455;\n",
              "      fill: #D2E3FC;\n",
              "    }\n",
              "\n",
              "    [theme=dark] .colab-df-convert:hover {\n",
              "      background-color: #434B5C;\n",
              "      box-shadow: 0px 1px 3px 1px rgba(0, 0, 0, 0.15);\n",
              "      filter: drop-shadow(0px 1px 2px rgba(0, 0, 0, 0.3));\n",
              "      fill: #FFFFFF;\n",
              "    }\n",
              "  </style>\n",
              "\n",
              "      <script>\n",
              "        const buttonEl =\n",
              "          document.querySelector('#df-8af9c561-4ddf-42e5-a141-7185181dd1fe button.colab-df-convert');\n",
              "        buttonEl.style.display =\n",
              "          google.colab.kernel.accessAllowed ? 'block' : 'none';\n",
              "\n",
              "        async function convertToInteractive(key) {\n",
              "          const element = document.querySelector('#df-8af9c561-4ddf-42e5-a141-7185181dd1fe');\n",
              "          const dataTable =\n",
              "            await google.colab.kernel.invokeFunction('convertToInteractive',\n",
              "                                                     [key], {});\n",
              "          if (!dataTable) return;\n",
              "\n",
              "          const docLinkHtml = 'Like what you see? Visit the ' +\n",
              "            '<a target=\"_blank\" href=https://colab.research.google.com/notebooks/data_table.ipynb>data table notebook</a>'\n",
              "            + ' to learn more about interactive tables.';\n",
              "          element.innerHTML = '';\n",
              "          dataTable['output_type'] = 'display_data';\n",
              "          await google.colab.output.renderOutput(dataTable, element);\n",
              "          const docLink = document.createElement('div');\n",
              "          docLink.innerHTML = docLinkHtml;\n",
              "          element.appendChild(docLink);\n",
              "        }\n",
              "      </script>\n",
              "    </div>\n",
              "  </div>\n",
              "  "
            ]
          },
          "metadata": {},
          "execution_count": 24
        }
      ]
    },
    {
      "cell_type": "markdown",
      "source": [
        "### Phase 5.3 Selection of the ML model\n",
        "\n",
        "\n",
        "\n"
      ],
      "metadata": {
        "id": "Br9BdO1Net5e"
      }
    },
    {
      "cell_type": "markdown",
      "source": [
        "For the machine learning and model training phase, we use PyCaret ML library which is developed on a set of dependencies.\n",
        "\n",
        "PyCaret is essentially a Python wrapper around several machine learning libraries and frameworks such as scikit-learn, XGBoost, LightGBM, CatBoost, Optuna, Hyperopt, Ray, and few more (GitHub)[https://github.com/pycaret/pycaret]."
      ],
      "metadata": {
        "id": "Fc_kyvPmc3T6"
      }
    },
    {
      "cell_type": "markdown",
      "source": [
        "## Fixing imbalance datasets\n",
        "\n",
        "The PyCaret dependency has the below parameters to fix the imbalance datasets. As our current datasets are in a imbalanced state, we use the power of PyCaret depencency to make the datasets balanced before training the model.\n",
        "\n",
        "*   fix_imbalance = True (Makes our dataset balance)\n",
        "*   fix_imbalance_method = We use undersampling the majority\n",
        "\n"
      ],
      "metadata": {
        "id": "_43ZSIQRgn2H"
      }
    },
    {
      "cell_type": "markdown",
      "source": [
        "### Phase 5.4 Model 1"
      ],
      "metadata": {
        "id": "sBS984yIw2P6"
      }
    },
    {
      "cell_type": "markdown",
      "source": [
        "#### **Phase 5.4.1 Training the Model 1**\n",
        "\n",
        "Features:\n",
        "*   Temperature\n",
        "*   Light\n",
        "*   Co2\n",
        "*   Occupancy (Target)\n",
        "\n"
      ],
      "metadata": {
        "id": "D7Ew2IirwRBv"
      }
    },
    {
      "cell_type": "code",
      "source": [
        "from pycaret.classification import *\n",
        "experimentFirst = setup(modelFirst, target='Occupancy', fix_imbalance=True, fix_imbalance_method='randomundersampler', data_split_shuffle = True, train_size = 0.8)\n",
        "\n",
        "#Using the PyCaret dependency we can execute the compare_models() method to evaluate all the ML models and get the best model based on different factors"
      ],
      "metadata": {
        "colab": {
          "base_uri": "https://localhost:8080/",
          "height": 700
        },
        "id": "PaHk-iIUeGf-",
        "outputId": "4471a220-8e13-4c5c-dc39-a62107cefea9"
      },
      "execution_count": 25,
      "outputs": [
        {
          "output_type": "display_data",
          "data": {
            "text/plain": [
              "<pandas.io.formats.style.Styler at 0x7fa3140dbca0>"
            ],
            "text/html": [
              "<style type=\"text/css\">\n",
              "#T_6812e_row8_col1, #T_6812e_row12_col1 {\n",
              "  background-color: lightgreen;\n",
              "}\n",
              "</style>\n",
              "<table id=\"T_6812e\" class=\"dataframe\">\n",
              "  <thead>\n",
              "    <tr>\n",
              "      <th class=\"blank level0\" >&nbsp;</th>\n",
              "      <th id=\"T_6812e_level0_col0\" class=\"col_heading level0 col0\" >Description</th>\n",
              "      <th id=\"T_6812e_level0_col1\" class=\"col_heading level0 col1\" >Value</th>\n",
              "    </tr>\n",
              "  </thead>\n",
              "  <tbody>\n",
              "    <tr>\n",
              "      <th id=\"T_6812e_level0_row0\" class=\"row_heading level0 row0\" >0</th>\n",
              "      <td id=\"T_6812e_row0_col0\" class=\"data row0 col0\" >Session id</td>\n",
              "      <td id=\"T_6812e_row0_col1\" class=\"data row0 col1\" >7666</td>\n",
              "    </tr>\n",
              "    <tr>\n",
              "      <th id=\"T_6812e_level0_row1\" class=\"row_heading level0 row1\" >1</th>\n",
              "      <td id=\"T_6812e_row1_col0\" class=\"data row1 col0\" >Target</td>\n",
              "      <td id=\"T_6812e_row1_col1\" class=\"data row1 col1\" >Occupancy</td>\n",
              "    </tr>\n",
              "    <tr>\n",
              "      <th id=\"T_6812e_level0_row2\" class=\"row_heading level0 row2\" >2</th>\n",
              "      <td id=\"T_6812e_row2_col0\" class=\"data row2 col0\" >Target type</td>\n",
              "      <td id=\"T_6812e_row2_col1\" class=\"data row2 col1\" >Binary</td>\n",
              "    </tr>\n",
              "    <tr>\n",
              "      <th id=\"T_6812e_level0_row3\" class=\"row_heading level0 row3\" >3</th>\n",
              "      <td id=\"T_6812e_row3_col0\" class=\"data row3 col0\" >Original data shape</td>\n",
              "      <td id=\"T_6812e_row3_col1\" class=\"data row3 col1\" >(18504, 4)</td>\n",
              "    </tr>\n",
              "    <tr>\n",
              "      <th id=\"T_6812e_level0_row4\" class=\"row_heading level0 row4\" >4</th>\n",
              "      <td id=\"T_6812e_row4_col0\" class=\"data row4 col0\" >Transformed data shape</td>\n",
              "      <td id=\"T_6812e_row4_col1\" class=\"data row4 col1\" >(10505, 4)</td>\n",
              "    </tr>\n",
              "    <tr>\n",
              "      <th id=\"T_6812e_level0_row5\" class=\"row_heading level0 row5\" >5</th>\n",
              "      <td id=\"T_6812e_row5_col0\" class=\"data row5 col0\" >Transformed train set shape</td>\n",
              "      <td id=\"T_6812e_row5_col1\" class=\"data row5 col1\" >(6804, 4)</td>\n",
              "    </tr>\n",
              "    <tr>\n",
              "      <th id=\"T_6812e_level0_row6\" class=\"row_heading level0 row6\" >6</th>\n",
              "      <td id=\"T_6812e_row6_col0\" class=\"data row6 col0\" >Transformed test set shape</td>\n",
              "      <td id=\"T_6812e_row6_col1\" class=\"data row6 col1\" >(3701, 4)</td>\n",
              "    </tr>\n",
              "    <tr>\n",
              "      <th id=\"T_6812e_level0_row7\" class=\"row_heading level0 row7\" >7</th>\n",
              "      <td id=\"T_6812e_row7_col0\" class=\"data row7 col0\" >Numeric features</td>\n",
              "      <td id=\"T_6812e_row7_col1\" class=\"data row7 col1\" >3</td>\n",
              "    </tr>\n",
              "    <tr>\n",
              "      <th id=\"T_6812e_level0_row8\" class=\"row_heading level0 row8\" >8</th>\n",
              "      <td id=\"T_6812e_row8_col0\" class=\"data row8 col0\" >Preprocess</td>\n",
              "      <td id=\"T_6812e_row8_col1\" class=\"data row8 col1\" >True</td>\n",
              "    </tr>\n",
              "    <tr>\n",
              "      <th id=\"T_6812e_level0_row9\" class=\"row_heading level0 row9\" >9</th>\n",
              "      <td id=\"T_6812e_row9_col0\" class=\"data row9 col0\" >Imputation type</td>\n",
              "      <td id=\"T_6812e_row9_col1\" class=\"data row9 col1\" >simple</td>\n",
              "    </tr>\n",
              "    <tr>\n",
              "      <th id=\"T_6812e_level0_row10\" class=\"row_heading level0 row10\" >10</th>\n",
              "      <td id=\"T_6812e_row10_col0\" class=\"data row10 col0\" >Numeric imputation</td>\n",
              "      <td id=\"T_6812e_row10_col1\" class=\"data row10 col1\" >mean</td>\n",
              "    </tr>\n",
              "    <tr>\n",
              "      <th id=\"T_6812e_level0_row11\" class=\"row_heading level0 row11\" >11</th>\n",
              "      <td id=\"T_6812e_row11_col0\" class=\"data row11 col0\" >Categorical imputation</td>\n",
              "      <td id=\"T_6812e_row11_col1\" class=\"data row11 col1\" >mode</td>\n",
              "    </tr>\n",
              "    <tr>\n",
              "      <th id=\"T_6812e_level0_row12\" class=\"row_heading level0 row12\" >12</th>\n",
              "      <td id=\"T_6812e_row12_col0\" class=\"data row12 col0\" >Fix imbalance</td>\n",
              "      <td id=\"T_6812e_row12_col1\" class=\"data row12 col1\" >True</td>\n",
              "    </tr>\n",
              "    <tr>\n",
              "      <th id=\"T_6812e_level0_row13\" class=\"row_heading level0 row13\" >13</th>\n",
              "      <td id=\"T_6812e_row13_col0\" class=\"data row13 col0\" >Fix imbalance method</td>\n",
              "      <td id=\"T_6812e_row13_col1\" class=\"data row13 col1\" >randomundersampler</td>\n",
              "    </tr>\n",
              "    <tr>\n",
              "      <th id=\"T_6812e_level0_row14\" class=\"row_heading level0 row14\" >14</th>\n",
              "      <td id=\"T_6812e_row14_col0\" class=\"data row14 col0\" >Fold Generator</td>\n",
              "      <td id=\"T_6812e_row14_col1\" class=\"data row14 col1\" >StratifiedKFold</td>\n",
              "    </tr>\n",
              "    <tr>\n",
              "      <th id=\"T_6812e_level0_row15\" class=\"row_heading level0 row15\" >15</th>\n",
              "      <td id=\"T_6812e_row15_col0\" class=\"data row15 col0\" >Fold Number</td>\n",
              "      <td id=\"T_6812e_row15_col1\" class=\"data row15 col1\" >10</td>\n",
              "    </tr>\n",
              "    <tr>\n",
              "      <th id=\"T_6812e_level0_row16\" class=\"row_heading level0 row16\" >16</th>\n",
              "      <td id=\"T_6812e_row16_col0\" class=\"data row16 col0\" >CPU Jobs</td>\n",
              "      <td id=\"T_6812e_row16_col1\" class=\"data row16 col1\" >-1</td>\n",
              "    </tr>\n",
              "    <tr>\n",
              "      <th id=\"T_6812e_level0_row17\" class=\"row_heading level0 row17\" >17</th>\n",
              "      <td id=\"T_6812e_row17_col0\" class=\"data row17 col0\" >Use GPU</td>\n",
              "      <td id=\"T_6812e_row17_col1\" class=\"data row17 col1\" >False</td>\n",
              "    </tr>\n",
              "    <tr>\n",
              "      <th id=\"T_6812e_level0_row18\" class=\"row_heading level0 row18\" >18</th>\n",
              "      <td id=\"T_6812e_row18_col0\" class=\"data row18 col0\" >Log Experiment</td>\n",
              "      <td id=\"T_6812e_row18_col1\" class=\"data row18 col1\" >False</td>\n",
              "    </tr>\n",
              "    <tr>\n",
              "      <th id=\"T_6812e_level0_row19\" class=\"row_heading level0 row19\" >19</th>\n",
              "      <td id=\"T_6812e_row19_col0\" class=\"data row19 col0\" >Experiment Name</td>\n",
              "      <td id=\"T_6812e_row19_col1\" class=\"data row19 col1\" >clf-default-name</td>\n",
              "    </tr>\n",
              "    <tr>\n",
              "      <th id=\"T_6812e_level0_row20\" class=\"row_heading level0 row20\" >20</th>\n",
              "      <td id=\"T_6812e_row20_col0\" class=\"data row20 col0\" >USI</td>\n",
              "      <td id=\"T_6812e_row20_col1\" class=\"data row20 col1\" >8bc5</td>\n",
              "    </tr>\n",
              "  </tbody>\n",
              "</table>\n"
            ]
          },
          "metadata": {}
        }
      ]
    },
    {
      "cell_type": "code",
      "source": [
        "best = compare_models()"
      ],
      "metadata": {
        "colab": {
          "base_uri": "https://localhost:8080/",
          "height": 514,
          "referenced_widgets": [
            "b84b77da5c3f4032b1791f0e32791234",
            "115780d1c15e4521954580d472857a11",
            "4433ea5f64fb4efca53dc510507a6986",
            "873b5b13f1af4f7a88754de087350a48",
            "2249874a3764476b8d6039abd682335b",
            "2e16a4f193c74610a814dab37bbaa89c",
            "84a5d21ce8994c6abcb49d0725bcac17",
            "fbbb72b50f2a4cdfbf541143d5b71065",
            "c832079372c94bd6893b3904977ab653",
            "0adfe5ad411d47c29900e2a446989f76",
            "38c621cb96614e0aaa0949b93029c89c"
          ]
        },
        "id": "EvWejtg8it3Q",
        "outputId": "7718e072-b6e4-4400-9242-b9a1279473af"
      },
      "execution_count": 27,
      "outputs": [
        {
          "output_type": "display_data",
          "data": {
            "text/plain": [
              "<IPython.core.display.HTML object>"
            ],
            "text/html": []
          },
          "metadata": {}
        },
        {
          "output_type": "display_data",
          "data": {
            "text/plain": [
              "<pandas.io.formats.style.Styler at 0x7fa33933d0f0>"
            ],
            "text/html": [
              "<style type=\"text/css\">\n",
              "#T_933ef th {\n",
              "  text-align: left;\n",
              "}\n",
              "#T_933ef_row0_col0, #T_933ef_row0_col3, #T_933ef_row1_col0, #T_933ef_row1_col1, #T_933ef_row1_col2, #T_933ef_row1_col3, #T_933ef_row1_col4, #T_933ef_row1_col5, #T_933ef_row1_col6, #T_933ef_row1_col7, #T_933ef_row2_col0, #T_933ef_row2_col1, #T_933ef_row2_col2, #T_933ef_row2_col3, #T_933ef_row2_col4, #T_933ef_row2_col5, #T_933ef_row2_col6, #T_933ef_row2_col7, #T_933ef_row3_col0, #T_933ef_row3_col1, #T_933ef_row3_col2, #T_933ef_row3_col3, #T_933ef_row3_col4, #T_933ef_row3_col5, #T_933ef_row3_col6, #T_933ef_row3_col7, #T_933ef_row4_col0, #T_933ef_row4_col1, #T_933ef_row4_col2, #T_933ef_row4_col3, #T_933ef_row4_col4, #T_933ef_row4_col5, #T_933ef_row4_col6, #T_933ef_row4_col7, #T_933ef_row5_col0, #T_933ef_row5_col1, #T_933ef_row5_col2, #T_933ef_row5_col3, #T_933ef_row5_col4, #T_933ef_row5_col5, #T_933ef_row5_col6, #T_933ef_row5_col7, #T_933ef_row6_col0, #T_933ef_row6_col1, #T_933ef_row6_col2, #T_933ef_row6_col3, #T_933ef_row6_col4, #T_933ef_row6_col5, #T_933ef_row6_col6, #T_933ef_row6_col7, #T_933ef_row7_col0, #T_933ef_row7_col1, #T_933ef_row7_col2, #T_933ef_row7_col3, #T_933ef_row7_col4, #T_933ef_row7_col5, #T_933ef_row7_col6, #T_933ef_row7_col7, #T_933ef_row8_col0, #T_933ef_row8_col1, #T_933ef_row8_col2, #T_933ef_row8_col3, #T_933ef_row8_col4, #T_933ef_row8_col5, #T_933ef_row8_col6, #T_933ef_row8_col7, #T_933ef_row9_col0, #T_933ef_row9_col1, #T_933ef_row9_col2, #T_933ef_row9_col3, #T_933ef_row9_col4, #T_933ef_row9_col5, #T_933ef_row9_col6, #T_933ef_row9_col7, #T_933ef_row10_col0, #T_933ef_row10_col1, #T_933ef_row10_col2, #T_933ef_row10_col3, #T_933ef_row10_col4, #T_933ef_row10_col5, #T_933ef_row10_col6, #T_933ef_row10_col7, #T_933ef_row11_col0, #T_933ef_row11_col1, #T_933ef_row11_col2, #T_933ef_row11_col3, #T_933ef_row11_col4, #T_933ef_row11_col5, #T_933ef_row11_col6, #T_933ef_row11_col7, #T_933ef_row12_col0, #T_933ef_row12_col1, #T_933ef_row12_col2, #T_933ef_row12_col4, #T_933ef_row12_col5, #T_933ef_row12_col6, #T_933ef_row12_col7, #T_933ef_row13_col0, #T_933ef_row13_col1, #T_933ef_row13_col2, #T_933ef_row13_col3, #T_933ef_row13_col4, #T_933ef_row13_col5, #T_933ef_row13_col6, #T_933ef_row13_col7, #T_933ef_row14_col0, #T_933ef_row14_col1, #T_933ef_row14_col2, #T_933ef_row14_col3, #T_933ef_row14_col4, #T_933ef_row14_col5, #T_933ef_row14_col6, #T_933ef_row14_col7 {\n",
              "  text-align: left;\n",
              "}\n",
              "#T_933ef_row0_col1, #T_933ef_row0_col2, #T_933ef_row0_col4, #T_933ef_row0_col5, #T_933ef_row0_col6, #T_933ef_row0_col7, #T_933ef_row12_col3 {\n",
              "  text-align: left;\n",
              "  background-color: yellow;\n",
              "}\n",
              "#T_933ef_row0_col8, #T_933ef_row1_col8, #T_933ef_row2_col8, #T_933ef_row3_col8, #T_933ef_row4_col8, #T_933ef_row5_col8, #T_933ef_row6_col8, #T_933ef_row7_col8, #T_933ef_row8_col8, #T_933ef_row9_col8, #T_933ef_row10_col8, #T_933ef_row12_col8, #T_933ef_row13_col8, #T_933ef_row14_col8 {\n",
              "  text-align: left;\n",
              "  background-color: lightgrey;\n",
              "}\n",
              "#T_933ef_row11_col8 {\n",
              "  text-align: left;\n",
              "  background-color: yellow;\n",
              "  background-color: lightgrey;\n",
              "}\n",
              "</style>\n",
              "<table id=\"T_933ef\" class=\"dataframe\">\n",
              "  <thead>\n",
              "    <tr>\n",
              "      <th class=\"blank level0\" >&nbsp;</th>\n",
              "      <th id=\"T_933ef_level0_col0\" class=\"col_heading level0 col0\" >Model</th>\n",
              "      <th id=\"T_933ef_level0_col1\" class=\"col_heading level0 col1\" >Accuracy</th>\n",
              "      <th id=\"T_933ef_level0_col2\" class=\"col_heading level0 col2\" >AUC</th>\n",
              "      <th id=\"T_933ef_level0_col3\" class=\"col_heading level0 col3\" >Recall</th>\n",
              "      <th id=\"T_933ef_level0_col4\" class=\"col_heading level0 col4\" >Prec.</th>\n",
              "      <th id=\"T_933ef_level0_col5\" class=\"col_heading level0 col5\" >F1</th>\n",
              "      <th id=\"T_933ef_level0_col6\" class=\"col_heading level0 col6\" >Kappa</th>\n",
              "      <th id=\"T_933ef_level0_col7\" class=\"col_heading level0 col7\" >MCC</th>\n",
              "      <th id=\"T_933ef_level0_col8\" class=\"col_heading level0 col8\" >TT (Sec)</th>\n",
              "    </tr>\n",
              "  </thead>\n",
              "  <tbody>\n",
              "    <tr>\n",
              "      <th id=\"T_933ef_level0_row0\" class=\"row_heading level0 row0\" >et</th>\n",
              "      <td id=\"T_933ef_row0_col0\" class=\"data row0 col0\" >Extra Trees Classifier</td>\n",
              "      <td id=\"T_933ef_row0_col1\" class=\"data row0 col1\" >0.9906</td>\n",
              "      <td id=\"T_933ef_row0_col2\" class=\"data row0 col2\" >0.9982</td>\n",
              "      <td id=\"T_933ef_row0_col3\" class=\"data row0 col3\" >0.9935</td>\n",
              "      <td id=\"T_933ef_row0_col4\" class=\"data row0 col4\" >0.9666</td>\n",
              "      <td id=\"T_933ef_row0_col5\" class=\"data row0 col5\" >0.9799</td>\n",
              "      <td id=\"T_933ef_row0_col6\" class=\"data row0 col6\" >0.9737</td>\n",
              "      <td id=\"T_933ef_row0_col7\" class=\"data row0 col7\" >0.9739</td>\n",
              "      <td id=\"T_933ef_row0_col8\" class=\"data row0 col8\" >0.5670</td>\n",
              "    </tr>\n",
              "    <tr>\n",
              "      <th id=\"T_933ef_level0_row1\" class=\"row_heading level0 row1\" >xgboost</th>\n",
              "      <td id=\"T_933ef_row1_col0\" class=\"data row1 col0\" >Extreme Gradient Boosting</td>\n",
              "      <td id=\"T_933ef_row1_col1\" class=\"data row1 col1\" >0.9901</td>\n",
              "      <td id=\"T_933ef_row1_col2\" class=\"data row1 col2\" >0.9978</td>\n",
              "      <td id=\"T_933ef_row1_col3\" class=\"data row1 col3\" >0.9947</td>\n",
              "      <td id=\"T_933ef_row1_col4\" class=\"data row1 col4\" >0.9636</td>\n",
              "      <td id=\"T_933ef_row1_col5\" class=\"data row1 col5\" >0.9789</td>\n",
              "      <td id=\"T_933ef_row1_col6\" class=\"data row1 col6\" >0.9725</td>\n",
              "      <td id=\"T_933ef_row1_col7\" class=\"data row1 col7\" >0.9727</td>\n",
              "      <td id=\"T_933ef_row1_col8\" class=\"data row1 col8\" >0.6910</td>\n",
              "    </tr>\n",
              "    <tr>\n",
              "      <th id=\"T_933ef_level0_row2\" class=\"row_heading level0 row2\" >lightgbm</th>\n",
              "      <td id=\"T_933ef_row2_col0\" class=\"data row2 col0\" >Light Gradient Boosting Machine</td>\n",
              "      <td id=\"T_933ef_row2_col1\" class=\"data row2 col1\" >0.9900</td>\n",
              "      <td id=\"T_933ef_row2_col2\" class=\"data row2 col2\" >0.9979</td>\n",
              "      <td id=\"T_933ef_row2_col3\" class=\"data row2 col3\" >0.9941</td>\n",
              "      <td id=\"T_933ef_row2_col4\" class=\"data row2 col4\" >0.9636</td>\n",
              "      <td id=\"T_933ef_row2_col5\" class=\"data row2 col5\" >0.9786</td>\n",
              "      <td id=\"T_933ef_row2_col6\" class=\"data row2 col6\" >0.9721</td>\n",
              "      <td id=\"T_933ef_row2_col7\" class=\"data row2 col7\" >0.9723</td>\n",
              "      <td id=\"T_933ef_row2_col8\" class=\"data row2 col8\" >0.2960</td>\n",
              "    </tr>\n",
              "    <tr>\n",
              "      <th id=\"T_933ef_level0_row3\" class=\"row_heading level0 row3\" >knn</th>\n",
              "      <td id=\"T_933ef_row3_col0\" class=\"data row3 col0\" >K Neighbors Classifier</td>\n",
              "      <td id=\"T_933ef_row3_col1\" class=\"data row3 col1\" >0.9893</td>\n",
              "      <td id=\"T_933ef_row3_col2\" class=\"data row3 col2\" >0.9948</td>\n",
              "      <td id=\"T_933ef_row3_col3\" class=\"data row3 col3\" >0.9956</td>\n",
              "      <td id=\"T_933ef_row3_col4\" class=\"data row3 col4\" >0.9596</td>\n",
              "      <td id=\"T_933ef_row3_col5\" class=\"data row3 col5\" >0.9772</td>\n",
              "      <td id=\"T_933ef_row3_col6\" class=\"data row3 col6\" >0.9703</td>\n",
              "      <td id=\"T_933ef_row3_col7\" class=\"data row3 col7\" >0.9706</td>\n",
              "      <td id=\"T_933ef_row3_col8\" class=\"data row3 col8\" >0.2320</td>\n",
              "    </tr>\n",
              "    <tr>\n",
              "      <th id=\"T_933ef_level0_row4\" class=\"row_heading level0 row4\" >rf</th>\n",
              "      <td id=\"T_933ef_row4_col0\" class=\"data row4 col0\" >Random Forest Classifier</td>\n",
              "      <td id=\"T_933ef_row4_col1\" class=\"data row4 col1\" >0.9893</td>\n",
              "      <td id=\"T_933ef_row4_col2\" class=\"data row4 col2\" >0.9978</td>\n",
              "      <td id=\"T_933ef_row4_col3\" class=\"data row4 col3\" >0.9938</td>\n",
              "      <td id=\"T_933ef_row4_col4\" class=\"data row4 col4\" >0.9608</td>\n",
              "      <td id=\"T_933ef_row4_col5\" class=\"data row4 col5\" >0.9770</td>\n",
              "      <td id=\"T_933ef_row4_col6\" class=\"data row4 col6\" >0.9700</td>\n",
              "      <td id=\"T_933ef_row4_col7\" class=\"data row4 col7\" >0.9703</td>\n",
              "      <td id=\"T_933ef_row4_col8\" class=\"data row4 col8\" >0.7690</td>\n",
              "    </tr>\n",
              "    <tr>\n",
              "      <th id=\"T_933ef_level0_row5\" class=\"row_heading level0 row5\" >ada</th>\n",
              "      <td id=\"T_933ef_row5_col0\" class=\"data row5 col0\" >Ada Boost Classifier</td>\n",
              "      <td id=\"T_933ef_row5_col1\" class=\"data row5 col1\" >0.9890</td>\n",
              "      <td id=\"T_933ef_row5_col2\" class=\"data row5 col2\" >0.9972</td>\n",
              "      <td id=\"T_933ef_row5_col3\" class=\"data row5 col3\" >0.9956</td>\n",
              "      <td id=\"T_933ef_row5_col4\" class=\"data row5 col4\" >0.9582</td>\n",
              "      <td id=\"T_933ef_row5_col5\" class=\"data row5 col5\" >0.9765</td>\n",
              "      <td id=\"T_933ef_row5_col6\" class=\"data row5 col6\" >0.9693</td>\n",
              "      <td id=\"T_933ef_row5_col7\" class=\"data row5 col7\" >0.9696</td>\n",
              "      <td id=\"T_933ef_row5_col8\" class=\"data row5 col8\" >0.4260</td>\n",
              "    </tr>\n",
              "    <tr>\n",
              "      <th id=\"T_933ef_level0_row6\" class=\"row_heading level0 row6\" >lr</th>\n",
              "      <td id=\"T_933ef_row6_col0\" class=\"data row6 col0\" >Logistic Regression</td>\n",
              "      <td id=\"T_933ef_row6_col1\" class=\"data row6 col1\" >0.9882</td>\n",
              "      <td id=\"T_933ef_row6_col2\" class=\"data row6 col2\" >0.9946</td>\n",
              "      <td id=\"T_933ef_row6_col3\" class=\"data row6 col3\" >0.9965</td>\n",
              "      <td id=\"T_933ef_row6_col4\" class=\"data row6 col4\" >0.9542</td>\n",
              "      <td id=\"T_933ef_row6_col5\" class=\"data row6 col5\" >0.9749</td>\n",
              "      <td id=\"T_933ef_row6_col6\" class=\"data row6 col6\" >0.9671</td>\n",
              "      <td id=\"T_933ef_row6_col7\" class=\"data row6 col7\" >0.9675</td>\n",
              "      <td id=\"T_933ef_row6_col8\" class=\"data row6 col8\" >0.1450</td>\n",
              "    </tr>\n",
              "    <tr>\n",
              "      <th id=\"T_933ef_level0_row7\" class=\"row_heading level0 row7\" >gbc</th>\n",
              "      <td id=\"T_933ef_row7_col0\" class=\"data row7 col0\" >Gradient Boosting Classifier</td>\n",
              "      <td id=\"T_933ef_row7_col1\" class=\"data row7 col1\" >0.9878</td>\n",
              "      <td id=\"T_933ef_row7_col2\" class=\"data row7 col2\" >0.9971</td>\n",
              "      <td id=\"T_933ef_row7_col3\" class=\"data row7 col3\" >0.9929</td>\n",
              "      <td id=\"T_933ef_row7_col4\" class=\"data row7 col4\" >0.9559</td>\n",
              "      <td id=\"T_933ef_row7_col5\" class=\"data row7 col5\" >0.9741</td>\n",
              "      <td id=\"T_933ef_row7_col6\" class=\"data row7 col6\" >0.9661</td>\n",
              "      <td id=\"T_933ef_row7_col7\" class=\"data row7 col7\" >0.9664</td>\n",
              "      <td id=\"T_933ef_row7_col8\" class=\"data row7 col8\" >0.9870</td>\n",
              "    </tr>\n",
              "    <tr>\n",
              "      <th id=\"T_933ef_level0_row8\" class=\"row_heading level0 row8\" >dt</th>\n",
              "      <td id=\"T_933ef_row8_col0\" class=\"data row8 col0\" >Decision Tree Classifier</td>\n",
              "      <td id=\"T_933ef_row8_col1\" class=\"data row8 col1\" >0.9873</td>\n",
              "      <td id=\"T_933ef_row8_col2\" class=\"data row8 col2\" >0.9867</td>\n",
              "      <td id=\"T_933ef_row8_col3\" class=\"data row8 col3\" >0.9856</td>\n",
              "      <td id=\"T_933ef_row8_col4\" class=\"data row8 col4\" >0.9603</td>\n",
              "      <td id=\"T_933ef_row8_col5\" class=\"data row8 col5\" >0.9727</td>\n",
              "      <td id=\"T_933ef_row8_col6\" class=\"data row8 col6\" >0.9645</td>\n",
              "      <td id=\"T_933ef_row8_col7\" class=\"data row8 col7\" >0.9646</td>\n",
              "      <td id=\"T_933ef_row8_col8\" class=\"data row8 col8\" >0.1500</td>\n",
              "    </tr>\n",
              "    <tr>\n",
              "      <th id=\"T_933ef_level0_row9\" class=\"row_heading level0 row9\" >lda</th>\n",
              "      <td id=\"T_933ef_row9_col0\" class=\"data row9 col0\" >Linear Discriminant Analysis</td>\n",
              "      <td id=\"T_933ef_row9_col1\" class=\"data row9 col1\" >0.9827</td>\n",
              "      <td id=\"T_933ef_row9_col2\" class=\"data row9 col2\" >0.9940</td>\n",
              "      <td id=\"T_933ef_row9_col3\" class=\"data row9 col3\" >0.9971</td>\n",
              "      <td id=\"T_933ef_row9_col4\" class=\"data row9 col4\" >0.9325</td>\n",
              "      <td id=\"T_933ef_row9_col5\" class=\"data row9 col5\" >0.9637</td>\n",
              "      <td id=\"T_933ef_row9_col6\" class=\"data row9 col6\" >0.9523</td>\n",
              "      <td id=\"T_933ef_row9_col7\" class=\"data row9 col7\" >0.9533</td>\n",
              "      <td id=\"T_933ef_row9_col8\" class=\"data row9 col8\" >0.0940</td>\n",
              "    </tr>\n",
              "    <tr>\n",
              "      <th id=\"T_933ef_level0_row10\" class=\"row_heading level0 row10\" >ridge</th>\n",
              "      <td id=\"T_933ef_row10_col0\" class=\"data row10 col0\" >Ridge Classifier</td>\n",
              "      <td id=\"T_933ef_row10_col1\" class=\"data row10 col1\" >0.9826</td>\n",
              "      <td id=\"T_933ef_row10_col2\" class=\"data row10 col2\" >0.0000</td>\n",
              "      <td id=\"T_933ef_row10_col3\" class=\"data row10 col3\" >0.9971</td>\n",
              "      <td id=\"T_933ef_row10_col4\" class=\"data row10 col4\" >0.9322</td>\n",
              "      <td id=\"T_933ef_row10_col5\" class=\"data row10 col5\" >0.9635</td>\n",
              "      <td id=\"T_933ef_row10_col6\" class=\"data row10 col6\" >0.9522</td>\n",
              "      <td id=\"T_933ef_row10_col7\" class=\"data row10 col7\" >0.9531</td>\n",
              "      <td id=\"T_933ef_row10_col8\" class=\"data row10 col8\" >0.1170</td>\n",
              "    </tr>\n",
              "    <tr>\n",
              "      <th id=\"T_933ef_level0_row11\" class=\"row_heading level0 row11\" >qda</th>\n",
              "      <td id=\"T_933ef_row11_col0\" class=\"data row11 col0\" >Quadratic Discriminant Analysis</td>\n",
              "      <td id=\"T_933ef_row11_col1\" class=\"data row11 col1\" >0.9814</td>\n",
              "      <td id=\"T_933ef_row11_col2\" class=\"data row11 col2\" >0.9939</td>\n",
              "      <td id=\"T_933ef_row11_col3\" class=\"data row11 col3\" >0.9974</td>\n",
              "      <td id=\"T_933ef_row11_col4\" class=\"data row11 col4\" >0.9272</td>\n",
              "      <td id=\"T_933ef_row11_col5\" class=\"data row11 col5\" >0.9610</td>\n",
              "      <td id=\"T_933ef_row11_col6\" class=\"data row11 col6\" >0.9487</td>\n",
              "      <td id=\"T_933ef_row11_col7\" class=\"data row11 col7\" >0.9499</td>\n",
              "      <td id=\"T_933ef_row11_col8\" class=\"data row11 col8\" >0.0830</td>\n",
              "    </tr>\n",
              "    <tr>\n",
              "      <th id=\"T_933ef_level0_row12\" class=\"row_heading level0 row12\" >nb</th>\n",
              "      <td id=\"T_933ef_row12_col0\" class=\"data row12 col0\" >Naive Bayes</td>\n",
              "      <td id=\"T_933ef_row12_col1\" class=\"data row12 col1\" >0.9647</td>\n",
              "      <td id=\"T_933ef_row12_col2\" class=\"data row12 col2\" >0.9940</td>\n",
              "      <td id=\"T_933ef_row12_col3\" class=\"data row12 col3\" >0.9985</td>\n",
              "      <td id=\"T_933ef_row12_col4\" class=\"data row12 col4\" >0.8684</td>\n",
              "      <td id=\"T_933ef_row12_col5\" class=\"data row12 col5\" >0.9288</td>\n",
              "      <td id=\"T_933ef_row12_col6\" class=\"data row12 col6\" >0.9055</td>\n",
              "      <td id=\"T_933ef_row12_col7\" class=\"data row12 col7\" >0.9095</td>\n",
              "      <td id=\"T_933ef_row12_col8\" class=\"data row12 col8\" >0.1310</td>\n",
              "    </tr>\n",
              "    <tr>\n",
              "      <th id=\"T_933ef_level0_row13\" class=\"row_heading level0 row13\" >svm</th>\n",
              "      <td id=\"T_933ef_row13_col0\" class=\"data row13 col0\" >SVM - Linear Kernel</td>\n",
              "      <td id=\"T_933ef_row13_col1\" class=\"data row13 col1\" >0.9635</td>\n",
              "      <td id=\"T_933ef_row13_col2\" class=\"data row13 col2\" >0.0000</td>\n",
              "      <td id=\"T_933ef_row13_col3\" class=\"data row13 col3\" >0.9968</td>\n",
              "      <td id=\"T_933ef_row13_col4\" class=\"data row13 col4\" >0.8791</td>\n",
              "      <td id=\"T_933ef_row13_col5\" class=\"data row13 col5\" >0.9307</td>\n",
              "      <td id=\"T_933ef_row13_col6\" class=\"data row13 col6\" >0.9066</td>\n",
              "      <td id=\"T_933ef_row13_col7\" class=\"data row13 col7\" >0.9129</td>\n",
              "      <td id=\"T_933ef_row13_col8\" class=\"data row13 col8\" >0.1520</td>\n",
              "    </tr>\n",
              "    <tr>\n",
              "      <th id=\"T_933ef_level0_row14\" class=\"row_heading level0 row14\" >dummy</th>\n",
              "      <td id=\"T_933ef_row14_col0\" class=\"data row14 col0\" >Dummy Classifier</td>\n",
              "      <td id=\"T_933ef_row14_col1\" class=\"data row14 col1\" >0.7702</td>\n",
              "      <td id=\"T_933ef_row14_col2\" class=\"data row14 col2\" >0.5000</td>\n",
              "      <td id=\"T_933ef_row14_col3\" class=\"data row14 col3\" >0.0000</td>\n",
              "      <td id=\"T_933ef_row14_col4\" class=\"data row14 col4\" >0.0000</td>\n",
              "      <td id=\"T_933ef_row14_col5\" class=\"data row14 col5\" >0.0000</td>\n",
              "      <td id=\"T_933ef_row14_col6\" class=\"data row14 col6\" >0.0000</td>\n",
              "      <td id=\"T_933ef_row14_col7\" class=\"data row14 col7\" >0.0000</td>\n",
              "      <td id=\"T_933ef_row14_col8\" class=\"data row14 col8\" >0.0870</td>\n",
              "    </tr>\n",
              "  </tbody>\n",
              "</table>\n"
            ]
          },
          "metadata": {}
        },
        {
          "output_type": "display_data",
          "data": {
            "text/plain": [
              "Processing:   0%|          | 0/65 [00:00<?, ?it/s]"
            ],
            "application/vnd.jupyter.widget-view+json": {
              "version_major": 2,
              "version_minor": 0,
              "model_id": "b84b77da5c3f4032b1791f0e32791234"
            }
          },
          "metadata": {
            "application/vnd.jupyter.widget-view+json": {
              "colab": {
                "custom_widget_manager": {
                  "url": "https://ssl.gstatic.com/colaboratory-static/widgets/colab-cdn-widget-manager/b3e629b1971e1542/manager.min.js"
                }
              }
            }
          }
        },
        {
          "output_type": "display_data",
          "data": {
            "text/plain": [
              "<IPython.core.display.HTML object>"
            ],
            "text/html": []
          },
          "metadata": {}
        }
      ]
    },
    {
      "cell_type": "markdown",
      "source": [
        "From the above result, we can decide that the Extra Trees Classifier is the most suitable model for the training operation. We can select the et (extra trees) for the training process as it has the most,\n",
        "\n",
        "*   Accuracy (99.06%)\n",
        "*   Recall value (0.9881)\n",
        "*   Precision (0.95658)\n",
        "*   F1 Score (0.9799)\n",
        "\n",
        "As the above scores are satisfying, we can continue with the Extra Trees Classifier ML model to train our First Model.\n",
        "\n"
      ],
      "metadata": {
        "id": "PHhQ2LSbkGzU"
      }
    },
    {
      "cell_type": "code",
      "source": [
        "classifierOne = create_model('et')"
      ],
      "metadata": {
        "colab": {
          "base_uri": "https://localhost:8080/",
          "height": 452,
          "referenced_widgets": [
            "8b8ab5abeef943e390905619ba6e7dd8",
            "212cc3af308144aebd4723eecb598636",
            "8166068a09f145c29b52f136b3adb573",
            "3d3659f7cc2a485c8104957178a080f3",
            "fd64f4545ac0445d831a8034ba9944a2",
            "7261c0f1401546708b96a53c49ff017f",
            "f63df92479ea4f79887428ca2830c489",
            "f6694e0447574e939d660a479bfaba87",
            "596e7b05830b4fda80bacc7d7abc5cd7",
            "d79f1a9ea1794ca0a067d7722257431f",
            "d57de86238814f9282bb96521ae4a4f7"
          ]
        },
        "id": "3fX3TAHCmcnI",
        "outputId": "335f5d69-153d-4dc7-dbc1-00927744a817"
      },
      "execution_count": 28,
      "outputs": [
        {
          "output_type": "display_data",
          "data": {
            "text/plain": [
              "<IPython.core.display.HTML object>"
            ],
            "text/html": []
          },
          "metadata": {}
        },
        {
          "output_type": "display_data",
          "data": {
            "text/plain": [
              "<pandas.io.formats.style.Styler at 0x7fa32c40e3b0>"
            ],
            "text/html": [
              "<style type=\"text/css\">\n",
              "#T_3dd97_row10_col0, #T_3dd97_row10_col1, #T_3dd97_row10_col2, #T_3dd97_row10_col3, #T_3dd97_row10_col4, #T_3dd97_row10_col5, #T_3dd97_row10_col6 {\n",
              "  background: yellow;\n",
              "}\n",
              "</style>\n",
              "<table id=\"T_3dd97\" class=\"dataframe\">\n",
              "  <thead>\n",
              "    <tr>\n",
              "      <th class=\"blank level0\" >&nbsp;</th>\n",
              "      <th id=\"T_3dd97_level0_col0\" class=\"col_heading level0 col0\" >Accuracy</th>\n",
              "      <th id=\"T_3dd97_level0_col1\" class=\"col_heading level0 col1\" >AUC</th>\n",
              "      <th id=\"T_3dd97_level0_col2\" class=\"col_heading level0 col2\" >Recall</th>\n",
              "      <th id=\"T_3dd97_level0_col3\" class=\"col_heading level0 col3\" >Prec.</th>\n",
              "      <th id=\"T_3dd97_level0_col4\" class=\"col_heading level0 col4\" >F1</th>\n",
              "      <th id=\"T_3dd97_level0_col5\" class=\"col_heading level0 col5\" >Kappa</th>\n",
              "      <th id=\"T_3dd97_level0_col6\" class=\"col_heading level0 col6\" >MCC</th>\n",
              "    </tr>\n",
              "    <tr>\n",
              "      <th class=\"index_name level0\" >Fold</th>\n",
              "      <th class=\"blank col0\" >&nbsp;</th>\n",
              "      <th class=\"blank col1\" >&nbsp;</th>\n",
              "      <th class=\"blank col2\" >&nbsp;</th>\n",
              "      <th class=\"blank col3\" >&nbsp;</th>\n",
              "      <th class=\"blank col4\" >&nbsp;</th>\n",
              "      <th class=\"blank col5\" >&nbsp;</th>\n",
              "      <th class=\"blank col6\" >&nbsp;</th>\n",
              "    </tr>\n",
              "  </thead>\n",
              "  <tbody>\n",
              "    <tr>\n",
              "      <th id=\"T_3dd97_level0_row0\" class=\"row_heading level0 row0\" >0</th>\n",
              "      <td id=\"T_3dd97_row0_col0\" class=\"data row0 col0\" >0.9892</td>\n",
              "      <td id=\"T_3dd97_row0_col1\" class=\"data row0 col1\" >0.9981</td>\n",
              "      <td id=\"T_3dd97_row0_col2\" class=\"data row0 col2\" >0.9971</td>\n",
              "      <td id=\"T_3dd97_row0_col3\" class=\"data row0 col3\" >0.9576</td>\n",
              "      <td id=\"T_3dd97_row0_col4\" class=\"data row0 col4\" >0.9769</td>\n",
              "      <td id=\"T_3dd97_row0_col5\" class=\"data row0 col5\" >0.9699</td>\n",
              "      <td id=\"T_3dd97_row0_col6\" class=\"data row0 col6\" >0.9702</td>\n",
              "    </tr>\n",
              "    <tr>\n",
              "      <th id=\"T_3dd97_level0_row1\" class=\"row_heading level0 row1\" >1</th>\n",
              "      <td id=\"T_3dd97_row1_col0\" class=\"data row1 col0\" >0.9899</td>\n",
              "      <td id=\"T_3dd97_row1_col1\" class=\"data row1 col1\" >0.9975</td>\n",
              "      <td id=\"T_3dd97_row1_col2\" class=\"data row1 col2\" >0.9824</td>\n",
              "      <td id=\"T_3dd97_row1_col3\" class=\"data row1 col3\" >0.9738</td>\n",
              "      <td id=\"T_3dd97_row1_col4\" class=\"data row1 col4\" >0.9781</td>\n",
              "      <td id=\"T_3dd97_row1_col5\" class=\"data row1 col5\" >0.9715</td>\n",
              "      <td id=\"T_3dd97_row1_col6\" class=\"data row1 col6\" >0.9715</td>\n",
              "    </tr>\n",
              "    <tr>\n",
              "      <th id=\"T_3dd97_level0_row2\" class=\"row_heading level0 row2\" >2</th>\n",
              "      <td id=\"T_3dd97_row2_col0\" class=\"data row2 col0\" >0.9926</td>\n",
              "      <td id=\"T_3dd97_row2_col1\" class=\"data row2 col1\" >0.9993</td>\n",
              "      <td id=\"T_3dd97_row2_col2\" class=\"data row2 col2\" >0.9941</td>\n",
              "      <td id=\"T_3dd97_row2_col3\" class=\"data row2 col3\" >0.9741</td>\n",
              "      <td id=\"T_3dd97_row2_col4\" class=\"data row2 col4\" >0.9840</td>\n",
              "      <td id=\"T_3dd97_row2_col5\" class=\"data row2 col5\" >0.9792</td>\n",
              "      <td id=\"T_3dd97_row2_col6\" class=\"data row2 col6\" >0.9793</td>\n",
              "    </tr>\n",
              "    <tr>\n",
              "      <th id=\"T_3dd97_level0_row3\" class=\"row_heading level0 row3\" >3</th>\n",
              "      <td id=\"T_3dd97_row3_col0\" class=\"data row3 col0\" >0.9905</td>\n",
              "      <td id=\"T_3dd97_row3_col1\" class=\"data row3 col1\" >0.9983</td>\n",
              "      <td id=\"T_3dd97_row3_col2\" class=\"data row3 col2\" >0.9941</td>\n",
              "      <td id=\"T_3dd97_row3_col3\" class=\"data row3 col3\" >0.9657</td>\n",
              "      <td id=\"T_3dd97_row3_col4\" class=\"data row3 col4\" >0.9797</td>\n",
              "      <td id=\"T_3dd97_row3_col5\" class=\"data row3 col5\" >0.9735</td>\n",
              "      <td id=\"T_3dd97_row3_col6\" class=\"data row3 col6\" >0.9737</td>\n",
              "    </tr>\n",
              "    <tr>\n",
              "      <th id=\"T_3dd97_level0_row4\" class=\"row_heading level0 row4\" >4</th>\n",
              "      <td id=\"T_3dd97_row4_col0\" class=\"data row4 col0\" >0.9939</td>\n",
              "      <td id=\"T_3dd97_row4_col1\" class=\"data row4 col1\" >0.9973</td>\n",
              "      <td id=\"T_3dd97_row4_col2\" class=\"data row4 col2\" >0.9971</td>\n",
              "      <td id=\"T_3dd97_row4_col3\" class=\"data row4 col3\" >0.9769</td>\n",
              "      <td id=\"T_3dd97_row4_col4\" class=\"data row4 col4\" >0.9869</td>\n",
              "      <td id=\"T_3dd97_row4_col5\" class=\"data row4 col5\" >0.9829</td>\n",
              "      <td id=\"T_3dd97_row4_col6\" class=\"data row4 col6\" >0.9830</td>\n",
              "    </tr>\n",
              "    <tr>\n",
              "      <th id=\"T_3dd97_level0_row5\" class=\"row_heading level0 row5\" >5</th>\n",
              "      <td id=\"T_3dd97_row5_col0\" class=\"data row5 col0\" >0.9919</td>\n",
              "      <td id=\"T_3dd97_row5_col1\" class=\"data row5 col1\" >0.9986</td>\n",
              "      <td id=\"T_3dd97_row5_col2\" class=\"data row5 col2\" >1.0000</td>\n",
              "      <td id=\"T_3dd97_row5_col3\" class=\"data row5 col3\" >0.9659</td>\n",
              "      <td id=\"T_3dd97_row5_col4\" class=\"data row5 col4\" >0.9827</td>\n",
              "      <td id=\"T_3dd97_row5_col5\" class=\"data row5 col5\" >0.9774</td>\n",
              "      <td id=\"T_3dd97_row5_col6\" class=\"data row5 col6\" >0.9776</td>\n",
              "    </tr>\n",
              "    <tr>\n",
              "      <th id=\"T_3dd97_level0_row6\" class=\"row_heading level0 row6\" >6</th>\n",
              "      <td id=\"T_3dd97_row6_col0\" class=\"data row6 col0\" >0.9932</td>\n",
              "      <td id=\"T_3dd97_row6_col1\" class=\"data row6 col1\" >0.9992</td>\n",
              "      <td id=\"T_3dd97_row6_col2\" class=\"data row6 col2\" >0.9971</td>\n",
              "      <td id=\"T_3dd97_row6_col3\" class=\"data row6 col3\" >0.9741</td>\n",
              "      <td id=\"T_3dd97_row6_col4\" class=\"data row6 col4\" >0.9855</td>\n",
              "      <td id=\"T_3dd97_row6_col5\" class=\"data row6 col5\" >0.9811</td>\n",
              "      <td id=\"T_3dd97_row6_col6\" class=\"data row6 col6\" >0.9812</td>\n",
              "    </tr>\n",
              "    <tr>\n",
              "      <th id=\"T_3dd97_level0_row7\" class=\"row_heading level0 row7\" >7</th>\n",
              "      <td id=\"T_3dd97_row7_col0\" class=\"data row7 col0\" >0.9892</td>\n",
              "      <td id=\"T_3dd97_row7_col1\" class=\"data row7 col1\" >0.9974</td>\n",
              "      <td id=\"T_3dd97_row7_col2\" class=\"data row7 col2\" >0.9912</td>\n",
              "      <td id=\"T_3dd97_row7_col3\" class=\"data row7 col3\" >0.9629</td>\n",
              "      <td id=\"T_3dd97_row7_col4\" class=\"data row7 col4\" >0.9768</td>\n",
              "      <td id=\"T_3dd97_row7_col5\" class=\"data row7 col5\" >0.9698</td>\n",
              "      <td id=\"T_3dd97_row7_col6\" class=\"data row7 col6\" >0.9699</td>\n",
              "    </tr>\n",
              "    <tr>\n",
              "      <th id=\"T_3dd97_level0_row8\" class=\"row_heading level0 row8\" >8</th>\n",
              "      <td id=\"T_3dd97_row8_col0\" class=\"data row8 col0\" >0.9872</td>\n",
              "      <td id=\"T_3dd97_row8_col1\" class=\"data row8 col1\" >0.9955</td>\n",
              "      <td id=\"T_3dd97_row8_col2\" class=\"data row8 col2\" >0.9941</td>\n",
              "      <td id=\"T_3dd97_row8_col3\" class=\"data row8 col3\" >0.9521</td>\n",
              "      <td id=\"T_3dd97_row8_col4\" class=\"data row8 col4\" >0.9727</td>\n",
              "      <td id=\"T_3dd97_row8_col5\" class=\"data row8 col5\" >0.9643</td>\n",
              "      <td id=\"T_3dd97_row8_col6\" class=\"data row8 col6\" >0.9647</td>\n",
              "    </tr>\n",
              "    <tr>\n",
              "      <th id=\"T_3dd97_level0_row9\" class=\"row_heading level0 row9\" >9</th>\n",
              "      <td id=\"T_3dd97_row9_col0\" class=\"data row9 col0\" >0.9885</td>\n",
              "      <td id=\"T_3dd97_row9_col1\" class=\"data row9 col1\" >0.9978</td>\n",
              "      <td id=\"T_3dd97_row9_col2\" class=\"data row9 col2\" >0.9971</td>\n",
              "      <td id=\"T_3dd97_row9_col3\" class=\"data row9 col3\" >0.9549</td>\n",
              "      <td id=\"T_3dd97_row9_col4\" class=\"data row9 col4\" >0.9755</td>\n",
              "      <td id=\"T_3dd97_row9_col5\" class=\"data row9 col5\" >0.9680</td>\n",
              "      <td id=\"T_3dd97_row9_col6\" class=\"data row9 col6\" >0.9684</td>\n",
              "    </tr>\n",
              "    <tr>\n",
              "      <th id=\"T_3dd97_level0_row10\" class=\"row_heading level0 row10\" >Mean</th>\n",
              "      <td id=\"T_3dd97_row10_col0\" class=\"data row10 col0\" >0.9906</td>\n",
              "      <td id=\"T_3dd97_row10_col1\" class=\"data row10 col1\" >0.9979</td>\n",
              "      <td id=\"T_3dd97_row10_col2\" class=\"data row10 col2\" >0.9944</td>\n",
              "      <td id=\"T_3dd97_row10_col3\" class=\"data row10 col3\" >0.9658</td>\n",
              "      <td id=\"T_3dd97_row10_col4\" class=\"data row10 col4\" >0.9799</td>\n",
              "      <td id=\"T_3dd97_row10_col5\" class=\"data row10 col5\" >0.9738</td>\n",
              "      <td id=\"T_3dd97_row10_col6\" class=\"data row10 col6\" >0.9740</td>\n",
              "    </tr>\n",
              "    <tr>\n",
              "      <th id=\"T_3dd97_level0_row11\" class=\"row_heading level0 row11\" >Std</th>\n",
              "      <td id=\"T_3dd97_row11_col0\" class=\"data row11 col0\" >0.0021</td>\n",
              "      <td id=\"T_3dd97_row11_col1\" class=\"data row11 col1\" >0.0010</td>\n",
              "      <td id=\"T_3dd97_row11_col2\" class=\"data row11 col2\" >0.0046</td>\n",
              "      <td id=\"T_3dd97_row11_col3\" class=\"data row11 col3\" >0.0084</td>\n",
              "      <td id=\"T_3dd97_row11_col4\" class=\"data row11 col4\" >0.0044</td>\n",
              "      <td id=\"T_3dd97_row11_col5\" class=\"data row11 col5\" >0.0058</td>\n",
              "      <td id=\"T_3dd97_row11_col6\" class=\"data row11 col6\" >0.0057</td>\n",
              "    </tr>\n",
              "  </tbody>\n",
              "</table>\n"
            ]
          },
          "metadata": {}
        },
        {
          "output_type": "display_data",
          "data": {
            "text/plain": [
              "Processing:   0%|          | 0/4 [00:00<?, ?it/s]"
            ],
            "application/vnd.jupyter.widget-view+json": {
              "version_major": 2,
              "version_minor": 0,
              "model_id": "8b8ab5abeef943e390905619ba6e7dd8"
            }
          },
          "metadata": {
            "application/vnd.jupyter.widget-view+json": {
              "colab": {
                "custom_widget_manager": {
                  "url": "https://ssl.gstatic.com/colaboratory-static/widgets/colab-cdn-widget-manager/b3e629b1971e1542/manager.min.js"
                }
              }
            }
          }
        },
        {
          "output_type": "display_data",
          "data": {
            "text/plain": [
              "<IPython.core.display.HTML object>"
            ],
            "text/html": []
          },
          "metadata": {}
        }
      ]
    },
    {
      "cell_type": "code",
      "source": [
        "#Finalizing the Experiment One\n",
        "finalModelOne = finalize_model(classifierOne)"
      ],
      "metadata": {
        "id": "dbcSOHyIqXhU"
      },
      "execution_count": 29,
      "outputs": []
    },
    {
      "cell_type": "markdown",
      "source": [
        "#### **Phase 5.4.2 Evaluating the Model 1**"
      ],
      "metadata": {
        "id": "qi99LgW8xNdY"
      }
    },
    {
      "cell_type": "code",
      "source": [
        "#Confusion Matrix\n",
        "plot_model(finalModelOne, plot = 'confusion_matrix')"
      ],
      "metadata": {
        "id": "dPTZKUsuxX27",
        "colab": {
          "base_uri": "https://localhost:8080/",
          "height": 551
        },
        "outputId": "9456ef20-4412-4943-8f6d-22ca0f50f4c1"
      },
      "execution_count": 30,
      "outputs": [
        {
          "output_type": "display_data",
          "data": {
            "text/plain": [
              "<IPython.core.display.HTML object>"
            ],
            "text/html": []
          },
          "metadata": {}
        },
        {
          "output_type": "display_data",
          "data": {
            "text/plain": [
              "<Figure size 800x550 with 1 Axes>"
            ],
            "image/png": "[encoded data removed]"
          },
          "metadata": {}
        }
      ]
    },
    {
      "cell_type": "code",
      "source": [
        "#Feature Importance\n",
        "plot_model(finalModelOne, plot = 'feature')"
      ],
      "metadata": {
        "id": "2pepzet_xYl1",
        "colab": {
          "base_uri": "https://localhost:8080/",
          "height": 485
        },
        "outputId": "13b4e051-add2-4539-e061-180df1b03e33"
      },
      "execution_count": 31,
      "outputs": [
        {
          "output_type": "display_data",
          "data": {
            "text/plain": [
              "<IPython.core.display.HTML object>"
            ],
            "text/html": []
          },
          "metadata": {}
        },
        {
          "output_type": "display_data",
          "data": {
            "text/plain": [
              "<Figure size 800x500 with 1 Axes>"
            ],
            "image/png": "[encoded data removed]"
          },
          "metadata": {}
        }
      ]
    },
    {
      "cell_type": "markdown",
      "source": [
        "### Phase 5.5 Model 2\n"
      ],
      "metadata": {
        "id": "G-53w85ms_gB"
      }
    },
    {
      "cell_type": "markdown",
      "source": [
        "#### **Phase 5.4.1 Training the Model 2**\n",
        "\n",
        "Features:\n",
        "*   Temperature\n",
        "*   Humidity\n",
        "*   Light\n",
        "*   Co2\n",
        "*   Time of Day\n",
        "*   Day of Week\n",
        "*   Occupancy (Target)\n",
        "\n"
      ],
      "metadata": {
        "id": "10NRqLPvyjiS"
      }
    },
    {
      "cell_type": "code",
      "source": [
        "experimentSecond = setup(modelSecond, target='Occupancy', fix_imbalance=True, fix_imbalance_method='randomundersampler', data_split_shuffle = True, train_size = 0.8)"
      ],
      "metadata": {
        "colab": {
          "base_uri": "https://localhost:8080/",
          "height": 700
        },
        "id": "oN7OxmHktTVa",
        "outputId": "c9ef4a3d-8c3e-4e29-8b65-0c1af9f9a96c"
      },
      "execution_count": 34,
      "outputs": [
        {
          "output_type": "display_data",
          "data": {
            "text/plain": [
              "<pandas.io.formats.style.Styler at 0x7fa314069210>"
            ],
            "text/html": [
              "<style type=\"text/css\">\n",
              "#T_3e944_row8_col1, #T_3e944_row12_col1 {\n",
              "  background-color: lightgreen;\n",
              "}\n",
              "</style>\n",
              "<table id=\"T_3e944\" class=\"dataframe\">\n",
              "  <thead>\n",
              "    <tr>\n",
              "      <th class=\"blank level0\" >&nbsp;</th>\n",
              "      <th id=\"T_3e944_level0_col0\" class=\"col_heading level0 col0\" >Description</th>\n",
              "      <th id=\"T_3e944_level0_col1\" class=\"col_heading level0 col1\" >Value</th>\n",
              "    </tr>\n",
              "  </thead>\n",
              "  <tbody>\n",
              "    <tr>\n",
              "      <th id=\"T_3e944_level0_row0\" class=\"row_heading level0 row0\" >0</th>\n",
              "      <td id=\"T_3e944_row0_col0\" class=\"data row0 col0\" >Session id</td>\n",
              "      <td id=\"T_3e944_row0_col1\" class=\"data row0 col1\" >178</td>\n",
              "    </tr>\n",
              "    <tr>\n",
              "      <th id=\"T_3e944_level0_row1\" class=\"row_heading level0 row1\" >1</th>\n",
              "      <td id=\"T_3e944_row1_col0\" class=\"data row1 col0\" >Target</td>\n",
              "      <td id=\"T_3e944_row1_col1\" class=\"data row1 col1\" >Occupancy</td>\n",
              "    </tr>\n",
              "    <tr>\n",
              "      <th id=\"T_3e944_level0_row2\" class=\"row_heading level0 row2\" >2</th>\n",
              "      <td id=\"T_3e944_row2_col0\" class=\"data row2 col0\" >Target type</td>\n",
              "      <td id=\"T_3e944_row2_col1\" class=\"data row2 col1\" >Binary</td>\n",
              "    </tr>\n",
              "    <tr>\n",
              "      <th id=\"T_3e944_level0_row3\" class=\"row_heading level0 row3\" >3</th>\n",
              "      <td id=\"T_3e944_row3_col0\" class=\"data row3 col0\" >Original data shape</td>\n",
              "      <td id=\"T_3e944_row3_col1\" class=\"data row3 col1\" >(18504, 7)</td>\n",
              "    </tr>\n",
              "    <tr>\n",
              "      <th id=\"T_3e944_level0_row4\" class=\"row_heading level0 row4\" >4</th>\n",
              "      <td id=\"T_3e944_row4_col0\" class=\"data row4 col0\" >Transformed data shape</td>\n",
              "      <td id=\"T_3e944_row4_col1\" class=\"data row4 col1\" >(10505, 7)</td>\n",
              "    </tr>\n",
              "    <tr>\n",
              "      <th id=\"T_3e944_level0_row5\" class=\"row_heading level0 row5\" >5</th>\n",
              "      <td id=\"T_3e944_row5_col0\" class=\"data row5 col0\" >Transformed train set shape</td>\n",
              "      <td id=\"T_3e944_row5_col1\" class=\"data row5 col1\" >(6804, 7)</td>\n",
              "    </tr>\n",
              "    <tr>\n",
              "      <th id=\"T_3e944_level0_row6\" class=\"row_heading level0 row6\" >6</th>\n",
              "      <td id=\"T_3e944_row6_col0\" class=\"data row6 col0\" >Transformed test set shape</td>\n",
              "      <td id=\"T_3e944_row6_col1\" class=\"data row6 col1\" >(3701, 7)</td>\n",
              "    </tr>\n",
              "    <tr>\n",
              "      <th id=\"T_3e944_level0_row7\" class=\"row_heading level0 row7\" >7</th>\n",
              "      <td id=\"T_3e944_row7_col0\" class=\"data row7 col0\" >Numeric features</td>\n",
              "      <td id=\"T_3e944_row7_col1\" class=\"data row7 col1\" >6</td>\n",
              "    </tr>\n",
              "    <tr>\n",
              "      <th id=\"T_3e944_level0_row8\" class=\"row_heading level0 row8\" >8</th>\n",
              "      <td id=\"T_3e944_row8_col0\" class=\"data row8 col0\" >Preprocess</td>\n",
              "      <td id=\"T_3e944_row8_col1\" class=\"data row8 col1\" >True</td>\n",
              "    </tr>\n",
              "    <tr>\n",
              "      <th id=\"T_3e944_level0_row9\" class=\"row_heading level0 row9\" >9</th>\n",
              "      <td id=\"T_3e944_row9_col0\" class=\"data row9 col0\" >Imputation type</td>\n",
              "      <td id=\"T_3e944_row9_col1\" class=\"data row9 col1\" >simple</td>\n",
              "    </tr>\n",
              "    <tr>\n",
              "      <th id=\"T_3e944_level0_row10\" class=\"row_heading level0 row10\" >10</th>\n",
              "      <td id=\"T_3e944_row10_col0\" class=\"data row10 col0\" >Numeric imputation</td>\n",
              "      <td id=\"T_3e944_row10_col1\" class=\"data row10 col1\" >mean</td>\n",
              "    </tr>\n",
              "    <tr>\n",
              "      <th id=\"T_3e944_level0_row11\" class=\"row_heading level0 row11\" >11</th>\n",
              "      <td id=\"T_3e944_row11_col0\" class=\"data row11 col0\" >Categorical imputation</td>\n",
              "      <td id=\"T_3e944_row11_col1\" class=\"data row11 col1\" >mode</td>\n",
              "    </tr>\n",
              "    <tr>\n",
              "      <th id=\"T_3e944_level0_row12\" class=\"row_heading level0 row12\" >12</th>\n",
              "      <td id=\"T_3e944_row12_col0\" class=\"data row12 col0\" >Fix imbalance</td>\n",
              "      <td id=\"T_3e944_row12_col1\" class=\"data row12 col1\" >True</td>\n",
              "    </tr>\n",
              "    <tr>\n",
              "      <th id=\"T_3e944_level0_row13\" class=\"row_heading level0 row13\" >13</th>\n",
              "      <td id=\"T_3e944_row13_col0\" class=\"data row13 col0\" >Fix imbalance method</td>\n",
              "      <td id=\"T_3e944_row13_col1\" class=\"data row13 col1\" >randomundersampler</td>\n",
              "    </tr>\n",
              "    <tr>\n",
              "      <th id=\"T_3e944_level0_row14\" class=\"row_heading level0 row14\" >14</th>\n",
              "      <td id=\"T_3e944_row14_col0\" class=\"data row14 col0\" >Fold Generator</td>\n",
              "      <td id=\"T_3e944_row14_col1\" class=\"data row14 col1\" >StratifiedKFold</td>\n",
              "    </tr>\n",
              "    <tr>\n",
              "      <th id=\"T_3e944_level0_row15\" class=\"row_heading level0 row15\" >15</th>\n",
              "      <td id=\"T_3e944_row15_col0\" class=\"data row15 col0\" >Fold Number</td>\n",
              "      <td id=\"T_3e944_row15_col1\" class=\"data row15 col1\" >10</td>\n",
              "    </tr>\n",
              "    <tr>\n",
              "      <th id=\"T_3e944_level0_row16\" class=\"row_heading level0 row16\" >16</th>\n",
              "      <td id=\"T_3e944_row16_col0\" class=\"data row16 col0\" >CPU Jobs</td>\n",
              "      <td id=\"T_3e944_row16_col1\" class=\"data row16 col1\" >-1</td>\n",
              "    </tr>\n",
              "    <tr>\n",
              "      <th id=\"T_3e944_level0_row17\" class=\"row_heading level0 row17\" >17</th>\n",
              "      <td id=\"T_3e944_row17_col0\" class=\"data row17 col0\" >Use GPU</td>\n",
              "      <td id=\"T_3e944_row17_col1\" class=\"data row17 col1\" >False</td>\n",
              "    </tr>\n",
              "    <tr>\n",
              "      <th id=\"T_3e944_level0_row18\" class=\"row_heading level0 row18\" >18</th>\n",
              "      <td id=\"T_3e944_row18_col0\" class=\"data row18 col0\" >Log Experiment</td>\n",
              "      <td id=\"T_3e944_row18_col1\" class=\"data row18 col1\" >False</td>\n",
              "    </tr>\n",
              "    <tr>\n",
              "      <th id=\"T_3e944_level0_row19\" class=\"row_heading level0 row19\" >19</th>\n",
              "      <td id=\"T_3e944_row19_col0\" class=\"data row19 col0\" >Experiment Name</td>\n",
              "      <td id=\"T_3e944_row19_col1\" class=\"data row19 col1\" >clf-default-name</td>\n",
              "    </tr>\n",
              "    <tr>\n",
              "      <th id=\"T_3e944_level0_row20\" class=\"row_heading level0 row20\" >20</th>\n",
              "      <td id=\"T_3e944_row20_col0\" class=\"data row20 col0\" >USI</td>\n",
              "      <td id=\"T_3e944_row20_col1\" class=\"data row20 col1\" >6b6c</td>\n",
              "    </tr>\n",
              "  </tbody>\n",
              "</table>\n"
            ]
          },
          "metadata": {}
        }
      ]
    },
    {
      "cell_type": "code",
      "source": [
        "best = compare_models()"
      ],
      "metadata": {
        "colab": {
          "base_uri": "https://localhost:8080/",
          "height": 514,
          "referenced_widgets": [
            "6a78e3b201a3455ca40cbb11cc7b5144",
            "ff7f7275c02d4288a955f093115181ae",
            "6f1cebc84d234f6da9a8bd78bbd07a45",
            "7913393cc48a441e82c0acd5c3506611",
            "b425bb94554644f889517d9cb1c03f2d",
            "d5e3754250354e6b87dabeeb6b556a3c",
            "85a297370b5d49c2bbc34b5f15ba2e96",
            "9e1a2f3a014f4863bda1f9b0f7735bd4",
            "0567ac22bc6f48b6b212060b90f4497b",
            "a828c9c1b83b4cb8b859db4ce845bd24",
            "77ec98b64d014829963b73500f31afcc"
          ]
        },
        "id": "-p9Of2kKtf1Y",
        "outputId": "917f554d-c62d-4214-904b-561b68e6c5f3"
      },
      "execution_count": 36,
      "outputs": [
        {
          "output_type": "display_data",
          "data": {
            "text/plain": [
              "<IPython.core.display.HTML object>"
            ],
            "text/html": []
          },
          "metadata": {}
        },
        {
          "output_type": "display_data",
          "data": {
            "text/plain": [
              "<pandas.io.formats.style.Styler at 0x7fa314069210>"
            ],
            "text/html": [
              "<style type=\"text/css\">\n",
              "#T_e0f03 th {\n",
              "  text-align: left;\n",
              "}\n",
              "#T_e0f03_row0_col0, #T_e0f03_row0_col2, #T_e0f03_row0_col3, #T_e0f03_row1_col0, #T_e0f03_row1_col1, #T_e0f03_row1_col3, #T_e0f03_row1_col4, #T_e0f03_row1_col5, #T_e0f03_row1_col6, #T_e0f03_row1_col7, #T_e0f03_row2_col0, #T_e0f03_row2_col1, #T_e0f03_row2_col3, #T_e0f03_row2_col4, #T_e0f03_row2_col5, #T_e0f03_row2_col6, #T_e0f03_row2_col7, #T_e0f03_row3_col0, #T_e0f03_row3_col1, #T_e0f03_row3_col2, #T_e0f03_row3_col3, #T_e0f03_row3_col4, #T_e0f03_row3_col5, #T_e0f03_row3_col6, #T_e0f03_row3_col7, #T_e0f03_row4_col0, #T_e0f03_row4_col1, #T_e0f03_row4_col2, #T_e0f03_row4_col3, #T_e0f03_row4_col4, #T_e0f03_row4_col5, #T_e0f03_row4_col6, #T_e0f03_row4_col7, #T_e0f03_row5_col0, #T_e0f03_row5_col1, #T_e0f03_row5_col2, #T_e0f03_row5_col4, #T_e0f03_row5_col5, #T_e0f03_row5_col6, #T_e0f03_row5_col7, #T_e0f03_row6_col0, #T_e0f03_row6_col1, #T_e0f03_row6_col2, #T_e0f03_row6_col3, #T_e0f03_row6_col4, #T_e0f03_row6_col5, #T_e0f03_row6_col6, #T_e0f03_row6_col7, #T_e0f03_row7_col0, #T_e0f03_row7_col1, #T_e0f03_row7_col2, #T_e0f03_row7_col3, #T_e0f03_row7_col4, #T_e0f03_row7_col5, #T_e0f03_row7_col6, #T_e0f03_row7_col7, #T_e0f03_row8_col0, #T_e0f03_row8_col1, #T_e0f03_row8_col2, #T_e0f03_row8_col3, #T_e0f03_row8_col4, #T_e0f03_row8_col5, #T_e0f03_row8_col6, #T_e0f03_row8_col7, #T_e0f03_row9_col0, #T_e0f03_row9_col1, #T_e0f03_row9_col2, #T_e0f03_row9_col3, #T_e0f03_row9_col4, #T_e0f03_row9_col5, #T_e0f03_row9_col6, #T_e0f03_row9_col7, #T_e0f03_row10_col0, #T_e0f03_row10_col1, #T_e0f03_row10_col2, #T_e0f03_row10_col3, #T_e0f03_row10_col4, #T_e0f03_row10_col5, #T_e0f03_row10_col6, #T_e0f03_row10_col7, #T_e0f03_row11_col0, #T_e0f03_row11_col1, #T_e0f03_row11_col2, #T_e0f03_row11_col3, #T_e0f03_row11_col4, #T_e0f03_row11_col5, #T_e0f03_row11_col6, #T_e0f03_row11_col7, #T_e0f03_row12_col0, #T_e0f03_row12_col1, #T_e0f03_row12_col2, #T_e0f03_row12_col3, #T_e0f03_row12_col4, #T_e0f03_row12_col5, #T_e0f03_row12_col6, #T_e0f03_row12_col7, #T_e0f03_row13_col0, #T_e0f03_row13_col1, #T_e0f03_row13_col2, #T_e0f03_row13_col4, #T_e0f03_row13_col5, #T_e0f03_row13_col6, #T_e0f03_row13_col7, #T_e0f03_row14_col0, #T_e0f03_row14_col1, #T_e0f03_row14_col2, #T_e0f03_row14_col3, #T_e0f03_row14_col4, #T_e0f03_row14_col5, #T_e0f03_row14_col6, #T_e0f03_row14_col7 {\n",
              "  text-align: left;\n",
              "}\n",
              "#T_e0f03_row0_col1, #T_e0f03_row0_col4, #T_e0f03_row0_col5, #T_e0f03_row0_col6, #T_e0f03_row0_col7, #T_e0f03_row1_col2, #T_e0f03_row2_col2, #T_e0f03_row5_col3, #T_e0f03_row13_col3 {\n",
              "  text-align: left;\n",
              "  background-color: yellow;\n",
              "}\n",
              "#T_e0f03_row0_col8, #T_e0f03_row1_col8, #T_e0f03_row2_col8, #T_e0f03_row3_col8, #T_e0f03_row4_col8, #T_e0f03_row5_col8, #T_e0f03_row6_col8, #T_e0f03_row7_col8, #T_e0f03_row8_col8, #T_e0f03_row9_col8, #T_e0f03_row11_col8, #T_e0f03_row12_col8, #T_e0f03_row13_col8, #T_e0f03_row14_col8 {\n",
              "  text-align: left;\n",
              "  background-color: lightgrey;\n",
              "}\n",
              "#T_e0f03_row10_col8 {\n",
              "  text-align: left;\n",
              "  background-color: yellow;\n",
              "  background-color: lightgrey;\n",
              "}\n",
              "</style>\n",
              "<table id=\"T_e0f03\" class=\"dataframe\">\n",
              "  <thead>\n",
              "    <tr>\n",
              "      <th class=\"blank level0\" >&nbsp;</th>\n",
              "      <th id=\"T_e0f03_level0_col0\" class=\"col_heading level0 col0\" >Model</th>\n",
              "      <th id=\"T_e0f03_level0_col1\" class=\"col_heading level0 col1\" >Accuracy</th>\n",
              "      <th id=\"T_e0f03_level0_col2\" class=\"col_heading level0 col2\" >AUC</th>\n",
              "      <th id=\"T_e0f03_level0_col3\" class=\"col_heading level0 col3\" >Recall</th>\n",
              "      <th id=\"T_e0f03_level0_col4\" class=\"col_heading level0 col4\" >Prec.</th>\n",
              "      <th id=\"T_e0f03_level0_col5\" class=\"col_heading level0 col5\" >F1</th>\n",
              "      <th id=\"T_e0f03_level0_col6\" class=\"col_heading level0 col6\" >Kappa</th>\n",
              "      <th id=\"T_e0f03_level0_col7\" class=\"col_heading level0 col7\" >MCC</th>\n",
              "      <th id=\"T_e0f03_level0_col8\" class=\"col_heading level0 col8\" >TT (Sec)</th>\n",
              "    </tr>\n",
              "  </thead>\n",
              "  <tbody>\n",
              "    <tr>\n",
              "      <th id=\"T_e0f03_level0_row0\" class=\"row_heading level0 row0\" >et</th>\n",
              "      <td id=\"T_e0f03_row0_col0\" class=\"data row0 col0\" >Extra Trees Classifier</td>\n",
              "      <td id=\"T_e0f03_row0_col1\" class=\"data row0 col1\" >0.9927</td>\n",
              "      <td id=\"T_e0f03_row0_col2\" class=\"data row0 col2\" >0.9982</td>\n",
              "      <td id=\"T_e0f03_row0_col3\" class=\"data row0 col3\" >0.9947</td>\n",
              "      <td id=\"T_e0f03_row0_col4\" class=\"data row0 col4\" >0.9742</td>\n",
              "      <td id=\"T_e0f03_row0_col5\" class=\"data row0 col5\" >0.9843</td>\n",
              "      <td id=\"T_e0f03_row0_col6\" class=\"data row0 col6\" >0.9796</td>\n",
              "      <td id=\"T_e0f03_row0_col7\" class=\"data row0 col7\" >0.9797</td>\n",
              "      <td id=\"T_e0f03_row0_col8\" class=\"data row0 col8\" >0.6490</td>\n",
              "    </tr>\n",
              "    <tr>\n",
              "      <th id=\"T_e0f03_level0_row1\" class=\"row_heading level0 row1\" >lightgbm</th>\n",
              "      <td id=\"T_e0f03_row1_col0\" class=\"data row1 col0\" >Light Gradient Boosting Machine</td>\n",
              "      <td id=\"T_e0f03_row1_col1\" class=\"data row1 col1\" >0.9921</td>\n",
              "      <td id=\"T_e0f03_row1_col2\" class=\"data row1 col2\" >0.9984</td>\n",
              "      <td id=\"T_e0f03_row1_col3\" class=\"data row1 col3\" >0.9971</td>\n",
              "      <td id=\"T_e0f03_row1_col4\" class=\"data row1 col4\" >0.9695</td>\n",
              "      <td id=\"T_e0f03_row1_col5\" class=\"data row1 col5\" >0.9831</td>\n",
              "      <td id=\"T_e0f03_row1_col6\" class=\"data row1 col6\" >0.9779</td>\n",
              "      <td id=\"T_e0f03_row1_col7\" class=\"data row1 col7\" >0.9781</td>\n",
              "      <td id=\"T_e0f03_row1_col8\" class=\"data row1 col8\" >0.2580</td>\n",
              "    </tr>\n",
              "    <tr>\n",
              "      <th id=\"T_e0f03_level0_row2\" class=\"row_heading level0 row2\" >rf</th>\n",
              "      <td id=\"T_e0f03_row2_col0\" class=\"data row2 col0\" >Random Forest Classifier</td>\n",
              "      <td id=\"T_e0f03_row2_col1\" class=\"data row2 col1\" >0.9915</td>\n",
              "      <td id=\"T_e0f03_row2_col2\" class=\"data row2 col2\" >0.9984</td>\n",
              "      <td id=\"T_e0f03_row2_col3\" class=\"data row2 col3\" >0.9956</td>\n",
              "      <td id=\"T_e0f03_row2_col4\" class=\"data row2 col4\" >0.9684</td>\n",
              "      <td id=\"T_e0f03_row2_col5\" class=\"data row2 col5\" >0.9818</td>\n",
              "      <td id=\"T_e0f03_row2_col6\" class=\"data row2 col6\" >0.9762</td>\n",
              "      <td id=\"T_e0f03_row2_col7\" class=\"data row2 col7\" >0.9764</td>\n",
              "      <td id=\"T_e0f03_row2_col8\" class=\"data row2 col8\" >1.1510</td>\n",
              "    </tr>\n",
              "    <tr>\n",
              "      <th id=\"T_e0f03_level0_row3\" class=\"row_heading level0 row3\" >xgboost</th>\n",
              "      <td id=\"T_e0f03_row3_col0\" class=\"data row3 col0\" >Extreme Gradient Boosting</td>\n",
              "      <td id=\"T_e0f03_row3_col1\" class=\"data row3 col1\" >0.9912</td>\n",
              "      <td id=\"T_e0f03_row3_col2\" class=\"data row3 col2\" >0.9980</td>\n",
              "      <td id=\"T_e0f03_row3_col3\" class=\"data row3 col3\" >0.9956</td>\n",
              "      <td id=\"T_e0f03_row3_col4\" class=\"data row3 col4\" >0.9670</td>\n",
              "      <td id=\"T_e0f03_row3_col5\" class=\"data row3 col5\" >0.9811</td>\n",
              "      <td id=\"T_e0f03_row3_col6\" class=\"data row3 col6\" >0.9753</td>\n",
              "      <td id=\"T_e0f03_row3_col7\" class=\"data row3 col7\" >0.9755</td>\n",
              "      <td id=\"T_e0f03_row3_col8\" class=\"data row3 col8\" >0.8060</td>\n",
              "    </tr>\n",
              "    <tr>\n",
              "      <th id=\"T_e0f03_level0_row4\" class=\"row_heading level0 row4\" >dt</th>\n",
              "      <td id=\"T_e0f03_row4_col0\" class=\"data row4 col0\" >Decision Tree Classifier</td>\n",
              "      <td id=\"T_e0f03_row4_col1\" class=\"data row4 col1\" >0.9896</td>\n",
              "      <td id=\"T_e0f03_row4_col2\" class=\"data row4 col2\" >0.9893</td>\n",
              "      <td id=\"T_e0f03_row4_col3\" class=\"data row4 col3\" >0.9888</td>\n",
              "      <td id=\"T_e0f03_row4_col4\" class=\"data row4 col4\" >0.9668</td>\n",
              "      <td id=\"T_e0f03_row4_col5\" class=\"data row4 col5\" >0.9776</td>\n",
              "      <td id=\"T_e0f03_row4_col6\" class=\"data row4 col6\" >0.9709</td>\n",
              "      <td id=\"T_e0f03_row4_col7\" class=\"data row4 col7\" >0.9710</td>\n",
              "      <td id=\"T_e0f03_row4_col8\" class=\"data row4 col8\" >0.1150</td>\n",
              "    </tr>\n",
              "    <tr>\n",
              "      <th id=\"T_e0f03_level0_row5\" class=\"row_heading level0 row5\" >qda</th>\n",
              "      <td id=\"T_e0f03_row5_col0\" class=\"data row5 col0\" >Quadratic Discriminant Analysis</td>\n",
              "      <td id=\"T_e0f03_row5_col1\" class=\"data row5 col1\" >0.9892</td>\n",
              "      <td id=\"T_e0f03_row5_col2\" class=\"data row5 col2\" >0.9930</td>\n",
              "      <td id=\"T_e0f03_row5_col3\" class=\"data row5 col3\" >0.9982</td>\n",
              "      <td id=\"T_e0f03_row5_col4\" class=\"data row5 col4\" >0.9567</td>\n",
              "      <td id=\"T_e0f03_row5_col5\" class=\"data row5 col5\" >0.9770</td>\n",
              "      <td id=\"T_e0f03_row5_col6\" class=\"data row5 col6\" >0.9700</td>\n",
              "      <td id=\"T_e0f03_row5_col7\" class=\"data row5 col7\" >0.9704</td>\n",
              "      <td id=\"T_e0f03_row5_col8\" class=\"data row5 col8\" >0.1060</td>\n",
              "    </tr>\n",
              "    <tr>\n",
              "      <th id=\"T_e0f03_level0_row6\" class=\"row_heading level0 row6\" >lr</th>\n",
              "      <td id=\"T_e0f03_row6_col0\" class=\"data row6 col0\" >Logistic Regression</td>\n",
              "      <td id=\"T_e0f03_row6_col1\" class=\"data row6 col1\" >0.9889</td>\n",
              "      <td id=\"T_e0f03_row6_col2\" class=\"data row6 col2\" >0.9937</td>\n",
              "      <td id=\"T_e0f03_row6_col3\" class=\"data row6 col3\" >0.9971</td>\n",
              "      <td id=\"T_e0f03_row6_col4\" class=\"data row6 col4\" >0.9567</td>\n",
              "      <td id=\"T_e0f03_row6_col5\" class=\"data row6 col5\" >0.9764</td>\n",
              "      <td id=\"T_e0f03_row6_col6\" class=\"data row6 col6\" >0.9692</td>\n",
              "      <td id=\"T_e0f03_row6_col7\" class=\"data row6 col7\" >0.9696</td>\n",
              "      <td id=\"T_e0f03_row6_col8\" class=\"data row6 col8\" >0.2130</td>\n",
              "    </tr>\n",
              "    <tr>\n",
              "      <th id=\"T_e0f03_level0_row7\" class=\"row_heading level0 row7\" >ada</th>\n",
              "      <td id=\"T_e0f03_row7_col0\" class=\"data row7 col0\" >Ada Boost Classifier</td>\n",
              "      <td id=\"T_e0f03_row7_col1\" class=\"data row7 col1\" >0.9889</td>\n",
              "      <td id=\"T_e0f03_row7_col2\" class=\"data row7 col2\" >0.9971</td>\n",
              "      <td id=\"T_e0f03_row7_col3\" class=\"data row7 col3\" >0.9950</td>\n",
              "      <td id=\"T_e0f03_row7_col4\" class=\"data row7 col4\" >0.9585</td>\n",
              "      <td id=\"T_e0f03_row7_col5\" class=\"data row7 col5\" >0.9764</td>\n",
              "      <td id=\"T_e0f03_row7_col6\" class=\"data row7 col6\" >0.9691</td>\n",
              "      <td id=\"T_e0f03_row7_col7\" class=\"data row7 col7\" >0.9695</td>\n",
              "      <td id=\"T_e0f03_row7_col8\" class=\"data row7 col8\" >0.4470</td>\n",
              "    </tr>\n",
              "    <tr>\n",
              "      <th id=\"T_e0f03_level0_row8\" class=\"row_heading level0 row8\" >gbc</th>\n",
              "      <td id=\"T_e0f03_row8_col0\" class=\"data row8 col0\" >Gradient Boosting Classifier</td>\n",
              "      <td id=\"T_e0f03_row8_col1\" class=\"data row8 col1\" >0.9889</td>\n",
              "      <td id=\"T_e0f03_row8_col2\" class=\"data row8 col2\" >0.9975</td>\n",
              "      <td id=\"T_e0f03_row8_col3\" class=\"data row8 col3\" >0.9950</td>\n",
              "      <td id=\"T_e0f03_row8_col4\" class=\"data row8 col4\" >0.9583</td>\n",
              "      <td id=\"T_e0f03_row8_col5\" class=\"data row8 col5\" >0.9762</td>\n",
              "      <td id=\"T_e0f03_row8_col6\" class=\"data row8 col6\" >0.9690</td>\n",
              "      <td id=\"T_e0f03_row8_col7\" class=\"data row8 col7\" >0.9693</td>\n",
              "      <td id=\"T_e0f03_row8_col8\" class=\"data row8 col8\" >1.2200</td>\n",
              "    </tr>\n",
              "    <tr>\n",
              "      <th id=\"T_e0f03_level0_row9\" class=\"row_heading level0 row9\" >knn</th>\n",
              "      <td id=\"T_e0f03_row9_col0\" class=\"data row9 col0\" >K Neighbors Classifier</td>\n",
              "      <td id=\"T_e0f03_row9_col1\" class=\"data row9 col1\" >0.9884</td>\n",
              "      <td id=\"T_e0f03_row9_col2\" class=\"data row9 col2\" >0.9940</td>\n",
              "      <td id=\"T_e0f03_row9_col3\" class=\"data row9 col3\" >0.9947</td>\n",
              "      <td id=\"T_e0f03_row9_col4\" class=\"data row9 col4\" >0.9566</td>\n",
              "      <td id=\"T_e0f03_row9_col5\" class=\"data row9 col5\" >0.9752</td>\n",
              "      <td id=\"T_e0f03_row9_col6\" class=\"data row9 col6\" >0.9677</td>\n",
              "      <td id=\"T_e0f03_row9_col7\" class=\"data row9 col7\" >0.9680</td>\n",
              "      <td id=\"T_e0f03_row9_col8\" class=\"data row9 col8\" >0.1610</td>\n",
              "    </tr>\n",
              "    <tr>\n",
              "      <th id=\"T_e0f03_level0_row10\" class=\"row_heading level0 row10\" >ridge</th>\n",
              "      <td id=\"T_e0f03_row10_col0\" class=\"data row10 col0\" >Ridge Classifier</td>\n",
              "      <td id=\"T_e0f03_row10_col1\" class=\"data row10 col1\" >0.9879</td>\n",
              "      <td id=\"T_e0f03_row10_col2\" class=\"data row10 col2\" >0.0000</td>\n",
              "      <td id=\"T_e0f03_row10_col3\" class=\"data row10 col3\" >0.9979</td>\n",
              "      <td id=\"T_e0f03_row10_col4\" class=\"data row10 col4\" >0.9519</td>\n",
              "      <td id=\"T_e0f03_row10_col5\" class=\"data row10 col5\" >0.9743</td>\n",
              "      <td id=\"T_e0f03_row10_col6\" class=\"data row10 col6\" >0.9664</td>\n",
              "      <td id=\"T_e0f03_row10_col7\" class=\"data row10 col7\" >0.9669</td>\n",
              "      <td id=\"T_e0f03_row10_col8\" class=\"data row10 col8\" >0.0880</td>\n",
              "    </tr>\n",
              "    <tr>\n",
              "      <th id=\"T_e0f03_level0_row11\" class=\"row_heading level0 row11\" >lda</th>\n",
              "      <td id=\"T_e0f03_row11_col0\" class=\"data row11 col0\" >Linear Discriminant Analysis</td>\n",
              "      <td id=\"T_e0f03_row11_col1\" class=\"data row11 col1\" >0.9879</td>\n",
              "      <td id=\"T_e0f03_row11_col2\" class=\"data row11 col2\" >0.9932</td>\n",
              "      <td id=\"T_e0f03_row11_col3\" class=\"data row11 col3\" >0.9979</td>\n",
              "      <td id=\"T_e0f03_row11_col4\" class=\"data row11 col4\" >0.9519</td>\n",
              "      <td id=\"T_e0f03_row11_col5\" class=\"data row11 col5\" >0.9743</td>\n",
              "      <td id=\"T_e0f03_row11_col6\" class=\"data row11 col6\" >0.9664</td>\n",
              "      <td id=\"T_e0f03_row11_col7\" class=\"data row11 col7\" >0.9669</td>\n",
              "      <td id=\"T_e0f03_row11_col8\" class=\"data row11 col8\" >0.1230</td>\n",
              "    </tr>\n",
              "    <tr>\n",
              "      <th id=\"T_e0f03_level0_row12\" class=\"row_heading level0 row12\" >svm</th>\n",
              "      <td id=\"T_e0f03_row12_col0\" class=\"data row12 col0\" >SVM - Linear Kernel</td>\n",
              "      <td id=\"T_e0f03_row12_col1\" class=\"data row12 col1\" >0.9722</td>\n",
              "      <td id=\"T_e0f03_row12_col2\" class=\"data row12 col2\" >0.0000</td>\n",
              "      <td id=\"T_e0f03_row12_col3\" class=\"data row12 col3\" >0.9824</td>\n",
              "      <td id=\"T_e0f03_row12_col4\" class=\"data row12 col4\" >0.9123</td>\n",
              "      <td id=\"T_e0f03_row12_col5\" class=\"data row12 col5\" >0.9438</td>\n",
              "      <td id=\"T_e0f03_row12_col6\" class=\"data row12 col6\" >0.9255</td>\n",
              "      <td id=\"T_e0f03_row12_col7\" class=\"data row12 col7\" >0.9286</td>\n",
              "      <td id=\"T_e0f03_row12_col8\" class=\"data row12 col8\" >0.1070</td>\n",
              "    </tr>\n",
              "    <tr>\n",
              "      <th id=\"T_e0f03_level0_row13\" class=\"row_heading level0 row13\" >nb</th>\n",
              "      <td id=\"T_e0f03_row13_col0\" class=\"data row13 col0\" >Naive Bayes</td>\n",
              "      <td id=\"T_e0f03_row13_col1\" class=\"data row13 col1\" >0.9659</td>\n",
              "      <td id=\"T_e0f03_row13_col2\" class=\"data row13 col2\" >0.9936</td>\n",
              "      <td id=\"T_e0f03_row13_col3\" class=\"data row13 col3\" >0.9982</td>\n",
              "      <td id=\"T_e0f03_row13_col4\" class=\"data row13 col4\" >0.8720</td>\n",
              "      <td id=\"T_e0f03_row13_col5\" class=\"data row13 col5\" >0.9308</td>\n",
              "      <td id=\"T_e0f03_row13_col6\" class=\"data row13 col6\" >0.9083</td>\n",
              "      <td id=\"T_e0f03_row13_col7\" class=\"data row13 col7\" >0.9120</td>\n",
              "      <td id=\"T_e0f03_row13_col8\" class=\"data row13 col8\" >0.1030</td>\n",
              "    </tr>\n",
              "    <tr>\n",
              "      <th id=\"T_e0f03_level0_row14\" class=\"row_heading level0 row14\" >dummy</th>\n",
              "      <td id=\"T_e0f03_row14_col0\" class=\"data row14 col0\" >Dummy Classifier</td>\n",
              "      <td id=\"T_e0f03_row14_col1\" class=\"data row14 col1\" >0.7702</td>\n",
              "      <td id=\"T_e0f03_row14_col2\" class=\"data row14 col2\" >0.5000</td>\n",
              "      <td id=\"T_e0f03_row14_col3\" class=\"data row14 col3\" >0.0000</td>\n",
              "      <td id=\"T_e0f03_row14_col4\" class=\"data row14 col4\" >0.0000</td>\n",
              "      <td id=\"T_e0f03_row14_col5\" class=\"data row14 col5\" >0.0000</td>\n",
              "      <td id=\"T_e0f03_row14_col6\" class=\"data row14 col6\" >0.0000</td>\n",
              "      <td id=\"T_e0f03_row14_col7\" class=\"data row14 col7\" >0.0000</td>\n",
              "      <td id=\"T_e0f03_row14_col8\" class=\"data row14 col8\" >0.1060</td>\n",
              "    </tr>\n",
              "  </tbody>\n",
              "</table>\n"
            ]
          },
          "metadata": {}
        },
        {
          "output_type": "display_data",
          "data": {
            "text/plain": [
              "Processing:   0%|          | 0/65 [00:00<?, ?it/s]"
            ],
            "application/vnd.jupyter.widget-view+json": {
              "version_major": 2,
              "version_minor": 0,
              "model_id": "6a78e3b201a3455ca40cbb11cc7b5144"
            }
          },
          "metadata": {
            "application/vnd.jupyter.widget-view+json": {
              "colab": {
                "custom_widget_manager": {
                  "url": "https://ssl.gstatic.com/colaboratory-static/widgets/colab-cdn-widget-manager/b3e629b1971e1542/manager.min.js"
                }
              }
            }
          }
        },
        {
          "output_type": "display_data",
          "data": {
            "text/plain": [
              "<IPython.core.display.HTML object>"
            ],
            "text/html": []
          },
          "metadata": {}
        }
      ]
    },
    {
      "cell_type": "markdown",
      "source": [
        "From the above result, we can decide that the Extra Trees Classifier is the most suitable model for the training operation. We can select the et (extra trees) for the training process as it has the most,\n",
        "\n",
        "*   Accuracy (99.27%)\n",
        "*   Recall value (0.9947)\n",
        "*   Precision (0.9742)\n",
        "*   F1 Score (0.9843)\n",
        "\n",
        "As the above scores are satisfying, we can continue with the Extra Trees Classifier ML model to train our Second Model."
      ],
      "metadata": {
        "id": "GSV-tB1PhiCA"
      }
    },
    {
      "cell_type": "code",
      "source": [
        "classifierTwo = create_model('et')"
      ],
      "metadata": {
        "colab": {
          "base_uri": "https://localhost:8080/",
          "height": 452,
          "referenced_widgets": [
            "0e5a3409e3dd4e5aa840a67270dce91c",
            "8e3f93ca7f294a82a939b68b94fed036",
            "4136b2226e7e49189e5ba9c7e6dac1e7",
            "f34f68f76cc142a5bef15fc45852bcd4",
            "82ee8d42abda42c1bc25a8d596aebafa",
            "91e526bd1dca4e04b5198b209f300136",
            "298dd00b4fce45da8ae507753d13ca6a",
            "264af75ca2b946deb477277357da0a00",
            "f7b0e802395c421cab85db2364008b36",
            "61710b01f4a042628da8fb6cc180b73a",
            "60428bbcf6744f109a9896b0ea97b826"
          ]
        },
        "id": "qhayNEIbuG0v",
        "outputId": "e8720a14-4f33-45b1-9280-a7bb6474da01"
      },
      "execution_count": 37,
      "outputs": [
        {
          "output_type": "display_data",
          "data": {
            "text/plain": [
              "<IPython.core.display.HTML object>"
            ],
            "text/html": []
          },
          "metadata": {}
        },
        {
          "output_type": "display_data",
          "data": {
            "text/plain": [
              "<pandas.io.formats.style.Styler at 0x7fa312546680>"
            ],
            "text/html": [
              "<style type=\"text/css\">\n",
              "#T_633b4_row10_col0, #T_633b4_row10_col1, #T_633b4_row10_col2, #T_633b4_row10_col3, #T_633b4_row10_col4, #T_633b4_row10_col5, #T_633b4_row10_col6 {\n",
              "  background: yellow;\n",
              "}\n",
              "</style>\n",
              "<table id=\"T_633b4\" class=\"dataframe\">\n",
              "  <thead>\n",
              "    <tr>\n",
              "      <th class=\"blank level0\" >&nbsp;</th>\n",
              "      <th id=\"T_633b4_level0_col0\" class=\"col_heading level0 col0\" >Accuracy</th>\n",
              "      <th id=\"T_633b4_level0_col1\" class=\"col_heading level0 col1\" >AUC</th>\n",
              "      <th id=\"T_633b4_level0_col2\" class=\"col_heading level0 col2\" >Recall</th>\n",
              "      <th id=\"T_633b4_level0_col3\" class=\"col_heading level0 col3\" >Prec.</th>\n",
              "      <th id=\"T_633b4_level0_col4\" class=\"col_heading level0 col4\" >F1</th>\n",
              "      <th id=\"T_633b4_level0_col5\" class=\"col_heading level0 col5\" >Kappa</th>\n",
              "      <th id=\"T_633b4_level0_col6\" class=\"col_heading level0 col6\" >MCC</th>\n",
              "    </tr>\n",
              "    <tr>\n",
              "      <th class=\"index_name level0\" >Fold</th>\n",
              "      <th class=\"blank col0\" >&nbsp;</th>\n",
              "      <th class=\"blank col1\" >&nbsp;</th>\n",
              "      <th class=\"blank col2\" >&nbsp;</th>\n",
              "      <th class=\"blank col3\" >&nbsp;</th>\n",
              "      <th class=\"blank col4\" >&nbsp;</th>\n",
              "      <th class=\"blank col5\" >&nbsp;</th>\n",
              "      <th class=\"blank col6\" >&nbsp;</th>\n",
              "    </tr>\n",
              "  </thead>\n",
              "  <tbody>\n",
              "    <tr>\n",
              "      <th id=\"T_633b4_level0_row0\" class=\"row_heading level0 row0\" >0</th>\n",
              "      <td id=\"T_633b4_row0_col0\" class=\"data row0 col0\" >0.9905</td>\n",
              "      <td id=\"T_633b4_row0_col1\" class=\"data row0 col1\" >0.9986</td>\n",
              "      <td id=\"T_633b4_row0_col2\" class=\"data row0 col2\" >1.0000</td>\n",
              "      <td id=\"T_633b4_row0_col3\" class=\"data row0 col3\" >0.9605</td>\n",
              "      <td id=\"T_633b4_row0_col4\" class=\"data row0 col4\" >0.9798</td>\n",
              "      <td id=\"T_633b4_row0_col5\" class=\"data row0 col5\" >0.9737</td>\n",
              "      <td id=\"T_633b4_row0_col6\" class=\"data row0 col6\" >0.9740</td>\n",
              "    </tr>\n",
              "    <tr>\n",
              "      <th id=\"T_633b4_level0_row1\" class=\"row_heading level0 row1\" >1</th>\n",
              "      <td id=\"T_633b4_row1_col0\" class=\"data row1 col0\" >0.9899</td>\n",
              "      <td id=\"T_633b4_row1_col1\" class=\"data row1 col1\" >0.9983</td>\n",
              "      <td id=\"T_633b4_row1_col2\" class=\"data row1 col2\" >0.9883</td>\n",
              "      <td id=\"T_633b4_row1_col3\" class=\"data row1 col3\" >0.9684</td>\n",
              "      <td id=\"T_633b4_row1_col4\" class=\"data row1 col4\" >0.9782</td>\n",
              "      <td id=\"T_633b4_row1_col5\" class=\"data row1 col5\" >0.9716</td>\n",
              "      <td id=\"T_633b4_row1_col6\" class=\"data row1 col6\" >0.9717</td>\n",
              "    </tr>\n",
              "    <tr>\n",
              "      <th id=\"T_633b4_level0_row2\" class=\"row_heading level0 row2\" >2</th>\n",
              "      <td id=\"T_633b4_row2_col0\" class=\"data row2 col0\" >0.9926</td>\n",
              "      <td id=\"T_633b4_row2_col1\" class=\"data row2 col1\" >0.9978</td>\n",
              "      <td id=\"T_633b4_row2_col2\" class=\"data row2 col2\" >0.9912</td>\n",
              "      <td id=\"T_633b4_row2_col3\" class=\"data row2 col3\" >0.9769</td>\n",
              "      <td id=\"T_633b4_row2_col4\" class=\"data row2 col4\" >0.9840</td>\n",
              "      <td id=\"T_633b4_row2_col5\" class=\"data row2 col5\" >0.9792</td>\n",
              "      <td id=\"T_633b4_row2_col6\" class=\"data row2 col6\" >0.9792</td>\n",
              "    </tr>\n",
              "    <tr>\n",
              "      <th id=\"T_633b4_level0_row3\" class=\"row_heading level0 row3\" >3</th>\n",
              "      <td id=\"T_633b4_row3_col0\" class=\"data row3 col0\" >0.9932</td>\n",
              "      <td id=\"T_633b4_row3_col1\" class=\"data row3 col1\" >0.9994</td>\n",
              "      <td id=\"T_633b4_row3_col2\" class=\"data row3 col2\" >1.0000</td>\n",
              "      <td id=\"T_633b4_row3_col3\" class=\"data row3 col3\" >0.9714</td>\n",
              "      <td id=\"T_633b4_row3_col4\" class=\"data row3 col4\" >0.9855</td>\n",
              "      <td id=\"T_633b4_row3_col5\" class=\"data row3 col5\" >0.9811</td>\n",
              "      <td id=\"T_633b4_row3_col6\" class=\"data row3 col6\" >0.9813</td>\n",
              "    </tr>\n",
              "    <tr>\n",
              "      <th id=\"T_633b4_level0_row4\" class=\"row_heading level0 row4\" >4</th>\n",
              "      <td id=\"T_633b4_row4_col0\" class=\"data row4 col0\" >0.9946</td>\n",
              "      <td id=\"T_633b4_row4_col1\" class=\"data row4 col1\" >0.9985</td>\n",
              "      <td id=\"T_633b4_row4_col2\" class=\"data row4 col2\" >0.9941</td>\n",
              "      <td id=\"T_633b4_row4_col3\" class=\"data row4 col3\" >0.9826</td>\n",
              "      <td id=\"T_633b4_row4_col4\" class=\"data row4 col4\" >0.9883</td>\n",
              "      <td id=\"T_633b4_row4_col5\" class=\"data row4 col5\" >0.9848</td>\n",
              "      <td id=\"T_633b4_row4_col6\" class=\"data row4 col6\" >0.9848</td>\n",
              "    </tr>\n",
              "    <tr>\n",
              "      <th id=\"T_633b4_level0_row5\" class=\"row_heading level0 row5\" >5</th>\n",
              "      <td id=\"T_633b4_row5_col0\" class=\"data row5 col0\" >0.9939</td>\n",
              "      <td id=\"T_633b4_row5_col1\" class=\"data row5 col1\" >0.9994</td>\n",
              "      <td id=\"T_633b4_row5_col2\" class=\"data row5 col2\" >0.9941</td>\n",
              "      <td id=\"T_633b4_row5_col3\" class=\"data row5 col3\" >0.9797</td>\n",
              "      <td id=\"T_633b4_row5_col4\" class=\"data row5 col4\" >0.9869</td>\n",
              "      <td id=\"T_633b4_row5_col5\" class=\"data row5 col5\" >0.9829</td>\n",
              "      <td id=\"T_633b4_row5_col6\" class=\"data row5 col6\" >0.9829</td>\n",
              "    </tr>\n",
              "    <tr>\n",
              "      <th id=\"T_633b4_level0_row6\" class=\"row_heading level0 row6\" >6</th>\n",
              "      <td id=\"T_633b4_row6_col0\" class=\"data row6 col0\" >0.9946</td>\n",
              "      <td id=\"T_633b4_row6_col1\" class=\"data row6 col1\" >0.9993</td>\n",
              "      <td id=\"T_633b4_row6_col2\" class=\"data row6 col2\" >0.9941</td>\n",
              "      <td id=\"T_633b4_row6_col3\" class=\"data row6 col3\" >0.9826</td>\n",
              "      <td id=\"T_633b4_row6_col4\" class=\"data row6 col4\" >0.9883</td>\n",
              "      <td id=\"T_633b4_row6_col5\" class=\"data row6 col5\" >0.9848</td>\n",
              "      <td id=\"T_633b4_row6_col6\" class=\"data row6 col6\" >0.9848</td>\n",
              "    </tr>\n",
              "    <tr>\n",
              "      <th id=\"T_633b4_level0_row7\" class=\"row_heading level0 row7\" >7</th>\n",
              "      <td id=\"T_633b4_row7_col0\" class=\"data row7 col0\" >0.9932</td>\n",
              "      <td id=\"T_633b4_row7_col1\" class=\"data row7 col1\" >0.9994</td>\n",
              "      <td id=\"T_633b4_row7_col2\" class=\"data row7 col2\" >0.9912</td>\n",
              "      <td id=\"T_633b4_row7_col3\" class=\"data row7 col3\" >0.9797</td>\n",
              "      <td id=\"T_633b4_row7_col4\" class=\"data row7 col4\" >0.9854</td>\n",
              "      <td id=\"T_633b4_row7_col5\" class=\"data row7 col5\" >0.9810</td>\n",
              "      <td id=\"T_633b4_row7_col6\" class=\"data row7 col6\" >0.9810</td>\n",
              "    </tr>\n",
              "    <tr>\n",
              "      <th id=\"T_633b4_level0_row8\" class=\"row_heading level0 row8\" >8</th>\n",
              "      <td id=\"T_633b4_row8_col0\" class=\"data row8 col0\" >0.9939</td>\n",
              "      <td id=\"T_633b4_row8_col1\" class=\"data row8 col1\" >0.9987</td>\n",
              "      <td id=\"T_633b4_row8_col2\" class=\"data row8 col2\" >1.0000</td>\n",
              "      <td id=\"T_633b4_row8_col3\" class=\"data row8 col3\" >0.9742</td>\n",
              "      <td id=\"T_633b4_row8_col4\" class=\"data row8 col4\" >0.9869</td>\n",
              "      <td id=\"T_633b4_row8_col5\" class=\"data row8 col5\" >0.9830</td>\n",
              "      <td id=\"T_633b4_row8_col6\" class=\"data row8 col6\" >0.9831</td>\n",
              "    </tr>\n",
              "    <tr>\n",
              "      <th id=\"T_633b4_level0_row9\" class=\"row_heading level0 row9\" >9</th>\n",
              "      <td id=\"T_633b4_row9_col0\" class=\"data row9 col0\" >0.9885</td>\n",
              "      <td id=\"T_633b4_row9_col1\" class=\"data row9 col1\" >0.9968</td>\n",
              "      <td id=\"T_633b4_row9_col2\" class=\"data row9 col2\" >1.0000</td>\n",
              "      <td id=\"T_633b4_row9_col3\" class=\"data row9 col3\" >0.9524</td>\n",
              "      <td id=\"T_633b4_row9_col4\" class=\"data row9 col4\" >0.9756</td>\n",
              "      <td id=\"T_633b4_row9_col5\" class=\"data row9 col5\" >0.9681</td>\n",
              "      <td id=\"T_633b4_row9_col6\" class=\"data row9 col6\" >0.9686</td>\n",
              "    </tr>\n",
              "    <tr>\n",
              "      <th id=\"T_633b4_level0_row10\" class=\"row_heading level0 row10\" >Mean</th>\n",
              "      <td id=\"T_633b4_row10_col0\" class=\"data row10 col0\" >0.9925</td>\n",
              "      <td id=\"T_633b4_row10_col1\" class=\"data row10 col1\" >0.9986</td>\n",
              "      <td id=\"T_633b4_row10_col2\" class=\"data row10 col2\" >0.9953</td>\n",
              "      <td id=\"T_633b4_row10_col3\" class=\"data row10 col3\" >0.9728</td>\n",
              "      <td id=\"T_633b4_row10_col4\" class=\"data row10 col4\" >0.9839</td>\n",
              "      <td id=\"T_633b4_row10_col5\" class=\"data row10 col5\" >0.9790</td>\n",
              "      <td id=\"T_633b4_row10_col6\" class=\"data row10 col6\" >0.9792</td>\n",
              "    </tr>\n",
              "    <tr>\n",
              "      <th id=\"T_633b4_level0_row11\" class=\"row_heading level0 row11\" >Std</th>\n",
              "      <td id=\"T_633b4_row11_col0\" class=\"data row11 col0\" >0.0020</td>\n",
              "      <td id=\"T_633b4_row11_col1\" class=\"data row11 col1\" >0.0008</td>\n",
              "      <td id=\"T_633b4_row11_col2\" class=\"data row11 col2\" >0.0042</td>\n",
              "      <td id=\"T_633b4_row11_col3\" class=\"data row11 col3\" >0.0095</td>\n",
              "      <td id=\"T_633b4_row11_col4\" class=\"data row11 col4\" >0.0042</td>\n",
              "      <td id=\"T_633b4_row11_col5\" class=\"data row11 col5\" >0.0056</td>\n",
              "      <td id=\"T_633b4_row11_col6\" class=\"data row11 col6\" >0.0054</td>\n",
              "    </tr>\n",
              "  </tbody>\n",
              "</table>\n"
            ]
          },
          "metadata": {}
        },
        {
          "output_type": "display_data",
          "data": {
            "text/plain": [
              "Processing:   0%|          | 0/4 [00:00<?, ?it/s]"
            ],
            "application/vnd.jupyter.widget-view+json": {
              "version_major": 2,
              "version_minor": 0,
              "model_id": "0e5a3409e3dd4e5aa840a67270dce91c"
            }
          },
          "metadata": {
            "application/vnd.jupyter.widget-view+json": {
              "colab": {
                "custom_widget_manager": {
                  "url": "https://ssl.gstatic.com/colaboratory-static/widgets/colab-cdn-widget-manager/b3e629b1971e1542/manager.min.js"
                }
              }
            }
          }
        },
        {
          "output_type": "display_data",
          "data": {
            "text/plain": [
              "<IPython.core.display.HTML object>"
            ],
            "text/html": []
          },
          "metadata": {}
        }
      ]
    },
    {
      "cell_type": "code",
      "source": [
        "#Finalizing the Experiment Two\n",
        "finalModelTwo = finalize_model(classifierTwo)"
      ],
      "metadata": {
        "id": "7X28uej00qX2"
      },
      "execution_count": 38,
      "outputs": []
    },
    {
      "cell_type": "markdown",
      "source": [
        "#### **Phase 5.5.2 Evaluating the Model 2**"
      ],
      "metadata": {
        "id": "S1vKyUC91YEt"
      }
    },
    {
      "cell_type": "code",
      "source": [
        "plot_model(finalModelTwo, plot = 'confusion_matrix')"
      ],
      "metadata": {
        "colab": {
          "base_uri": "https://localhost:8080/",
          "height": 551
        },
        "id": "tpI1Nv-T28c1",
        "outputId": "059f58ae-6f67-44e5-a894-32579ccb7826"
      },
      "execution_count": 39,
      "outputs": [
        {
          "output_type": "display_data",
          "data": {
            "text/plain": [
              "<IPython.core.display.HTML object>"
            ],
            "text/html": []
          },
          "metadata": {}
        },
        {
          "output_type": "display_data",
          "data": {
            "text/plain": [
              "<Figure size 800x550 with 1 Axes>"
            ],
            "image/png": "[encoded data removed]"
          },
          "metadata": {}
        }
      ]
    },
    {
      "cell_type": "code",
      "source": [
        "plot_model(finalModelTwo, plot = 'feature')"
      ],
      "metadata": {
        "colab": {
          "base_uri": "https://localhost:8080/",
          "height": 485
        },
        "id": "SQknckpKoYvJ",
        "outputId": "4eefc5e9-84db-45bd-c3ee-72ea2b9e108d"
      },
      "execution_count": 40,
      "outputs": [
        {
          "output_type": "display_data",
          "data": {
            "text/plain": [
              "<IPython.core.display.HTML object>"
            ],
            "text/html": []
          },
          "metadata": {}
        },
        {
          "output_type": "display_data",
          "data": {
            "text/plain": [
              "<Figure size 800x500 with 1 Axes>"
            ],
            "image/png": "[encoded data removed]"
          },
          "metadata": {}
        }
      ]
    },
    {
      "cell_type": "markdown",
      "source": [
        "## Phase 6: Saving the Models for Deployment"
      ],
      "metadata": {
        "id": "4stoH9XgzOsj"
      }
    },
    {
      "cell_type": "code",
      "source": [
        "import joblib\n",
        "\n",
        "joblib.dump(finalModelTwo, 'energyM2V1.1.joblib')"
      ],
      "metadata": {
        "colab": {
          "base_uri": "https://localhost:8080/"
        },
        "id": "vsdNUb7AJBM2",
        "outputId": "b1d883f3-d485-4398-d3dd-1be6ef850974"
      },
      "execution_count": null,
      "outputs": [
        {
          "output_type": "execute_result",
          "data": {
            "text/plain": [
              "['energyM2V1.1.joblib']"
            ]
          },
          "metadata": {},
          "execution_count": 148
        }
      ]
    }
  ]
}